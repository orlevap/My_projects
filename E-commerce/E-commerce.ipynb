{
 "cells": [
  {
   "cell_type": "markdown",
   "metadata": {},
   "source": [
    "# E-commerce — Выявление профилей потребления\n",
    "\n",
    "## Задача:\n",
    "\n",
    "Сегментировать покупателей по профилю потребления.\n",
    "\n",
    "## Что хочет получить заказчик:\n",
    "\n",
    "Нужно помочь менеджеру продукта сформулировать персонализированные предложения для покупателей.\n",
    "\n",
    "## **Описание данных:**\n",
    "\n",
    "Датасет описывает транзакции интернет-магазина товаров для дома и быта «Пока все ещё тут».\n",
    "\n",
    "- `date` — дата заказа;\n",
    "- `customer_id` — идентификатор покупателя;\n",
    "- `order_id` — идентификатор заказа;\n",
    "- `product` — наименование товара;\n",
    "- `quantity` — количество товара в заказе;\n",
    "- `price` — цена товара.\n",
    "\n",
    "## Стадии проекта: <a class=\"anchor\" id=\"0-bullet\">\n",
    "\n",
    "#### [1. Предобработка данных.](#1-bullet)\n",
    " - [Исследовать пропущенные значения и соответствия типов;](#2-bullet)\n",
    " - [Привести тип даты к корректному значению;](#3-bullet)\n",
    " - [Проверить корректность наименований колонок;](#4-bullet)\n",
    " - [Исследовать дубликаты;](#5-bullet)\n",
    "    \n",
    "#### [2. Исследовательский анализ данных.](#6-bullet)\n",
    "    \n",
    " - [Цена товара. Обработка выбросов](#7-bullet)\n",
    " - [Количество товара в заказе. Обработка выбросов](#8-bullet)\n",
    " - [Количество наименований в заказе. Обработка выбросов](#9-bullet)\n",
    " - [Количество заказов на одного пользователя. Обработка выбросов](#10-bullet)\n",
    " - [Средний чек. Обработка выбросов](#11-bullet)\n",
    " - [Количество заказов по дням](#12-bullet)\n",
    "    \n",
    "#### [3. Сегментирование покупателей по профилю потребления](#13-bullet)\n",
    "    \n",
    " - [Лемматизация](#14-bullet)\n",
    " - [Кластеризация](#15-bullet)\n",
    " - [Сводная таблица по категориям товаров и кластерам](#16-bullet)\n",
    "\n",
    "#### [4. Сформулировать и проверить гипотезы.](#17-bullet)\n",
    "    \n",
    "#### [5. Персонализированное предложение для групп покупателей](#18-bullet)\n",
    "    \n",
    "#### [6. Презентация](#19-bullet)\n"
   ]
  },
  {
   "cell_type": "markdown",
   "metadata": {},
   "source": [
    "### 1. Предобработка данных. <a class=\"anchor\" id=\"1-bullet\"></a>\n",
    "👈[назад к оглавлению](#0-bullet)"
   ]
  },
  {
   "cell_type": "markdown",
   "metadata": {},
   "source": [
    "Импорт библиотек"
   ]
  },
  {
   "cell_type": "code",
   "execution_count": 1,
   "metadata": {},
   "outputs": [],
   "source": [
    "import pandas as pd\n",
    "import scipy.stats as stats\n",
    "import datetime as dt\n",
    "import numpy as np\n",
    "from IPython.display import display\n",
    "import matplotlib.pyplot as plt\n",
    "import numpy as np\n",
    "from IPython.display import display\n",
    "from scipy import stats as st\n",
    "import random\n",
    "import seaborn as sns\n",
    "from pandas.plotting import register_matplotlib_converters\n",
    "from io import BytesIO\n",
    "import requests\n",
    "import matplotlib.ticker as mtick\n",
    "from scipy import stats as st\n",
    "import numpy as np\n",
    "import math as mth\n",
    "from plotly import graph_objects as go\n",
    "from sklearn.model_selection import train_test_split\n",
    "from sklearn.linear_model import LogisticRegression\n",
    "from sklearn.tree import DecisionTreeClassifier\n",
    "from sklearn.ensemble import RandomForestClassifier\n",
    "from sklearn.metrics import accuracy_score, precision_score, recall_score, f1_score\n",
    "from sklearn.metrics import roc_auc_score\n",
    "from sklearn.preprocessing import StandardScaler\n",
    "from sklearn.cluster import KMeans\n",
    "import seaborn as sns\n",
    "import matplotlib.pyplot as plt\n",
    "from scipy.cluster.hierarchy import dendrogram, linkage\n",
    "import warnings\n",
    "warnings.filterwarnings('ignore')"
   ]
  },
  {
   "cell_type": "code",
   "execution_count": 2,
   "metadata": {},
   "outputs": [],
   "source": [
    "data = pd.read_csv('ecommerce_dataset.csv')"
   ]
  },
  {
   "cell_type": "code",
   "execution_count": 3,
   "metadata": {},
   "outputs": [
    {
     "data": {
      "text/html": [
       "<div>\n",
       "<style scoped>\n",
       "    .dataframe tbody tr th:only-of-type {\n",
       "        vertical-align: middle;\n",
       "    }\n",
       "\n",
       "    .dataframe tbody tr th {\n",
       "        vertical-align: top;\n",
       "    }\n",
       "\n",
       "    .dataframe thead th {\n",
       "        text-align: right;\n",
       "    }\n",
       "</style>\n",
       "<table border=\"1\" class=\"dataframe\">\n",
       "  <thead>\n",
       "    <tr style=\"text-align: right;\">\n",
       "      <th></th>\n",
       "      <th>date</th>\n",
       "      <th>customer_id</th>\n",
       "      <th>order_id</th>\n",
       "      <th>product</th>\n",
       "      <th>quantity</th>\n",
       "      <th>price</th>\n",
       "    </tr>\n",
       "  </thead>\n",
       "  <tbody>\n",
       "    <tr>\n",
       "      <td>6490</td>\n",
       "      <td>2019100118</td>\n",
       "      <td>3e5908af-3bba-4fb0-90cf-31a03ddc13f2</td>\n",
       "      <td>72828</td>\n",
       "      <td>Муляж Зеленое яблоко полиуретан d-5 см</td>\n",
       "      <td>3</td>\n",
       "      <td>22.0</td>\n",
       "    </tr>\n",
       "    <tr>\n",
       "      <td>5546</td>\n",
       "      <td>2019062222</td>\n",
       "      <td>4e861452-b692-48dc-b756-99a130b7a70a</td>\n",
       "      <td>14872</td>\n",
       "      <td>Однолетнее растение Петуния простая в кассете ...</td>\n",
       "      <td>1</td>\n",
       "      <td>82.0</td>\n",
       "    </tr>\n",
       "    <tr>\n",
       "      <td>5711</td>\n",
       "      <td>2019070515</td>\n",
       "      <td>0d4d02d0-46e7-4219-aa8c-49b180d6aa30</td>\n",
       "      <td>71885</td>\n",
       "      <td>Стяжка оконная с болтом СТ-55 цинк, 1108354</td>\n",
       "      <td>4</td>\n",
       "      <td>22.0</td>\n",
       "    </tr>\n",
       "    <tr>\n",
       "      <td>6218</td>\n",
       "      <td>2019082914</td>\n",
       "      <td>9521bc4c-d409-4302-b368-5de43fc55a8a</td>\n",
       "      <td>72448</td>\n",
       "      <td>Ручка мебельная кольцо овальное хром, 1108416</td>\n",
       "      <td>5</td>\n",
       "      <td>29.0</td>\n",
       "    </tr>\n",
       "    <tr>\n",
       "      <td>1493</td>\n",
       "      <td>2019011219</td>\n",
       "      <td>eb6521ae-56e3-4a72-9ea2-e9c69701ff3f</td>\n",
       "      <td>14522</td>\n",
       "      <td>Пеларгония зональная диам. 12 см сиреневый пол...</td>\n",
       "      <td>1</td>\n",
       "      <td>150.0</td>\n",
       "    </tr>\n",
       "  </tbody>\n",
       "</table>\n",
       "</div>"
      ],
      "text/plain": [
       "            date                           customer_id  order_id  \\\n",
       "6490  2019100118  3e5908af-3bba-4fb0-90cf-31a03ddc13f2     72828   \n",
       "5546  2019062222  4e861452-b692-48dc-b756-99a130b7a70a     14872   \n",
       "5711  2019070515  0d4d02d0-46e7-4219-aa8c-49b180d6aa30     71885   \n",
       "6218  2019082914  9521bc4c-d409-4302-b368-5de43fc55a8a     72448   \n",
       "1493  2019011219  eb6521ae-56e3-4a72-9ea2-e9c69701ff3f     14522   \n",
       "\n",
       "                                                product  quantity  price  \n",
       "6490             Муляж Зеленое яблоко полиуретан d-5 см         3   22.0  \n",
       "5546  Однолетнее растение Петуния простая в кассете ...         1   82.0  \n",
       "5711        Стяжка оконная с болтом СТ-55 цинк, 1108354         4   22.0  \n",
       "6218      Ручка мебельная кольцо овальное хром, 1108416         5   29.0  \n",
       "1493  Пеларгония зональная диам. 12 см сиреневый пол...         1  150.0  "
      ]
     },
     "execution_count": 3,
     "metadata": {},
     "output_type": "execute_result"
    }
   ],
   "source": [
    "data.sample(5)"
   ]
  },
  {
   "cell_type": "markdown",
   "metadata": {},
   "source": [
    "### Пропущенные значения и соответствия типов <a class=\"anchor\" id=\"2-bullet\"></a>\n",
    "👈[назад к оглавлению](#0-bullet)"
   ]
  },
  {
   "cell_type": "code",
   "execution_count": 4,
   "metadata": {},
   "outputs": [
    {
     "name": "stdout",
     "output_type": "stream",
     "text": [
      "<class 'pandas.core.frame.DataFrame'>\n",
      "RangeIndex: 6737 entries, 0 to 6736\n",
      "Data columns (total 6 columns):\n",
      "date           6737 non-null int64\n",
      "customer_id    6737 non-null object\n",
      "order_id       6737 non-null int64\n",
      "product        6737 non-null object\n",
      "quantity       6737 non-null int64\n",
      "price          6737 non-null float64\n",
      "dtypes: float64(1), int64(3), object(2)\n",
      "memory usage: 315.9+ KB\n"
     ]
    }
   ],
   "source": [
    "data.info()"
   ]
  },
  {
   "cell_type": "markdown",
   "metadata": {},
   "source": [
    "###### Вывод\n",
    "\n",
    "Пропусков нет. Типы данных верные, кроме даты."
   ]
  },
  {
   "cell_type": "markdown",
   "metadata": {},
   "source": [
    "### Привести тип даты к корректному значению <a class=\"anchor\" id=\"3-bullet\"></a>\n",
    "👈[назад к оглавлению](#0-bullet)"
   ]
  },
  {
   "cell_type": "code",
   "execution_count": 5,
   "metadata": {},
   "outputs": [
    {
     "data": {
      "text/html": [
       "<div>\n",
       "<style scoped>\n",
       "    .dataframe tbody tr th:only-of-type {\n",
       "        vertical-align: middle;\n",
       "    }\n",
       "\n",
       "    .dataframe tbody tr th {\n",
       "        vertical-align: top;\n",
       "    }\n",
       "\n",
       "    .dataframe thead th {\n",
       "        text-align: right;\n",
       "    }\n",
       "</style>\n",
       "<table border=\"1\" class=\"dataframe\">\n",
       "  <thead>\n",
       "    <tr style=\"text-align: right;\">\n",
       "      <th></th>\n",
       "      <th>date</th>\n",
       "      <th>order_id</th>\n",
       "      <th>quantity</th>\n",
       "      <th>price</th>\n",
       "    </tr>\n",
       "  </thead>\n",
       "  <tbody>\n",
       "    <tr>\n",
       "      <td>count</td>\n",
       "      <td>6.737000e+03</td>\n",
       "      <td>6737.000000</td>\n",
       "      <td>6737.000000</td>\n",
       "      <td>6737.000000</td>\n",
       "    </tr>\n",
       "    <tr>\n",
       "      <td>mean</td>\n",
       "      <td>2.018855e+09</td>\n",
       "      <td>43128.948345</td>\n",
       "      <td>2.501559</td>\n",
       "      <td>462.028499</td>\n",
       "    </tr>\n",
       "    <tr>\n",
       "      <td>std</td>\n",
       "      <td>3.855185e+05</td>\n",
       "      <td>27899.414662</td>\n",
       "      <td>15.266478</td>\n",
       "      <td>871.296064</td>\n",
       "    </tr>\n",
       "    <tr>\n",
       "      <td>min</td>\n",
       "      <td>2.018100e+09</td>\n",
       "      <td>12624.000000</td>\n",
       "      <td>1.000000</td>\n",
       "      <td>9.000000</td>\n",
       "    </tr>\n",
       "    <tr>\n",
       "      <td>25%</td>\n",
       "      <td>2.019020e+09</td>\n",
       "      <td>14827.000000</td>\n",
       "      <td>1.000000</td>\n",
       "      <td>101.000000</td>\n",
       "    </tr>\n",
       "    <tr>\n",
       "      <td>50%</td>\n",
       "      <td>2.019050e+09</td>\n",
       "      <td>68503.000000</td>\n",
       "      <td>1.000000</td>\n",
       "      <td>135.000000</td>\n",
       "    </tr>\n",
       "    <tr>\n",
       "      <td>75%</td>\n",
       "      <td>2.019061e+09</td>\n",
       "      <td>70504.000000</td>\n",
       "      <td>1.000000</td>\n",
       "      <td>398.000000</td>\n",
       "    </tr>\n",
       "    <tr>\n",
       "      <td>max</td>\n",
       "      <td>2.019103e+09</td>\n",
       "      <td>73164.000000</td>\n",
       "      <td>1000.000000</td>\n",
       "      <td>14917.000000</td>\n",
       "    </tr>\n",
       "  </tbody>\n",
       "</table>\n",
       "</div>"
      ],
      "text/plain": [
       "               date      order_id     quantity         price\n",
       "count  6.737000e+03   6737.000000  6737.000000   6737.000000\n",
       "mean   2.018855e+09  43128.948345     2.501559    462.028499\n",
       "std    3.855185e+05  27899.414662    15.266478    871.296064\n",
       "min    2.018100e+09  12624.000000     1.000000      9.000000\n",
       "25%    2.019020e+09  14827.000000     1.000000    101.000000\n",
       "50%    2.019050e+09  68503.000000     1.000000    135.000000\n",
       "75%    2.019061e+09  70504.000000     1.000000    398.000000\n",
       "max    2.019103e+09  73164.000000  1000.000000  14917.000000"
      ]
     },
     "execution_count": 5,
     "metadata": {},
     "output_type": "execute_result"
    }
   ],
   "source": [
    "data.describe()"
   ]
  },
  {
   "cell_type": "code",
   "execution_count": 6,
   "metadata": {},
   "outputs": [],
   "source": [
    "data['date'] = pd.to_datetime(data['date'], format=\"%Y%m%d%H\")"
   ]
  },
  {
   "cell_type": "code",
   "execution_count": 7,
   "metadata": {},
   "outputs": [
    {
     "name": "stdout",
     "output_type": "stream",
     "text": [
      "<class 'pandas.core.frame.DataFrame'>\n",
      "RangeIndex: 6737 entries, 0 to 6736\n",
      "Data columns (total 6 columns):\n",
      "date           6737 non-null datetime64[ns]\n",
      "customer_id    6737 non-null object\n",
      "order_id       6737 non-null int64\n",
      "product        6737 non-null object\n",
      "quantity       6737 non-null int64\n",
      "price          6737 non-null float64\n",
      "dtypes: datetime64[ns](1), float64(1), int64(2), object(2)\n",
      "memory usage: 315.9+ KB\n"
     ]
    }
   ],
   "source": [
    "data.info()"
   ]
  },
  {
   "cell_type": "markdown",
   "metadata": {},
   "source": [
    "Добавим столбец даты без времени."
   ]
  },
  {
   "cell_type": "code",
   "execution_count": 8,
   "metadata": {},
   "outputs": [],
   "source": [
    "data['date_day'] =  data['date'].dt.date"
   ]
  },
  {
   "cell_type": "markdown",
   "metadata": {},
   "source": [
    "### Проверить корректность наименований колонок <a class=\"anchor\" id=\"4-bullet\"></a>\n",
    "👈[назад к оглавлению](#0-bullet)"
   ]
  },
  {
   "cell_type": "code",
   "execution_count": 9,
   "metadata": {},
   "outputs": [
    {
     "data": {
      "text/html": [
       "<div>\n",
       "<style scoped>\n",
       "    .dataframe tbody tr th:only-of-type {\n",
       "        vertical-align: middle;\n",
       "    }\n",
       "\n",
       "    .dataframe tbody tr th {\n",
       "        vertical-align: top;\n",
       "    }\n",
       "\n",
       "    .dataframe thead th {\n",
       "        text-align: right;\n",
       "    }\n",
       "</style>\n",
       "<table border=\"1\" class=\"dataframe\">\n",
       "  <thead>\n",
       "    <tr style=\"text-align: right;\">\n",
       "      <th></th>\n",
       "      <th>date</th>\n",
       "      <th>customer_id</th>\n",
       "      <th>order_id</th>\n",
       "      <th>product</th>\n",
       "      <th>quantity</th>\n",
       "      <th>price</th>\n",
       "      <th>date_day</th>\n",
       "    </tr>\n",
       "  </thead>\n",
       "  <tbody>\n",
       "    <tr>\n",
       "      <td>6704</td>\n",
       "      <td>2019-10-28 08:00:00</td>\n",
       "      <td>cb65d08a-dae7-4890-aef0-bb9f79055e02</td>\n",
       "      <td>73108</td>\n",
       "      <td>Мирт d-9 см h-15 см</td>\n",
       "      <td>1</td>\n",
       "      <td>134.0</td>\n",
       "      <td>2019-10-28</td>\n",
       "    </tr>\n",
       "  </tbody>\n",
       "</table>\n",
       "</div>"
      ],
      "text/plain": [
       "                    date                           customer_id  order_id  \\\n",
       "6704 2019-10-28 08:00:00  cb65d08a-dae7-4890-aef0-bb9f79055e02     73108   \n",
       "\n",
       "                  product  quantity  price    date_day  \n",
       "6704  Мирт d-9 см h-15 см         1  134.0  2019-10-28  "
      ]
     },
     "execution_count": 9,
     "metadata": {},
     "output_type": "execute_result"
    }
   ],
   "source": [
    "data.sample()"
   ]
  },
  {
   "cell_type": "markdown",
   "metadata": {},
   "source": [
    "###### Вывод\n",
    "\n",
    "Имена колонок корректные."
   ]
  },
  {
   "cell_type": "markdown",
   "metadata": {},
   "source": [
    "### Исследовать дубликаты <a class=\"anchor\" id=\"5-bullet\"></a>\n",
    "👈[назад к оглавлению](#0-bullet)"
   ]
  },
  {
   "cell_type": "code",
   "execution_count": 10,
   "metadata": {},
   "outputs": [
    {
     "name": "stdout",
     "output_type": "stream",
     "text": [
      "0\n"
     ]
    }
   ],
   "source": [
    "print(data.duplicated().sum()) #проверяем наличие дубликатов\n"
   ]
  },
  {
   "cell_type": "markdown",
   "metadata": {},
   "source": [
    "###### Вывод\n",
    "\n",
    "Дубликатов нет."
   ]
  },
  {
   "cell_type": "markdown",
   "metadata": {},
   "source": [
    "### 2. Исследовательский анализ данных. <a class=\"anchor\" id=\"6-bullet\"></a>\n",
    "👈[назад к оглавлению](#0-bullet)"
   ]
  },
  {
   "cell_type": "markdown",
   "metadata": {},
   "source": [
    "### Цена товара. Обработка выбросов <a class=\"anchor\" id=\"7-bullet\"></a>\n",
    "👈[назад к оглавлению](#0-bullet)"
   ]
  },
  {
   "cell_type": "code",
   "execution_count": 11,
   "metadata": {},
   "outputs": [
    {
     "data": {
      "image/png": "[encoded data removed]",
      "text/plain": [
       "<Figure size 864x432 with 1 Axes>"
      ]
     },
     "metadata": {
      "needs_background": "light"
     },
     "output_type": "display_data"
    }
   ],
   "source": [
    "fig = plt.figure()\n",
    "\n",
    "data['price'].plot(kind = 'hist', bins=100, legend=True, figsize=(12, 6))\n",
    "\n",
    "plt.ylabel('Количество пользователей')\n",
    "plt.xlabel('Цены')\n",
    "plt.title('Распределение цен')\n",
    "fig.savefig(\"1.png\", dpi=200)\n",
    "\n",
    "plt.show()"
   ]
  },
  {
   "cell_type": "code",
   "execution_count": 12,
   "metadata": {},
   "outputs": [
    {
     "name": "stdout",
     "output_type": "stream",
     "text": [
      "count     6737.000000\n",
      "mean       462.028499\n",
      "std        871.296064\n",
      "min          9.000000\n",
      "25%        101.000000\n",
      "50%        135.000000\n",
      "75%        398.000000\n",
      "max      14917.000000\n",
      "Name: price, dtype: float64\n"
     ]
    },
    {
     "data": {
      "image/png": "[encoded data removed]",
      "text/plain": [
       "<Figure size 432x288 with 1 Axes>"
      ]
     },
     "metadata": {
      "needs_background": "light"
     },
     "output_type": "display_data"
    },
    {
     "name": "stdout",
     "output_type": "stream",
     "text": [
      "[  38.  1162.  1949.  4225.4]\n"
     ]
    }
   ],
   "source": [
    "print(data['price'].describe())\n",
    "fig = plt.figure()\n",
    "data.boxplot(column = 'price')\n",
    "plt.title('Распределение цен')\n",
    "fig.savefig(\"2.png\", dpi=200)\n",
    "\n",
    "plt.show()\n",
    "\n",
    "print(np.percentile(data['price'], [5, 90, 95, 99]))"
   ]
  },
  {
   "cell_type": "code",
   "execution_count": 13,
   "metadata": {},
   "outputs": [
    {
     "data": {
      "text/plain": [
       "2451"
      ]
     },
     "execution_count": 13,
     "metadata": {},
     "output_type": "execute_result"
    }
   ],
   "source": [
    "len_data = len(data['customer_id'].unique())\n",
    "len_data"
   ]
  },
  {
   "cell_type": "code",
   "execution_count": 14,
   "metadata": {
    "scrolled": false
   },
   "outputs": [
    {
     "data": {
      "text/html": [
       "<div>\n",
       "<style scoped>\n",
       "    .dataframe tbody tr th:only-of-type {\n",
       "        vertical-align: middle;\n",
       "    }\n",
       "\n",
       "    .dataframe tbody tr th {\n",
       "        vertical-align: top;\n",
       "    }\n",
       "\n",
       "    .dataframe thead th {\n",
       "        text-align: right;\n",
       "    }\n",
       "</style>\n",
       "<table border=\"1\" class=\"dataframe\">\n",
       "  <thead>\n",
       "    <tr style=\"text-align: right;\">\n",
       "      <th></th>\n",
       "      <th>date</th>\n",
       "      <th>customer_id</th>\n",
       "      <th>order_id</th>\n",
       "      <th>product</th>\n",
       "      <th>quantity</th>\n",
       "      <th>price</th>\n",
       "      <th>date_day</th>\n",
       "    </tr>\n",
       "  </thead>\n",
       "  <tbody>\n",
       "    <tr>\n",
       "      <td>98</td>\n",
       "      <td>2018-10-04 17:00:00</td>\n",
       "      <td>d1a13243-9111-454f-848c-dcce0958528c</td>\n",
       "      <td>68529</td>\n",
       "      <td>Сумка-тележка хозяйственная Andersen Scala Sho...</td>\n",
       "      <td>1</td>\n",
       "      <td>5024.0</td>\n",
       "      <td>2018-10-04</td>\n",
       "    </tr>\n",
       "    <tr>\n",
       "      <td>596</td>\n",
       "      <td>2018-11-02 17:00:00</td>\n",
       "      <td>305c9634-ec53-46be-af05-48ee8bd790a5</td>\n",
       "      <td>68836</td>\n",
       "      <td>Сумка-тележка хозяйственная Andersen Scala Sho...</td>\n",
       "      <td>1</td>\n",
       "      <td>5249.0</td>\n",
       "      <td>2018-11-02</td>\n",
       "    </tr>\n",
       "    <tr>\n",
       "      <td>634</td>\n",
       "      <td>2018-11-05 02:00:00</td>\n",
       "      <td>639c4989-b0ab-412a-b7ec-be394cb2d372</td>\n",
       "      <td>68856</td>\n",
       "      <td>Сумка-тележка хозяйственная Rolser IMX005 mare...</td>\n",
       "      <td>1</td>\n",
       "      <td>6007.0</td>\n",
       "      <td>2018-11-05</td>\n",
       "    </tr>\n",
       "    <tr>\n",
       "      <td>654</td>\n",
       "      <td>2018-11-05 22:00:00</td>\n",
       "      <td>fc333417-1d11-4a2a-b946-0957ae0603e9</td>\n",
       "      <td>68872</td>\n",
       "      <td>Сумка-тележка хозяйственная Rolser MOU041 malv...</td>\n",
       "      <td>1</td>\n",
       "      <td>7597.0</td>\n",
       "      <td>2018-11-05</td>\n",
       "    </tr>\n",
       "    <tr>\n",
       "      <td>655</td>\n",
       "      <td>2018-11-05 22:00:00</td>\n",
       "      <td>639c4989-b0ab-412a-b7ec-be394cb2d372</td>\n",
       "      <td>68871</td>\n",
       "      <td>Сумка-тележка хозяйственная Rolser IMX005 mare...</td>\n",
       "      <td>1</td>\n",
       "      <td>6007.0</td>\n",
       "      <td>2018-11-05</td>\n",
       "    </tr>\n",
       "    <tr>\n",
       "      <td>768</td>\n",
       "      <td>2018-11-11 18:00:00</td>\n",
       "      <td>06e2fc7e-6183-4419-ada4-3b976baeed92</td>\n",
       "      <td>68952</td>\n",
       "      <td>Коврик для ванной комнаты GOBI полиэстер 120х7...</td>\n",
       "      <td>1</td>\n",
       "      <td>5474.0</td>\n",
       "      <td>2018-11-11</td>\n",
       "    </tr>\n",
       "    <tr>\n",
       "      <td>1116</td>\n",
       "      <td>2018-12-06 08:00:00</td>\n",
       "      <td>fa471f6f-1442-490c-acc6-a47b0822098c</td>\n",
       "      <td>69226</td>\n",
       "      <td>Сумка-тележка хозяйственная Andersen Scala Sho...</td>\n",
       "      <td>1</td>\n",
       "      <td>5249.0</td>\n",
       "      <td>2018-12-06</td>\n",
       "    </tr>\n",
       "    <tr>\n",
       "      <td>1121</td>\n",
       "      <td>2018-12-06 17:00:00</td>\n",
       "      <td>82b56a76-0dc9-4dae-aa76-863a9a80f082</td>\n",
       "      <td>69236</td>\n",
       "      <td>Покрывало жаккард KARNA стеганое KALVEN 260x26...</td>\n",
       "      <td>1</td>\n",
       "      <td>6134.0</td>\n",
       "      <td>2018-12-06</td>\n",
       "    </tr>\n",
       "    <tr>\n",
       "      <td>1122</td>\n",
       "      <td>2018-12-06 17:00:00</td>\n",
       "      <td>fa471f6f-1442-490c-acc6-a47b0822098c</td>\n",
       "      <td>69226</td>\n",
       "      <td>Сумка-тележка хозяйственная Andersen Scala Sho...</td>\n",
       "      <td>1</td>\n",
       "      <td>5249.0</td>\n",
       "      <td>2018-12-06</td>\n",
       "    </tr>\n",
       "    <tr>\n",
       "      <td>1180</td>\n",
       "      <td>2018-12-12 11:00:00</td>\n",
       "      <td>c971fb21-d54c-4134-938f-16b62ee86d3b</td>\n",
       "      <td>69320</td>\n",
       "      <td>Сумка-тележка хозяйственная Andersen Treppenst...</td>\n",
       "      <td>1</td>\n",
       "      <td>5662.0</td>\n",
       "      <td>2018-12-12</td>\n",
       "    </tr>\n",
       "    <tr>\n",
       "      <td>1241</td>\n",
       "      <td>2018-12-17 17:00:00</td>\n",
       "      <td>86c97bf1-c834-423e-9e38-8acda68f97e8</td>\n",
       "      <td>69417</td>\n",
       "      <td>Гладильная доска Leifheit AirBoard Compact M P...</td>\n",
       "      <td>1</td>\n",
       "      <td>7424.0</td>\n",
       "      <td>2018-12-17</td>\n",
       "    </tr>\n",
       "    <tr>\n",
       "      <td>1420</td>\n",
       "      <td>2018-12-29 09:00:00</td>\n",
       "      <td>ad66d870-22f5-43bc-958f-73420822586b</td>\n",
       "      <td>69681</td>\n",
       "      <td>Сумка-тележка хозяйственная Rolser Pack Gloria...</td>\n",
       "      <td>1</td>\n",
       "      <td>6307.0</td>\n",
       "      <td>2018-12-29</td>\n",
       "    </tr>\n",
       "    <tr>\n",
       "      <td>1463</td>\n",
       "      <td>2019-01-10 06:00:00</td>\n",
       "      <td>d5f66ed0-44c2-4147-9d25-313312a23cba</td>\n",
       "      <td>69758</td>\n",
       "      <td>Комплект для мытья полов из нержавеющей стали ...</td>\n",
       "      <td>1</td>\n",
       "      <td>5399.0</td>\n",
       "      <td>2019-01-10</td>\n",
       "    </tr>\n",
       "    <tr>\n",
       "      <td>1652</td>\n",
       "      <td>2019-02-01 16:00:00</td>\n",
       "      <td>c971fb21-d54c-4134-938f-16b62ee86d3b</td>\n",
       "      <td>70060</td>\n",
       "      <td>Сумка-тележка хозяйственная Andersen Scala Sho...</td>\n",
       "      <td>1</td>\n",
       "      <td>5249.0</td>\n",
       "      <td>2019-02-01</td>\n",
       "    </tr>\n",
       "    <tr>\n",
       "      <td>1675</td>\n",
       "      <td>2019-02-04 06:00:00</td>\n",
       "      <td>909564b8-3a5c-4d3e-8310-5ba1c837bbd7</td>\n",
       "      <td>70080</td>\n",
       "      <td>Мусорный контейнер Hailo BigBin Swing 45 0845-...</td>\n",
       "      <td>3</td>\n",
       "      <td>5512.0</td>\n",
       "      <td>2019-02-04</td>\n",
       "    </tr>\n",
       "    <tr>\n",
       "      <td>1693</td>\n",
       "      <td>2019-02-04 16:00:00</td>\n",
       "      <td>282d20b5-8d00-424f-b339-7adf6c7c16d1</td>\n",
       "      <td>70094</td>\n",
       "      <td>Сиденье для гладильной доски Leifheit Niveau, ...</td>\n",
       "      <td>1</td>\n",
       "      <td>6149.0</td>\n",
       "      <td>2019-02-04</td>\n",
       "    </tr>\n",
       "    <tr>\n",
       "      <td>1981</td>\n",
       "      <td>2019-02-24 10:00:00</td>\n",
       "      <td>ac250053-a236-467a-97d2-ddbb9bf4a1ba</td>\n",
       "      <td>70423</td>\n",
       "      <td>Сумка-тележка хозяйственная Andersen Alu Star ...</td>\n",
       "      <td>1</td>\n",
       "      <td>8437.0</td>\n",
       "      <td>2019-02-24</td>\n",
       "    </tr>\n",
       "    <tr>\n",
       "      <td>2068</td>\n",
       "      <td>2019-02-28 13:00:00</td>\n",
       "      <td>c971fb21-d54c-4134-938f-16b62ee86d3b</td>\n",
       "      <td>70507</td>\n",
       "      <td>Сушилка Meliconi Stendy Junior</td>\n",
       "      <td>1</td>\n",
       "      <td>5594.0</td>\n",
       "      <td>2019-02-28</td>\n",
       "    </tr>\n",
       "    <tr>\n",
       "      <td>2208</td>\n",
       "      <td>2019-03-06 12:00:00</td>\n",
       "      <td>b16a52b7-499b-4be8-9220-19076ed22bc9</td>\n",
       "      <td>70627</td>\n",
       "      <td>Сумка-тележка хозяйственная Rolser MOUNTAIN че...</td>\n",
       "      <td>1</td>\n",
       "      <td>5459.0</td>\n",
       "      <td>2019-03-06</td>\n",
       "    </tr>\n",
       "    <tr>\n",
       "      <td>2229</td>\n",
       "      <td>2019-03-07 08:00:00</td>\n",
       "      <td>f4870400-e54c-4b7f-b95c-0ccba252bf39</td>\n",
       "      <td>70648</td>\n",
       "      <td>Сумка-тележка хозяйственная Andersen Scala Sho...</td>\n",
       "      <td>1</td>\n",
       "      <td>5249.0</td>\n",
       "      <td>2019-03-07</td>\n",
       "    </tr>\n",
       "    <tr>\n",
       "      <td>2339</td>\n",
       "      <td>2019-03-14 18:00:00</td>\n",
       "      <td>27d4ce42-352b-4756-bf5b-8724e05d5131</td>\n",
       "      <td>70740</td>\n",
       "      <td>Сумка-тележка хозяйственная Rolser IMX006 bass...</td>\n",
       "      <td>1</td>\n",
       "      <td>7679.0</td>\n",
       "      <td>2019-03-14</td>\n",
       "    </tr>\n",
       "    <tr>\n",
       "      <td>2404</td>\n",
       "      <td>2019-03-19 21:00:00</td>\n",
       "      <td>493d53bf-ff1f-4487-a6e7-b1bedddb73fd</td>\n",
       "      <td>70799</td>\n",
       "      <td>Сушилка Meliconi Stendy Junior</td>\n",
       "      <td>1</td>\n",
       "      <td>5594.0</td>\n",
       "      <td>2019-03-19</td>\n",
       "    </tr>\n",
       "    <tr>\n",
       "      <td>2599</td>\n",
       "      <td>2019-04-02 10:00:00</td>\n",
       "      <td>34a0ed26-edc1-449b-9229-e0c199460721</td>\n",
       "      <td>70973</td>\n",
       "      <td>Урна-пепельница из нержавеющей стали, Hobbyka/...</td>\n",
       "      <td>1</td>\n",
       "      <td>5287.0</td>\n",
       "      <td>2019-04-02</td>\n",
       "    </tr>\n",
       "    <tr>\n",
       "      <td>2691</td>\n",
       "      <td>2019-04-05 14:00:00</td>\n",
       "      <td>02adb72a-3067-45e9-a3b5-f93d79d7496a</td>\n",
       "      <td>71030</td>\n",
       "      <td>Сумка-тележка хозяйственная Andersen Scala Sho...</td>\n",
       "      <td>1</td>\n",
       "      <td>6149.0</td>\n",
       "      <td>2019-04-05</td>\n",
       "    </tr>\n",
       "    <tr>\n",
       "      <td>2697</td>\n",
       "      <td>2019-04-05 19:00:00</td>\n",
       "      <td>c0c60544-3a99-49d0-8a8e-cf7f293c22cb</td>\n",
       "      <td>71035</td>\n",
       "      <td>Сумка-тележка хозяйственная Andersen Royal Sho...</td>\n",
       "      <td>1</td>\n",
       "      <td>8737.0</td>\n",
       "      <td>2019-04-05</td>\n",
       "    </tr>\n",
       "    <tr>\n",
       "      <td>2751</td>\n",
       "      <td>2019-04-09 09:00:00</td>\n",
       "      <td>36c694c0-096a-40bd-9eb8-d43a8eff5a21</td>\n",
       "      <td>71071</td>\n",
       "      <td>Сумка-тележка хозяйственная Andersen Scala Sho...</td>\n",
       "      <td>1</td>\n",
       "      <td>6149.0</td>\n",
       "      <td>2019-04-09</td>\n",
       "    </tr>\n",
       "    <tr>\n",
       "      <td>2806</td>\n",
       "      <td>2019-04-12 07:00:00</td>\n",
       "      <td>fa415301-e3f2-4eb3-a7b2-d0a257591c9d</td>\n",
       "      <td>71113</td>\n",
       "      <td>Сумка-тележка хозяйственная Andersen Scala Sho...</td>\n",
       "      <td>1</td>\n",
       "      <td>5249.0</td>\n",
       "      <td>2019-04-12</td>\n",
       "    </tr>\n",
       "    <tr>\n",
       "      <td>2976</td>\n",
       "      <td>2019-04-20 08:00:00</td>\n",
       "      <td>16838b36-762a-474d-bda4-bad95f8d7813</td>\n",
       "      <td>71209</td>\n",
       "      <td>Автоматическая щетка Leifheit для мытья окон с...</td>\n",
       "      <td>1</td>\n",
       "      <td>7229.0</td>\n",
       "      <td>2019-04-20</td>\n",
       "    </tr>\n",
       "    <tr>\n",
       "      <td>2997</td>\n",
       "      <td>2019-04-21 16:00:00</td>\n",
       "      <td>19d904d8-8d16-476d-8f66-b2a3b7a23660</td>\n",
       "      <td>71227</td>\n",
       "      <td>Сумка-тележка хозяйственная Rolser MNB019 rojo...</td>\n",
       "      <td>1</td>\n",
       "      <td>8077.0</td>\n",
       "      <td>2019-04-21</td>\n",
       "    </tr>\n",
       "    <tr>\n",
       "      <td>3796</td>\n",
       "      <td>2019-05-14 19:00:00</td>\n",
       "      <td>92ac6674-3588-4706-b70e-21be0f53dd88</td>\n",
       "      <td>71428</td>\n",
       "      <td>Сумка-тележка хозяйственная Rolser PAR015 mand...</td>\n",
       "      <td>1</td>\n",
       "      <td>6097.0</td>\n",
       "      <td>2019-05-14</td>\n",
       "    </tr>\n",
       "    <tr>\n",
       "      <td>3887</td>\n",
       "      <td>2019-05-17 14:00:00</td>\n",
       "      <td>a9089b7e-e6a5-48f9-9b76-48693b63a092</td>\n",
       "      <td>71456</td>\n",
       "      <td>Сумка-тележка хозяйственная Rolser IMX002 mare...</td>\n",
       "      <td>1</td>\n",
       "      <td>6097.0</td>\n",
       "      <td>2019-05-17</td>\n",
       "    </tr>\n",
       "    <tr>\n",
       "      <td>4054</td>\n",
       "      <td>2019-05-27 14:00:00</td>\n",
       "      <td>0e668f0e-582c-4832-a9a7-9dd667c26900</td>\n",
       "      <td>71525</td>\n",
       "      <td>Сумка-тележка хозяйственная Andersen Treppenst...</td>\n",
       "      <td>1</td>\n",
       "      <td>6449.0</td>\n",
       "      <td>2019-05-27</td>\n",
       "    </tr>\n",
       "    <tr>\n",
       "      <td>4738</td>\n",
       "      <td>2019-06-06 18:00:00</td>\n",
       "      <td>09bcc3d0-8134-4f00-8ea5-b74b55d766ad</td>\n",
       "      <td>71633</td>\n",
       "      <td>Стремянка Scab Balzo 762 5 ступеней алюминиева...</td>\n",
       "      <td>1</td>\n",
       "      <td>5549.0</td>\n",
       "      <td>2019-06-06</td>\n",
       "    </tr>\n",
       "    <tr>\n",
       "      <td>4740</td>\n",
       "      <td>2019-06-06 23:00:00</td>\n",
       "      <td>09bcc3d0-8134-4f00-8ea5-b74b55d766ad</td>\n",
       "      <td>71633</td>\n",
       "      <td>Стремянка Scab Balzo 762 5 ступеней алюминиева...</td>\n",
       "      <td>1</td>\n",
       "      <td>5549.0</td>\n",
       "      <td>2019-06-06</td>\n",
       "    </tr>\n",
       "    <tr>\n",
       "      <td>4787</td>\n",
       "      <td>2019-06-07 12:00:00</td>\n",
       "      <td>09bcc3d0-8134-4f00-8ea5-b74b55d766ad</td>\n",
       "      <td>71633</td>\n",
       "      <td>Стремянка Scab Balzo 762 5 ступеней алюминиева...</td>\n",
       "      <td>1</td>\n",
       "      <td>5549.0</td>\n",
       "      <td>2019-06-07</td>\n",
       "    </tr>\n",
       "    <tr>\n",
       "      <td>4903</td>\n",
       "      <td>2019-06-08 18:00:00</td>\n",
       "      <td>32d17113-bfe6-4cf6-8157-fa228cf53dda</td>\n",
       "      <td>71642</td>\n",
       "      <td>Сумка-тележка хозяйственная Rolser Plegamatic ...</td>\n",
       "      <td>1</td>\n",
       "      <td>6494.0</td>\n",
       "      <td>2019-06-08</td>\n",
       "    </tr>\n",
       "    <tr>\n",
       "      <td>5087</td>\n",
       "      <td>2019-06-11 10:00:00</td>\n",
       "      <td>85716494-dd51-4d1d-ab28-8c74b87f14dc</td>\n",
       "      <td>71674</td>\n",
       "      <td>Сушилка для белья Leifheit Pegasus 200 DeLuxe ...</td>\n",
       "      <td>1</td>\n",
       "      <td>7004.0</td>\n",
       "      <td>2019-06-11</td>\n",
       "    </tr>\n",
       "    <tr>\n",
       "      <td>5101</td>\n",
       "      <td>2019-06-11 11:00:00</td>\n",
       "      <td>d109eb8f-0193-43fa-8a59-cffdb258db32</td>\n",
       "      <td>71677</td>\n",
       "      <td>Сумка-тележка хозяйственная Rolser Pack Gloria...</td>\n",
       "      <td>1</td>\n",
       "      <td>6809.0</td>\n",
       "      <td>2019-06-11</td>\n",
       "    </tr>\n",
       "    <tr>\n",
       "      <td>5176</td>\n",
       "      <td>2019-06-12 18:00:00</td>\n",
       "      <td>aec93ab0-4469-4e88-80cb-08b479a493e5</td>\n",
       "      <td>71687</td>\n",
       "      <td>Гладильная доска Colombo Avantgard 120х40 см</td>\n",
       "      <td>1</td>\n",
       "      <td>6614.0</td>\n",
       "      <td>2019-06-12</td>\n",
       "    </tr>\n",
       "    <tr>\n",
       "      <td>5624</td>\n",
       "      <td>2019-07-02 08:00:00</td>\n",
       "      <td>84ba53bc-835e-4feb-96cc-ca6889f7f6cd</td>\n",
       "      <td>71852</td>\n",
       "      <td>Сумка-тележка хозяйственная Rolser IMX004 azul...</td>\n",
       "      <td>1</td>\n",
       "      <td>5939.0</td>\n",
       "      <td>2019-07-02</td>\n",
       "    </tr>\n",
       "    <tr>\n",
       "      <td>5992</td>\n",
       "      <td>2019-07-29 17:00:00</td>\n",
       "      <td>0d87f4ae-465a-4fac-81e6-5d629761783e</td>\n",
       "      <td>72139</td>\n",
       "      <td>Сушилка уличная Leifheit 85210 LINOMATIC V 400...</td>\n",
       "      <td>1</td>\n",
       "      <td>14917.0</td>\n",
       "      <td>2019-07-29</td>\n",
       "    </tr>\n",
       "    <tr>\n",
       "      <td>5994</td>\n",
       "      <td>2019-07-30 01:00:00</td>\n",
       "      <td>e2fe6b48-1955-4882-925c-733f545df026</td>\n",
       "      <td>72140</td>\n",
       "      <td>Сумка-тележка хозяйственная Rolser MNB017 fucs...</td>\n",
       "      <td>1</td>\n",
       "      <td>7679.0</td>\n",
       "      <td>2019-07-30</td>\n",
       "    </tr>\n",
       "    <tr>\n",
       "      <td>6003</td>\n",
       "      <td>2019-07-31 07:00:00</td>\n",
       "      <td>2d51b277-cb8a-48eb-bdbf-b3315276f01a</td>\n",
       "      <td>72153</td>\n",
       "      <td>Сумка-тележка хозяйственная Andersen Scala Sho...</td>\n",
       "      <td>1</td>\n",
       "      <td>7199.0</td>\n",
       "      <td>2019-07-31</td>\n",
       "    </tr>\n",
       "    <tr>\n",
       "      <td>6100</td>\n",
       "      <td>2019-08-15 13:00:00</td>\n",
       "      <td>16e422c6-94fe-4ccf-9c97-05493f3e99c4</td>\n",
       "      <td>72302</td>\n",
       "      <td>Набор инструментов в алюминиевом кейсе на коле...</td>\n",
       "      <td>1</td>\n",
       "      <td>5399.0</td>\n",
       "      <td>2019-08-15</td>\n",
       "    </tr>\n",
       "    <tr>\n",
       "      <td>6169</td>\n",
       "      <td>2019-08-23 12:00:00</td>\n",
       "      <td>8d85f320-5f55-4647-814c-da1a6b21c2a4</td>\n",
       "      <td>72381</td>\n",
       "      <td>Урна уличная стальная Сальвадор 02.021.0 46х11...</td>\n",
       "      <td>1</td>\n",
       "      <td>7349.0</td>\n",
       "      <td>2019-08-23</td>\n",
       "    </tr>\n",
       "    <tr>\n",
       "      <td>6172</td>\n",
       "      <td>2019-08-23 16:00:00</td>\n",
       "      <td>1b83c58a-e167-4764-904e-d4b0d946c236</td>\n",
       "      <td>72387</td>\n",
       "      <td>Сумка-тележка хозяйственная Andersen Treppenst...</td>\n",
       "      <td>1</td>\n",
       "      <td>6449.0</td>\n",
       "      <td>2019-08-23</td>\n",
       "    </tr>\n",
       "    <tr>\n",
       "      <td>6302</td>\n",
       "      <td>2019-09-11 15:00:00</td>\n",
       "      <td>1f502315-d58f-401c-8ba2-88b16e53d0b3</td>\n",
       "      <td>72587</td>\n",
       "      <td>Сушилка Meliconi Stendy Junior</td>\n",
       "      <td>1</td>\n",
       "      <td>5594.0</td>\n",
       "      <td>2019-09-11</td>\n",
       "    </tr>\n",
       "    <tr>\n",
       "      <td>6578</td>\n",
       "      <td>2019-10-11 09:00:00</td>\n",
       "      <td>39bded4f-7358-4fce-a313-a7cb2d3a7005</td>\n",
       "      <td>72929</td>\n",
       "      <td>Сумка-тележка хозяйственная Rolser IMX004 negr...</td>\n",
       "      <td>1</td>\n",
       "      <td>6075.0</td>\n",
       "      <td>2019-10-11</td>\n",
       "    </tr>\n",
       "    <tr>\n",
       "      <td>6626</td>\n",
       "      <td>2019-10-16 11:00:00</td>\n",
       "      <td>73d1cd35-5e5f-4629-8cf2-3fda829d4e58</td>\n",
       "      <td>72986</td>\n",
       "      <td>Сумка-тележка хозяйственная Rolser MNB012 azul...</td>\n",
       "      <td>1</td>\n",
       "      <td>6600.0</td>\n",
       "      <td>2019-10-16</td>\n",
       "    </tr>\n",
       "    <tr>\n",
       "      <td>6629</td>\n",
       "      <td>2019-10-16 15:00:00</td>\n",
       "      <td>d5584388-ffbe-42fd-a746-a98828ec919f</td>\n",
       "      <td>72992</td>\n",
       "      <td>Стремянка 7 ступенчатая Hailo 8040-707 XXL 13 ...</td>\n",
       "      <td>1</td>\n",
       "      <td>7724.0</td>\n",
       "      <td>2019-10-16</td>\n",
       "    </tr>\n",
       "    <tr>\n",
       "      <td>6686</td>\n",
       "      <td>2019-10-23 15:00:00</td>\n",
       "      <td>6cfdad48-10fd-443b-bc67-93078c646779</td>\n",
       "      <td>73077</td>\n",
       "      <td>Урна уличная стальная Юпитер 02.012.0 38х38х60 см</td>\n",
       "      <td>1</td>\n",
       "      <td>6899.0</td>\n",
       "      <td>2019-10-23</td>\n",
       "    </tr>\n",
       "  </tbody>\n",
       "</table>\n",
       "</div>"
      ],
      "text/plain": [
       "                    date                           customer_id  order_id  \\\n",
       "98   2018-10-04 17:00:00  d1a13243-9111-454f-848c-dcce0958528c     68529   \n",
       "596  2018-11-02 17:00:00  305c9634-ec53-46be-af05-48ee8bd790a5     68836   \n",
       "634  2018-11-05 02:00:00  639c4989-b0ab-412a-b7ec-be394cb2d372     68856   \n",
       "654  2018-11-05 22:00:00  fc333417-1d11-4a2a-b946-0957ae0603e9     68872   \n",
       "655  2018-11-05 22:00:00  639c4989-b0ab-412a-b7ec-be394cb2d372     68871   \n",
       "768  2018-11-11 18:00:00  06e2fc7e-6183-4419-ada4-3b976baeed92     68952   \n",
       "1116 2018-12-06 08:00:00  fa471f6f-1442-490c-acc6-a47b0822098c     69226   \n",
       "1121 2018-12-06 17:00:00  82b56a76-0dc9-4dae-aa76-863a9a80f082     69236   \n",
       "1122 2018-12-06 17:00:00  fa471f6f-1442-490c-acc6-a47b0822098c     69226   \n",
       "1180 2018-12-12 11:00:00  c971fb21-d54c-4134-938f-16b62ee86d3b     69320   \n",
       "1241 2018-12-17 17:00:00  86c97bf1-c834-423e-9e38-8acda68f97e8     69417   \n",
       "1420 2018-12-29 09:00:00  ad66d870-22f5-43bc-958f-73420822586b     69681   \n",
       "1463 2019-01-10 06:00:00  d5f66ed0-44c2-4147-9d25-313312a23cba     69758   \n",
       "1652 2019-02-01 16:00:00  c971fb21-d54c-4134-938f-16b62ee86d3b     70060   \n",
       "1675 2019-02-04 06:00:00  909564b8-3a5c-4d3e-8310-5ba1c837bbd7     70080   \n",
       "1693 2019-02-04 16:00:00  282d20b5-8d00-424f-b339-7adf6c7c16d1     70094   \n",
       "1981 2019-02-24 10:00:00  ac250053-a236-467a-97d2-ddbb9bf4a1ba     70423   \n",
       "2068 2019-02-28 13:00:00  c971fb21-d54c-4134-938f-16b62ee86d3b     70507   \n",
       "2208 2019-03-06 12:00:00  b16a52b7-499b-4be8-9220-19076ed22bc9     70627   \n",
       "2229 2019-03-07 08:00:00  f4870400-e54c-4b7f-b95c-0ccba252bf39     70648   \n",
       "2339 2019-03-14 18:00:00  27d4ce42-352b-4756-bf5b-8724e05d5131     70740   \n",
       "2404 2019-03-19 21:00:00  493d53bf-ff1f-4487-a6e7-b1bedddb73fd     70799   \n",
       "2599 2019-04-02 10:00:00  34a0ed26-edc1-449b-9229-e0c199460721     70973   \n",
       "2691 2019-04-05 14:00:00  02adb72a-3067-45e9-a3b5-f93d79d7496a     71030   \n",
       "2697 2019-04-05 19:00:00  c0c60544-3a99-49d0-8a8e-cf7f293c22cb     71035   \n",
       "2751 2019-04-09 09:00:00  36c694c0-096a-40bd-9eb8-d43a8eff5a21     71071   \n",
       "2806 2019-04-12 07:00:00  fa415301-e3f2-4eb3-a7b2-d0a257591c9d     71113   \n",
       "2976 2019-04-20 08:00:00  16838b36-762a-474d-bda4-bad95f8d7813     71209   \n",
       "2997 2019-04-21 16:00:00  19d904d8-8d16-476d-8f66-b2a3b7a23660     71227   \n",
       "3796 2019-05-14 19:00:00  92ac6674-3588-4706-b70e-21be0f53dd88     71428   \n",
       "3887 2019-05-17 14:00:00  a9089b7e-e6a5-48f9-9b76-48693b63a092     71456   \n",
       "4054 2019-05-27 14:00:00  0e668f0e-582c-4832-a9a7-9dd667c26900     71525   \n",
       "4738 2019-06-06 18:00:00  09bcc3d0-8134-4f00-8ea5-b74b55d766ad     71633   \n",
       "4740 2019-06-06 23:00:00  09bcc3d0-8134-4f00-8ea5-b74b55d766ad     71633   \n",
       "4787 2019-06-07 12:00:00  09bcc3d0-8134-4f00-8ea5-b74b55d766ad     71633   \n",
       "4903 2019-06-08 18:00:00  32d17113-bfe6-4cf6-8157-fa228cf53dda     71642   \n",
       "5087 2019-06-11 10:00:00  85716494-dd51-4d1d-ab28-8c74b87f14dc     71674   \n",
       "5101 2019-06-11 11:00:00  d109eb8f-0193-43fa-8a59-cffdb258db32     71677   \n",
       "5176 2019-06-12 18:00:00  aec93ab0-4469-4e88-80cb-08b479a493e5     71687   \n",
       "5624 2019-07-02 08:00:00  84ba53bc-835e-4feb-96cc-ca6889f7f6cd     71852   \n",
       "5992 2019-07-29 17:00:00  0d87f4ae-465a-4fac-81e6-5d629761783e     72139   \n",
       "5994 2019-07-30 01:00:00  e2fe6b48-1955-4882-925c-733f545df026     72140   \n",
       "6003 2019-07-31 07:00:00  2d51b277-cb8a-48eb-bdbf-b3315276f01a     72153   \n",
       "6100 2019-08-15 13:00:00  16e422c6-94fe-4ccf-9c97-05493f3e99c4     72302   \n",
       "6169 2019-08-23 12:00:00  8d85f320-5f55-4647-814c-da1a6b21c2a4     72381   \n",
       "6172 2019-08-23 16:00:00  1b83c58a-e167-4764-904e-d4b0d946c236     72387   \n",
       "6302 2019-09-11 15:00:00  1f502315-d58f-401c-8ba2-88b16e53d0b3     72587   \n",
       "6578 2019-10-11 09:00:00  39bded4f-7358-4fce-a313-a7cb2d3a7005     72929   \n",
       "6626 2019-10-16 11:00:00  73d1cd35-5e5f-4629-8cf2-3fda829d4e58     72986   \n",
       "6629 2019-10-16 15:00:00  d5584388-ffbe-42fd-a746-a98828ec919f     72992   \n",
       "6686 2019-10-23 15:00:00  6cfdad48-10fd-443b-bc67-93078c646779     73077   \n",
       "\n",
       "                                                product  quantity    price  \\\n",
       "98    Сумка-тележка хозяйственная Andersen Scala Sho...         1   5024.0   \n",
       "596   Сумка-тележка хозяйственная Andersen Scala Sho...         1   5249.0   \n",
       "634   Сумка-тележка хозяйственная Rolser IMX005 mare...         1   6007.0   \n",
       "654   Сумка-тележка хозяйственная Rolser MOU041 malv...         1   7597.0   \n",
       "655   Сумка-тележка хозяйственная Rolser IMX005 mare...         1   6007.0   \n",
       "768   Коврик для ванной комнаты GOBI полиэстер 120х7...         1   5474.0   \n",
       "1116  Сумка-тележка хозяйственная Andersen Scala Sho...         1   5249.0   \n",
       "1121  Покрывало жаккард KARNA стеганое KALVEN 260x26...         1   6134.0   \n",
       "1122  Сумка-тележка хозяйственная Andersen Scala Sho...         1   5249.0   \n",
       "1180  Сумка-тележка хозяйственная Andersen Treppenst...         1   5662.0   \n",
       "1241  Гладильная доска Leifheit AirBoard Compact M P...         1   7424.0   \n",
       "1420  Сумка-тележка хозяйственная Rolser Pack Gloria...         1   6307.0   \n",
       "1463  Комплект для мытья полов из нержавеющей стали ...         1   5399.0   \n",
       "1652  Сумка-тележка хозяйственная Andersen Scala Sho...         1   5249.0   \n",
       "1675  Мусорный контейнер Hailo BigBin Swing 45 0845-...         3   5512.0   \n",
       "1693  Сиденье для гладильной доски Leifheit Niveau, ...         1   6149.0   \n",
       "1981  Сумка-тележка хозяйственная Andersen Alu Star ...         1   8437.0   \n",
       "2068                     Сушилка Meliconi Stendy Junior         1   5594.0   \n",
       "2208  Сумка-тележка хозяйственная Rolser MOUNTAIN че...         1   5459.0   \n",
       "2229  Сумка-тележка хозяйственная Andersen Scala Sho...         1   5249.0   \n",
       "2339  Сумка-тележка хозяйственная Rolser IMX006 bass...         1   7679.0   \n",
       "2404                     Сушилка Meliconi Stendy Junior         1   5594.0   \n",
       "2599  Урна-пепельница из нержавеющей стали, Hobbyka/...         1   5287.0   \n",
       "2691  Сумка-тележка хозяйственная Andersen Scala Sho...         1   6149.0   \n",
       "2697  Сумка-тележка хозяйственная Andersen Royal Sho...         1   8737.0   \n",
       "2751  Сумка-тележка хозяйственная Andersen Scala Sho...         1   6149.0   \n",
       "2806  Сумка-тележка хозяйственная Andersen Scala Sho...         1   5249.0   \n",
       "2976  Автоматическая щетка Leifheit для мытья окон с...         1   7229.0   \n",
       "2997  Сумка-тележка хозяйственная Rolser MNB019 rojo...         1   8077.0   \n",
       "3796  Сумка-тележка хозяйственная Rolser PAR015 mand...         1   6097.0   \n",
       "3887  Сумка-тележка хозяйственная Rolser IMX002 mare...         1   6097.0   \n",
       "4054  Сумка-тележка хозяйственная Andersen Treppenst...         1   6449.0   \n",
       "4738  Стремянка Scab Balzo 762 5 ступеней алюминиева...         1   5549.0   \n",
       "4740  Стремянка Scab Balzo 762 5 ступеней алюминиева...         1   5549.0   \n",
       "4787  Стремянка Scab Balzo 762 5 ступеней алюминиева...         1   5549.0   \n",
       "4903  Сумка-тележка хозяйственная Rolser Plegamatic ...         1   6494.0   \n",
       "5087  Сушилка для белья Leifheit Pegasus 200 DeLuxe ...         1   7004.0   \n",
       "5101  Сумка-тележка хозяйственная Rolser Pack Gloria...         1   6809.0   \n",
       "5176       Гладильная доска Colombo Avantgard 120х40 см         1   6614.0   \n",
       "5624  Сумка-тележка хозяйственная Rolser IMX004 azul...         1   5939.0   \n",
       "5992  Сушилка уличная Leifheit 85210 LINOMATIC V 400...         1  14917.0   \n",
       "5994  Сумка-тележка хозяйственная Rolser MNB017 fucs...         1   7679.0   \n",
       "6003  Сумка-тележка хозяйственная Andersen Scala Sho...         1   7199.0   \n",
       "6100  Набор инструментов в алюминиевом кейсе на коле...         1   5399.0   \n",
       "6169  Урна уличная стальная Сальвадор 02.021.0 46х11...         1   7349.0   \n",
       "6172  Сумка-тележка хозяйственная Andersen Treppenst...         1   6449.0   \n",
       "6302                     Сушилка Meliconi Stendy Junior         1   5594.0   \n",
       "6578  Сумка-тележка хозяйственная Rolser IMX004 negr...         1   6075.0   \n",
       "6626  Сумка-тележка хозяйственная Rolser MNB012 azul...         1   6600.0   \n",
       "6629  Стремянка 7 ступенчатая Hailo 8040-707 XXL 13 ...         1   7724.0   \n",
       "6686  Урна уличная стальная Юпитер 02.012.0 38х38х60 см         1   6899.0   \n",
       "\n",
       "        date_day  \n",
       "98    2018-10-04  \n",
       "596   2018-11-02  \n",
       "634   2018-11-05  \n",
       "654   2018-11-05  \n",
       "655   2018-11-05  \n",
       "768   2018-11-11  \n",
       "1116  2018-12-06  \n",
       "1121  2018-12-06  \n",
       "1122  2018-12-06  \n",
       "1180  2018-12-12  \n",
       "1241  2018-12-17  \n",
       "1420  2018-12-29  \n",
       "1463  2019-01-10  \n",
       "1652  2019-02-01  \n",
       "1675  2019-02-04  \n",
       "1693  2019-02-04  \n",
       "1981  2019-02-24  \n",
       "2068  2019-02-28  \n",
       "2208  2019-03-06  \n",
       "2229  2019-03-07  \n",
       "2339  2019-03-14  \n",
       "2404  2019-03-19  \n",
       "2599  2019-04-02  \n",
       "2691  2019-04-05  \n",
       "2697  2019-04-05  \n",
       "2751  2019-04-09  \n",
       "2806  2019-04-12  \n",
       "2976  2019-04-20  \n",
       "2997  2019-04-21  \n",
       "3796  2019-05-14  \n",
       "3887  2019-05-17  \n",
       "4054  2019-05-27  \n",
       "4738  2019-06-06  \n",
       "4740  2019-06-06  \n",
       "4787  2019-06-07  \n",
       "4903  2019-06-08  \n",
       "5087  2019-06-11  \n",
       "5101  2019-06-11  \n",
       "5176  2019-06-12  \n",
       "5624  2019-07-02  \n",
       "5992  2019-07-29  \n",
       "5994  2019-07-30  \n",
       "6003  2019-07-31  \n",
       "6100  2019-08-15  \n",
       "6169  2019-08-23  \n",
       "6172  2019-08-23  \n",
       "6302  2019-09-11  \n",
       "6578  2019-10-11  \n",
       "6626  2019-10-16  \n",
       "6629  2019-10-16  \n",
       "6686  2019-10-23  "
      ]
     },
     "execution_count": 14,
     "metadata": {},
     "output_type": "execute_result"
    }
   ],
   "source": [
    "data_price_check = data.query('price >= 5000')\n",
    "data_price_check"
   ]
  },
  {
   "cell_type": "markdown",
   "metadata": {},
   "source": [
    "В список товаров дороже 5000 попали в основном сумки-тележки по адекватным ценам. Их не стоит удалять из датасета."
   ]
  },
  {
   "cell_type": "markdown",
   "metadata": {},
   "source": [
    "### Количество товара в заказе. Обработка выбросов <a class=\"anchor\" id=\"8-bullet\"></a>\n",
    "👈[назад к оглавлению](#0-bullet)"
   ]
  },
  {
   "cell_type": "code",
   "execution_count": 15,
   "metadata": {},
   "outputs": [
    {
     "data": {
      "image/png": "[encoded data removed]",
      "text/plain": [
       "<Figure size 864x432 with 1 Axes>"
      ]
     },
     "metadata": {
      "needs_background": "light"
     },
     "output_type": "display_data"
    }
   ],
   "source": [
    "fig = plt.figure()\n",
    "\n",
    "data['quantity'].plot(kind = 'hist', bins=100, legend=True, figsize=(12, 6))\n",
    "\n",
    "plt.ylabel('Количество пользователей')\n",
    "plt.xlabel('Количество товара в заказе')\n",
    "plt.title('Количество товара в заказе')\n",
    "fig.savefig(\"3.png\", dpi=200)\n",
    "\n",
    "\n",
    "plt.show()"
   ]
  },
  {
   "cell_type": "code",
   "execution_count": 16,
   "metadata": {},
   "outputs": [
    {
     "name": "stdout",
     "output_type": "stream",
     "text": [
      "count    6737.000000\n",
      "mean        2.501559\n",
      "std        15.266478\n",
      "min         1.000000\n",
      "25%         1.000000\n",
      "50%         1.000000\n",
      "75%         1.000000\n",
      "max      1000.000000\n",
      "Name: quantity, dtype: float64\n"
     ]
    },
    {
     "data": {
      "image/png": "[encoded data removed]",
      "text/plain": [
       "<Figure size 432x288 with 1 Axes>"
      ]
     },
     "metadata": {
      "needs_background": "light"
     },
     "output_type": "display_data"
    },
    {
     "name": "stdout",
     "output_type": "stream",
     "text": [
      "[ 1.    3.    6.   26.64]\n"
     ]
    }
   ],
   "source": [
    "print(data['quantity'].describe())\n",
    "fig = plt.figure()\n",
    "\n",
    "data.boxplot(column = 'quantity')\n",
    "plt.ylabel('Количество товара в заказе')\n",
    "plt.title('Количество товара в заказе')\n",
    "fig.savefig(\"4.png\", dpi=200)\n",
    "\n",
    "plt.show()\n",
    "\n",
    "print(np.percentile(data['quantity'], [5, 90, 95, 99]))"
   ]
  },
  {
   "cell_type": "code",
   "execution_count": 17,
   "metadata": {},
   "outputs": [
    {
     "data": {
      "text/plain": [
       "2451"
      ]
     },
     "execution_count": 17,
     "metadata": {},
     "output_type": "execute_result"
    }
   ],
   "source": [
    "len_data"
   ]
  },
  {
   "cell_type": "markdown",
   "metadata": {},
   "source": [
    "Удаляем выбросы - количество товара в заказе более 100. 99% значений входят в диапазон до 30 шт. Посмотрел наменования в этих заказах. Похоже, что это мелкооптовые закупки для офисов или декорации каких-то помещений. Частные покупатели не берут обычно в таком количестве товары одного и того же наименования. Можно увеличить порог до 100 штук, чтобы не потерять много данных."
   ]
  },
  {
   "cell_type": "code",
   "execution_count": 18,
   "metadata": {},
   "outputs": [],
   "source": [
    "data_quantity = data.query('quantity < 100')"
   ]
  },
  {
   "cell_type": "code",
   "execution_count": 19,
   "metadata": {
    "scrolled": true
   },
   "outputs": [
    {
     "data": {
      "text/html": [
       "<div>\n",
       "<style scoped>\n",
       "    .dataframe tbody tr th:only-of-type {\n",
       "        vertical-align: middle;\n",
       "    }\n",
       "\n",
       "    .dataframe tbody tr th {\n",
       "        vertical-align: top;\n",
       "    }\n",
       "\n",
       "    .dataframe thead th {\n",
       "        text-align: right;\n",
       "    }\n",
       "</style>\n",
       "<table border=\"1\" class=\"dataframe\">\n",
       "  <thead>\n",
       "    <tr style=\"text-align: right;\">\n",
       "      <th></th>\n",
       "      <th>date</th>\n",
       "      <th>customer_id</th>\n",
       "      <th>order_id</th>\n",
       "      <th>product</th>\n",
       "      <th>quantity</th>\n",
       "      <th>price</th>\n",
       "      <th>date_day</th>\n",
       "    </tr>\n",
       "  </thead>\n",
       "  <tbody>\n",
       "    <tr>\n",
       "      <td>1276</td>\n",
       "      <td>2018-12-20 12:00:00</td>\n",
       "      <td>028469c0-9e87-4596-ac2e-c5b1d48ea9b6</td>\n",
       "      <td>69421</td>\n",
       "      <td>Крючок одежный двойной усиленный алюминиевый (...</td>\n",
       "      <td>30</td>\n",
       "      <td>26.0</td>\n",
       "      <td>2018-12-20</td>\n",
       "    </tr>\n",
       "    <tr>\n",
       "      <td>1897</td>\n",
       "      <td>2019-02-18 16:00:00</td>\n",
       "      <td>74b08ab4-16e9-4d83-9c31-acfc9d229bc5</td>\n",
       "      <td>70328</td>\n",
       "      <td>Муляж Лимон желтый 9 см полиуретан</td>\n",
       "      <td>50</td>\n",
       "      <td>51.0</td>\n",
       "      <td>2019-02-18</td>\n",
       "    </tr>\n",
       "    <tr>\n",
       "      <td>5456</td>\n",
       "      <td>2019-06-18 15:00:00</td>\n",
       "      <td>312e9a3e-5fca-43ff-a6a1-892d2b2d5ba6</td>\n",
       "      <td>71743</td>\n",
       "      <td>Вантуз с деревянной ручкой d14 см красный, Bur...</td>\n",
       "      <td>1000</td>\n",
       "      <td>675.0</td>\n",
       "      <td>2019-06-18</td>\n",
       "    </tr>\n",
       "    <tr>\n",
       "      <td>3078</td>\n",
       "      <td>2019-04-24 12:00:00</td>\n",
       "      <td>b9ced699-9bb7-458c-bc60-a474b415ce1f</td>\n",
       "      <td>71266</td>\n",
       "      <td>Вешалка деревянная для верхней одежды 45 см</td>\n",
       "      <td>30</td>\n",
       "      <td>149.0</td>\n",
       "      <td>2019-04-24</td>\n",
       "    </tr>\n",
       "    <tr>\n",
       "      <td>2365</td>\n",
       "      <td>2019-03-17 20:00:00</td>\n",
       "      <td>977bba90-df53-4513-b5db-30d6ea1fbca1</td>\n",
       "      <td>70769</td>\n",
       "      <td>Искусственный цветок Подснежник пластиковый белый</td>\n",
       "      <td>30</td>\n",
       "      <td>32.0</td>\n",
       "      <td>2019-03-17</td>\n",
       "    </tr>\n",
       "    <tr>\n",
       "      <td>1299</td>\n",
       "      <td>2018-12-21 16:00:00</td>\n",
       "      <td>6987e6d6-a63a-4ce2-a2d0-f424092d235e</td>\n",
       "      <td>69504</td>\n",
       "      <td>Тележка багажная DELTA ТБР-22 синий грузоподъе...</td>\n",
       "      <td>57</td>\n",
       "      <td>574.0</td>\n",
       "      <td>2018-12-21</td>\n",
       "    </tr>\n",
       "    <tr>\n",
       "      <td>6504</td>\n",
       "      <td>2019-10-03 14:00:00</td>\n",
       "      <td>d8465f63-35db-4809-aff3-a8f7ebfc257f</td>\n",
       "      <td>72845</td>\n",
       "      <td>Муляж Яблоко зеленый 9 см полиуретан</td>\n",
       "      <td>40</td>\n",
       "      <td>59.0</td>\n",
       "      <td>2019-10-03</td>\n",
       "    </tr>\n",
       "    <tr>\n",
       "      <td>6367</td>\n",
       "      <td>2019-09-19 16:00:00</td>\n",
       "      <td>de95510f-3558-4c42-97dc-98cc4215c278</td>\n",
       "      <td>72698</td>\n",
       "      <td>Универсальный нож WEBBER из нержавеющей стали ...</td>\n",
       "      <td>80</td>\n",
       "      <td>45.0</td>\n",
       "      <td>2019-09-19</td>\n",
       "    </tr>\n",
       "    <tr>\n",
       "      <td>277</td>\n",
       "      <td>2018-10-16 22:00:00</td>\n",
       "      <td>42c5db22-6046-455b-a728-ff163a1b7808</td>\n",
       "      <td>68667</td>\n",
       "      <td>Муляж Красное яблоко мини полиуретан d-6 см</td>\n",
       "      <td>30</td>\n",
       "      <td>19.0</td>\n",
       "      <td>2018-10-16</td>\n",
       "    </tr>\n",
       "    <tr>\n",
       "      <td>6508</td>\n",
       "      <td>2019-10-04 08:00:00</td>\n",
       "      <td>25a8cd52-3efa-48ee-a6bd-d413d7e2b42f</td>\n",
       "      <td>72845</td>\n",
       "      <td>Муляж Яблоко зеленый 9 см полиуретан</td>\n",
       "      <td>40</td>\n",
       "      <td>59.0</td>\n",
       "      <td>2019-10-04</td>\n",
       "    </tr>\n",
       "    <tr>\n",
       "      <td>13</td>\n",
       "      <td>2018-10-01 15:00:00</td>\n",
       "      <td>0948b0c2-990b-4a11-b835-69ac4714b21d</td>\n",
       "      <td>68486</td>\n",
       "      <td>Крючок одежный 2-х рожковый серый металлик с п...</td>\n",
       "      <td>96</td>\n",
       "      <td>38.0</td>\n",
       "      <td>2018-10-01</td>\n",
       "    </tr>\n",
       "    <tr>\n",
       "      <td>6505</td>\n",
       "      <td>2019-10-03 15:00:00</td>\n",
       "      <td>0309d37c-ab5f-4793-ba72-5484c019b840</td>\n",
       "      <td>72845</td>\n",
       "      <td>Муляж Яблоко зеленый 9 см полиуретан</td>\n",
       "      <td>40</td>\n",
       "      <td>59.0</td>\n",
       "      <td>2019-10-03</td>\n",
       "    </tr>\n",
       "    <tr>\n",
       "      <td>2467</td>\n",
       "      <td>2019-03-25 16:00:00</td>\n",
       "      <td>22749361-d927-47e6-a6ad-aee8becdb094</td>\n",
       "      <td>70876</td>\n",
       "      <td>Муляж Лимон желтый 9 см полиуретан</td>\n",
       "      <td>30</td>\n",
       "      <td>59.0</td>\n",
       "      <td>2019-03-25</td>\n",
       "    </tr>\n",
       "    <tr>\n",
       "      <td>6684</td>\n",
       "      <td>2019-10-23 11:00:00</td>\n",
       "      <td>2fac41bf-e800-4bc3-a4b3-0df800f33e99</td>\n",
       "      <td>73073</td>\n",
       "      <td>Ведро резинопластиковое строительное 12,0 л (М...</td>\n",
       "      <td>50</td>\n",
       "      <td>64.0</td>\n",
       "      <td>2019-10-23</td>\n",
       "    </tr>\n",
       "    <tr>\n",
       "      <td>1456</td>\n",
       "      <td>2019-01-09 11:00:00</td>\n",
       "      <td>ea741fdc-4883-4fc1-a34e-a8bcf8dc6cbb</td>\n",
       "      <td>69743</td>\n",
       "      <td>Тарелка обеденная Luminarc ОКЕАН ЭКЛИПС 24 см ...</td>\n",
       "      <td>30</td>\n",
       "      <td>82.0</td>\n",
       "      <td>2019-01-09</td>\n",
       "    </tr>\n",
       "    <tr>\n",
       "      <td>5591</td>\n",
       "      <td>2019-06-25 21:00:00</td>\n",
       "      <td>72df1c3c-6efc-45c5-9b12-5a48935a48a4</td>\n",
       "      <td>71802</td>\n",
       "      <td>Петля приварная гаражная d 14х90 мм с шаром, 1...</td>\n",
       "      <td>40</td>\n",
       "      <td>38.0</td>\n",
       "      <td>2019-06-25</td>\n",
       "    </tr>\n",
       "    <tr>\n",
       "      <td>4127</td>\n",
       "      <td>2019-05-30 07:00:00</td>\n",
       "      <td>c03e95a5-e141-45b4-92b7-7c7734391569</td>\n",
       "      <td>71551</td>\n",
       "      <td>Щетка-сметка 4-х рядная деревянная 300 мм (фиг...</td>\n",
       "      <td>30</td>\n",
       "      <td>64.0</td>\n",
       "      <td>2019-05-30</td>\n",
       "    </tr>\n",
       "    <tr>\n",
       "      <td>2371</td>\n",
       "      <td>2019-03-18 10:00:00</td>\n",
       "      <td>21b4642e-9cdf-4738-a290-b42d3e748c0f</td>\n",
       "      <td>70776</td>\n",
       "      <td>Гвоздика стандартная Белая 60 см Колумбия План...</td>\n",
       "      <td>43</td>\n",
       "      <td>29.0</td>\n",
       "      <td>2019-03-18</td>\n",
       "    </tr>\n",
       "    <tr>\n",
       "      <td>1568</td>\n",
       "      <td>2019-01-22 15:00:00</td>\n",
       "      <td>6be74251-7159-4cc0-99fb-d034a17c61b0</td>\n",
       "      <td>69928</td>\n",
       "      <td>Спатифиллум Шопен d-12 см</td>\n",
       "      <td>45</td>\n",
       "      <td>250.0</td>\n",
       "      <td>2019-01-22</td>\n",
       "    </tr>\n",
       "    <tr>\n",
       "      <td>2969</td>\n",
       "      <td>2019-04-19 18:00:00</td>\n",
       "      <td>498f12a4-6a62-4725-8516-cf5dc9ab8a3a</td>\n",
       "      <td>71204</td>\n",
       "      <td>Салфетка Protec Textil Polyline 30х43 см Амети...</td>\n",
       "      <td>60</td>\n",
       "      <td>191.0</td>\n",
       "      <td>2019-04-19</td>\n",
       "    </tr>\n",
       "    <tr>\n",
       "      <td>1369</td>\n",
       "      <td>2018-12-26 10:00:00</td>\n",
       "      <td>ea741fdc-4883-4fc1-a34e-a8bcf8dc6cbb</td>\n",
       "      <td>69608</td>\n",
       "      <td>Тарелка суповая Luminarc ОКЕАН ЭКЛИПС 20,5 см ...</td>\n",
       "      <td>30</td>\n",
       "      <td>82.0</td>\n",
       "      <td>2018-12-26</td>\n",
       "    </tr>\n",
       "    <tr>\n",
       "      <td>233</td>\n",
       "      <td>2018-10-12 15:00:00</td>\n",
       "      <td>4d93d3f6-8b24-403b-a74b-f5173e40d7db</td>\n",
       "      <td>68623</td>\n",
       "      <td>Петля приварная гаражная d 14х90 мм с шаром, 1...</td>\n",
       "      <td>50</td>\n",
       "      <td>38.0</td>\n",
       "      <td>2018-10-12</td>\n",
       "    </tr>\n",
       "    <tr>\n",
       "      <td>4082</td>\n",
       "      <td>2019-05-28 13:00:00</td>\n",
       "      <td>f9d19e1d-9414-485b-9d8d-02bc196a88e8</td>\n",
       "      <td>71539</td>\n",
       "      <td>Насадка на валик ВММ-200/60 белый искусственны...</td>\n",
       "      <td>70</td>\n",
       "      <td>22.0</td>\n",
       "      <td>2019-05-28</td>\n",
       "    </tr>\n",
       "    <tr>\n",
       "      <td>1555</td>\n",
       "      <td>2019-01-21 09:00:00</td>\n",
       "      <td>8eabcaca-e8c8-4eee-9079-4ff5f612273a</td>\n",
       "      <td>69893</td>\n",
       "      <td>Щетка для мытья посуды КОЛИБРИ М5202 большая</td>\n",
       "      <td>100</td>\n",
       "      <td>34.0</td>\n",
       "      <td>2019-01-21</td>\n",
       "    </tr>\n",
       "    <tr>\n",
       "      <td>281</td>\n",
       "      <td>2018-10-17 13:00:00</td>\n",
       "      <td>4d93d3f6-8b24-403b-a74b-f5173e40d7db</td>\n",
       "      <td>68668</td>\n",
       "      <td>Щетка для посуды *Мила* SV3182 1807009</td>\n",
       "      <td>50</td>\n",
       "      <td>27.0</td>\n",
       "      <td>2018-10-17</td>\n",
       "    </tr>\n",
       "    <tr>\n",
       "      <td>2366</td>\n",
       "      <td>2019-03-17 21:00:00</td>\n",
       "      <td>977bba90-df53-4513-b5db-30d6ea1fbca1</td>\n",
       "      <td>70769</td>\n",
       "      <td>Искусственный цветок Подснежник пластиковый белый</td>\n",
       "      <td>30</td>\n",
       "      <td>32.0</td>\n",
       "      <td>2019-03-17</td>\n",
       "    </tr>\n",
       "    <tr>\n",
       "      <td>568</td>\n",
       "      <td>2018-11-01 08:00:00</td>\n",
       "      <td>aa42dc38-780f-4b50-9a65-83b6fa64e766</td>\n",
       "      <td>68815</td>\n",
       "      <td>Муляж ЯБЛОКО 9 см красное</td>\n",
       "      <td>170</td>\n",
       "      <td>51.0</td>\n",
       "      <td>2018-11-01</td>\n",
       "    </tr>\n",
       "    <tr>\n",
       "      <td>282</td>\n",
       "      <td>2018-10-17 13:00:00</td>\n",
       "      <td>4d93d3f6-8b24-403b-a74b-f5173e40d7db</td>\n",
       "      <td>68668</td>\n",
       "      <td>Щетка-утюжок с ручкой Миди, Standart, York, G1126</td>\n",
       "      <td>50</td>\n",
       "      <td>44.0</td>\n",
       "      <td>2018-10-17</td>\n",
       "    </tr>\n",
       "    <tr>\n",
       "      <td>6663</td>\n",
       "      <td>2019-10-20 21:00:00</td>\n",
       "      <td>6583407e-7d0d-4ece-93f8-6f7cb64f9926</td>\n",
       "      <td>73041</td>\n",
       "      <td>Искусственный цветок Роза закрытая малая пласт...</td>\n",
       "      <td>30</td>\n",
       "      <td>19.0</td>\n",
       "      <td>2019-10-20</td>\n",
       "    </tr>\n",
       "    <tr>\n",
       "      <td>3961</td>\n",
       "      <td>2019-05-20 21:00:00</td>\n",
       "      <td>5d189e88-d4d6-4eac-ab43-fa65a3c4d106</td>\n",
       "      <td>71478</td>\n",
       "      <td>Муляж ЯБЛОКО 9 см красное</td>\n",
       "      <td>300</td>\n",
       "      <td>51.0</td>\n",
       "      <td>2019-05-20</td>\n",
       "    </tr>\n",
       "    <tr>\n",
       "      <td>1243</td>\n",
       "      <td>2018-12-17 19:00:00</td>\n",
       "      <td>028469c0-9e87-4596-ac2e-c5b1d48ea9b6</td>\n",
       "      <td>69421</td>\n",
       "      <td>Крючок одежный двойной усиленный алюминиевый (...</td>\n",
       "      <td>30</td>\n",
       "      <td>26.0</td>\n",
       "      <td>2018-12-17</td>\n",
       "    </tr>\n",
       "    <tr>\n",
       "      <td>6478</td>\n",
       "      <td>2019-09-30 16:00:00</td>\n",
       "      <td>0af078d6-facf-4ece-ad7b-3b4446ec19a2</td>\n",
       "      <td>72811</td>\n",
       "      <td>Кружка с трубочкой Attribute МЯЧ 500 мл JAR501</td>\n",
       "      <td>60</td>\n",
       "      <td>76.0</td>\n",
       "      <td>2019-09-30</td>\n",
       "    </tr>\n",
       "    <tr>\n",
       "      <td>6678</td>\n",
       "      <td>2019-10-22 16:00:00</td>\n",
       "      <td>511115b7-e981-4069-9e0e-88a3551341a6</td>\n",
       "      <td>73063</td>\n",
       "      <td>Муляж Яблоко зеленый 9 см полиуретан</td>\n",
       "      <td>50</td>\n",
       "      <td>51.0</td>\n",
       "      <td>2019-10-22</td>\n",
       "    </tr>\n",
       "    <tr>\n",
       "      <td>279</td>\n",
       "      <td>2018-10-17 11:00:00</td>\n",
       "      <td>4d93d3f6-8b24-403b-a74b-f5173e40d7db</td>\n",
       "      <td>68668</td>\n",
       "      <td>Щетка-утюжок с ручкой Миди, Standart, York, G1126</td>\n",
       "      <td>50</td>\n",
       "      <td>44.0</td>\n",
       "      <td>2018-10-17</td>\n",
       "    </tr>\n",
       "    <tr>\n",
       "      <td>1433</td>\n",
       "      <td>2019-01-03 21:00:00</td>\n",
       "      <td>028469c0-9e87-4596-ac2e-c5b1d48ea9b6</td>\n",
       "      <td>69421</td>\n",
       "      <td>Крючок одежный двойной усиленный алюминиевый (...</td>\n",
       "      <td>30</td>\n",
       "      <td>26.0</td>\n",
       "      <td>2019-01-03</td>\n",
       "    </tr>\n",
       "    <tr>\n",
       "      <td>4037</td>\n",
       "      <td>2019-05-27 10:00:00</td>\n",
       "      <td>b92e90cd-7904-463b-ab38-7f8c8830f777</td>\n",
       "      <td>71519</td>\n",
       "      <td>Ёрш унитазный с деревянной ручкой , Ваир 1712012</td>\n",
       "      <td>30</td>\n",
       "      <td>51.0</td>\n",
       "      <td>2019-05-27</td>\n",
       "    </tr>\n",
       "    <tr>\n",
       "      <td>586</td>\n",
       "      <td>2018-11-02 11:00:00</td>\n",
       "      <td>0c5aaa88-e346-4f87-8f7a-ad8cbc04e965</td>\n",
       "      <td>68831</td>\n",
       "      <td>Муляж ЯБЛОКО 9 см красное</td>\n",
       "      <td>140</td>\n",
       "      <td>59.0</td>\n",
       "      <td>2018-11-02</td>\n",
       "    </tr>\n",
       "    <tr>\n",
       "      <td>2531</td>\n",
       "      <td>2019-03-28 20:00:00</td>\n",
       "      <td>bba9b7bf-09a6-4f16-81c3-2b83dcebbc0a</td>\n",
       "      <td>70915</td>\n",
       "      <td>Цветок искусственный Гвоздика тканевая красная...</td>\n",
       "      <td>31</td>\n",
       "      <td>20.0</td>\n",
       "      <td>2019-03-28</td>\n",
       "    </tr>\n",
       "    <tr>\n",
       "      <td>144</td>\n",
       "      <td>2018-10-08 15:00:00</td>\n",
       "      <td>9151d307-654c-4239-a888-ada5ca45f0b2</td>\n",
       "      <td>68571</td>\n",
       "      <td>Набор вешалок для костюма 45см 4шт цвет: кремо...</td>\n",
       "      <td>37</td>\n",
       "      <td>202.0</td>\n",
       "      <td>2018-10-08</td>\n",
       "    </tr>\n",
       "    <tr>\n",
       "      <td>1023</td>\n",
       "      <td>2018-11-29 17:00:00</td>\n",
       "      <td>8fba3604-ef57-4b9f-b2fe-3402fa8825c8</td>\n",
       "      <td>69156</td>\n",
       "      <td>Набор ножей Attribute CHEF 5 предметов AKF522</td>\n",
       "      <td>64</td>\n",
       "      <td>457.0</td>\n",
       "      <td>2018-11-29</td>\n",
       "    </tr>\n",
       "    <tr>\n",
       "      <td>212</td>\n",
       "      <td>2018-10-11 14:00:00</td>\n",
       "      <td>cd09ea73-d9ce-48c3-b4c5-018113735e80</td>\n",
       "      <td>68611</td>\n",
       "      <td>Пружина дверная 240 мм оцинкованная (Д-19 мм) ...</td>\n",
       "      <td>150</td>\n",
       "      <td>38.0</td>\n",
       "      <td>2018-10-11</td>\n",
       "    </tr>\n",
       "    <tr>\n",
       "      <td>2060</td>\n",
       "      <td>2019-02-28 08:00:00</td>\n",
       "      <td>d4814734-38a6-4f99-a668-f5408e83c870</td>\n",
       "      <td>70498</td>\n",
       "      <td>Тарелка суповая Luminarc ОКЕАН ЭКЛИПС 20,5 см ...</td>\n",
       "      <td>30</td>\n",
       "      <td>74.0</td>\n",
       "      <td>2019-02-28</td>\n",
       "    </tr>\n",
       "    <tr>\n",
       "      <td>1706</td>\n",
       "      <td>2019-02-05 20:00:00</td>\n",
       "      <td>673d44a3-9cec-4c2f-b0c6-9be4952ddc7c</td>\n",
       "      <td>70114</td>\n",
       "      <td>Вешалка-плечики без эссенции цвет тёмно-розовы...</td>\n",
       "      <td>30</td>\n",
       "      <td>40.0</td>\n",
       "      <td>2019-02-05</td>\n",
       "    </tr>\n",
       "    <tr>\n",
       "      <td>2049</td>\n",
       "      <td>2019-02-27 09:00:00</td>\n",
       "      <td>377c8a20-a3e0-4945-9fd8-a1f4ada5d8b0</td>\n",
       "      <td>70482</td>\n",
       "      <td>Муляж Банан желтый 21 см полиуретан</td>\n",
       "      <td>50</td>\n",
       "      <td>51.0</td>\n",
       "      <td>2019-02-27</td>\n",
       "    </tr>\n",
       "    <tr>\n",
       "      <td>1158</td>\n",
       "      <td>2018-12-10 14:00:00</td>\n",
       "      <td>a984c5b7-ff7e-4647-b84e-ef0b85a2762d</td>\n",
       "      <td>69289</td>\n",
       "      <td>Ручка-скоба РС-100 белая *Трибатрон*, 1108035</td>\n",
       "      <td>200</td>\n",
       "      <td>29.0</td>\n",
       "      <td>2018-12-10</td>\n",
       "    </tr>\n",
       "    <tr>\n",
       "      <td>267</td>\n",
       "      <td>2018-10-16 08:00:00</td>\n",
       "      <td>cd09ea73-d9ce-48c3-b4c5-018113735e80</td>\n",
       "      <td>68611</td>\n",
       "      <td>Пружина дверная 240 мм оцинкованная (Д-19 мм) ...</td>\n",
       "      <td>150</td>\n",
       "      <td>38.0</td>\n",
       "      <td>2018-10-16</td>\n",
       "    </tr>\n",
       "    <tr>\n",
       "      <td>2431</td>\n",
       "      <td>2019-03-23 10:00:00</td>\n",
       "      <td>685d3d84-aebb-485b-8e59-344b3df8b3d3</td>\n",
       "      <td>70841</td>\n",
       "      <td>Плечики пластмассовые Размер 52 - 54 Тула 1205158</td>\n",
       "      <td>150</td>\n",
       "      <td>20.0</td>\n",
       "      <td>2019-03-23</td>\n",
       "    </tr>\n",
       "    <tr>\n",
       "      <td>6707</td>\n",
       "      <td>2019-10-28 10:00:00</td>\n",
       "      <td>018fb729-3525-4314-8e4d-1982b1062f9f</td>\n",
       "      <td>73110</td>\n",
       "      <td>Шпингалет 80 мм белый с пружиной, 1102188</td>\n",
       "      <td>100</td>\n",
       "      <td>44.0</td>\n",
       "      <td>2019-10-28</td>\n",
       "    </tr>\n",
       "    <tr>\n",
       "      <td>1092</td>\n",
       "      <td>2018-12-04 05:00:00</td>\n",
       "      <td>b0f1833c-0763-4f4e-b097-41d27a521e46</td>\n",
       "      <td>69194</td>\n",
       "      <td>Кружка НОРДИК 380мл прозрачная H8502 Luminarc ...</td>\n",
       "      <td>30</td>\n",
       "      <td>58.0</td>\n",
       "      <td>2018-12-04</td>\n",
       "    </tr>\n",
       "    <tr>\n",
       "      <td>1484</td>\n",
       "      <td>2019-01-11 22:00:00</td>\n",
       "      <td>34b2bf7d-7cd8-4aba-909d-396655d77f7e</td>\n",
       "      <td>69793</td>\n",
       "      <td>Вешалка Valiant для брюк и юбок металлическая ...</td>\n",
       "      <td>50</td>\n",
       "      <td>94.0</td>\n",
       "      <td>2019-01-11</td>\n",
       "    </tr>\n",
       "  </tbody>\n",
       "</table>\n",
       "</div>"
      ],
      "text/plain": [
       "                    date                           customer_id  order_id  \\\n",
       "1276 2018-12-20 12:00:00  028469c0-9e87-4596-ac2e-c5b1d48ea9b6     69421   \n",
       "1897 2019-02-18 16:00:00  74b08ab4-16e9-4d83-9c31-acfc9d229bc5     70328   \n",
       "5456 2019-06-18 15:00:00  312e9a3e-5fca-43ff-a6a1-892d2b2d5ba6     71743   \n",
       "3078 2019-04-24 12:00:00  b9ced699-9bb7-458c-bc60-a474b415ce1f     71266   \n",
       "2365 2019-03-17 20:00:00  977bba90-df53-4513-b5db-30d6ea1fbca1     70769   \n",
       "1299 2018-12-21 16:00:00  6987e6d6-a63a-4ce2-a2d0-f424092d235e     69504   \n",
       "6504 2019-10-03 14:00:00  d8465f63-35db-4809-aff3-a8f7ebfc257f     72845   \n",
       "6367 2019-09-19 16:00:00  de95510f-3558-4c42-97dc-98cc4215c278     72698   \n",
       "277  2018-10-16 22:00:00  42c5db22-6046-455b-a728-ff163a1b7808     68667   \n",
       "6508 2019-10-04 08:00:00  25a8cd52-3efa-48ee-a6bd-d413d7e2b42f     72845   \n",
       "13   2018-10-01 15:00:00  0948b0c2-990b-4a11-b835-69ac4714b21d     68486   \n",
       "6505 2019-10-03 15:00:00  0309d37c-ab5f-4793-ba72-5484c019b840     72845   \n",
       "2467 2019-03-25 16:00:00  22749361-d927-47e6-a6ad-aee8becdb094     70876   \n",
       "6684 2019-10-23 11:00:00  2fac41bf-e800-4bc3-a4b3-0df800f33e99     73073   \n",
       "1456 2019-01-09 11:00:00  ea741fdc-4883-4fc1-a34e-a8bcf8dc6cbb     69743   \n",
       "5591 2019-06-25 21:00:00  72df1c3c-6efc-45c5-9b12-5a48935a48a4     71802   \n",
       "4127 2019-05-30 07:00:00  c03e95a5-e141-45b4-92b7-7c7734391569     71551   \n",
       "2371 2019-03-18 10:00:00  21b4642e-9cdf-4738-a290-b42d3e748c0f     70776   \n",
       "1568 2019-01-22 15:00:00  6be74251-7159-4cc0-99fb-d034a17c61b0     69928   \n",
       "2969 2019-04-19 18:00:00  498f12a4-6a62-4725-8516-cf5dc9ab8a3a     71204   \n",
       "1369 2018-12-26 10:00:00  ea741fdc-4883-4fc1-a34e-a8bcf8dc6cbb     69608   \n",
       "233  2018-10-12 15:00:00  4d93d3f6-8b24-403b-a74b-f5173e40d7db     68623   \n",
       "4082 2019-05-28 13:00:00  f9d19e1d-9414-485b-9d8d-02bc196a88e8     71539   \n",
       "1555 2019-01-21 09:00:00  8eabcaca-e8c8-4eee-9079-4ff5f612273a     69893   \n",
       "281  2018-10-17 13:00:00  4d93d3f6-8b24-403b-a74b-f5173e40d7db     68668   \n",
       "2366 2019-03-17 21:00:00  977bba90-df53-4513-b5db-30d6ea1fbca1     70769   \n",
       "568  2018-11-01 08:00:00  aa42dc38-780f-4b50-9a65-83b6fa64e766     68815   \n",
       "282  2018-10-17 13:00:00  4d93d3f6-8b24-403b-a74b-f5173e40d7db     68668   \n",
       "6663 2019-10-20 21:00:00  6583407e-7d0d-4ece-93f8-6f7cb64f9926     73041   \n",
       "3961 2019-05-20 21:00:00  5d189e88-d4d6-4eac-ab43-fa65a3c4d106     71478   \n",
       "1243 2018-12-17 19:00:00  028469c0-9e87-4596-ac2e-c5b1d48ea9b6     69421   \n",
       "6478 2019-09-30 16:00:00  0af078d6-facf-4ece-ad7b-3b4446ec19a2     72811   \n",
       "6678 2019-10-22 16:00:00  511115b7-e981-4069-9e0e-88a3551341a6     73063   \n",
       "279  2018-10-17 11:00:00  4d93d3f6-8b24-403b-a74b-f5173e40d7db     68668   \n",
       "1433 2019-01-03 21:00:00  028469c0-9e87-4596-ac2e-c5b1d48ea9b6     69421   \n",
       "4037 2019-05-27 10:00:00  b92e90cd-7904-463b-ab38-7f8c8830f777     71519   \n",
       "586  2018-11-02 11:00:00  0c5aaa88-e346-4f87-8f7a-ad8cbc04e965     68831   \n",
       "2531 2019-03-28 20:00:00  bba9b7bf-09a6-4f16-81c3-2b83dcebbc0a     70915   \n",
       "144  2018-10-08 15:00:00  9151d307-654c-4239-a888-ada5ca45f0b2     68571   \n",
       "1023 2018-11-29 17:00:00  8fba3604-ef57-4b9f-b2fe-3402fa8825c8     69156   \n",
       "212  2018-10-11 14:00:00  cd09ea73-d9ce-48c3-b4c5-018113735e80     68611   \n",
       "2060 2019-02-28 08:00:00  d4814734-38a6-4f99-a668-f5408e83c870     70498   \n",
       "1706 2019-02-05 20:00:00  673d44a3-9cec-4c2f-b0c6-9be4952ddc7c     70114   \n",
       "2049 2019-02-27 09:00:00  377c8a20-a3e0-4945-9fd8-a1f4ada5d8b0     70482   \n",
       "1158 2018-12-10 14:00:00  a984c5b7-ff7e-4647-b84e-ef0b85a2762d     69289   \n",
       "267  2018-10-16 08:00:00  cd09ea73-d9ce-48c3-b4c5-018113735e80     68611   \n",
       "2431 2019-03-23 10:00:00  685d3d84-aebb-485b-8e59-344b3df8b3d3     70841   \n",
       "6707 2019-10-28 10:00:00  018fb729-3525-4314-8e4d-1982b1062f9f     73110   \n",
       "1092 2018-12-04 05:00:00  b0f1833c-0763-4f4e-b097-41d27a521e46     69194   \n",
       "1484 2019-01-11 22:00:00  34b2bf7d-7cd8-4aba-909d-396655d77f7e     69793   \n",
       "\n",
       "                                                product  quantity  price  \\\n",
       "1276  Крючок одежный двойной усиленный алюминиевый (...        30   26.0   \n",
       "1897                 Муляж Лимон желтый 9 см полиуретан        50   51.0   \n",
       "5456  Вантуз с деревянной ручкой d14 см красный, Bur...      1000  675.0   \n",
       "3078        Вешалка деревянная для верхней одежды 45 см        30  149.0   \n",
       "2365  Искусственный цветок Подснежник пластиковый белый        30   32.0   \n",
       "1299  Тележка багажная DELTA ТБР-22 синий грузоподъе...        57  574.0   \n",
       "6504               Муляж Яблоко зеленый 9 см полиуретан        40   59.0   \n",
       "6367  Универсальный нож WEBBER из нержавеющей стали ...        80   45.0   \n",
       "277         Муляж Красное яблоко мини полиуретан d-6 см        30   19.0   \n",
       "6508               Муляж Яблоко зеленый 9 см полиуретан        40   59.0   \n",
       "13    Крючок одежный 2-х рожковый серый металлик с п...        96   38.0   \n",
       "6505               Муляж Яблоко зеленый 9 см полиуретан        40   59.0   \n",
       "2467                 Муляж Лимон желтый 9 см полиуретан        30   59.0   \n",
       "6684  Ведро резинопластиковое строительное 12,0 л (М...        50   64.0   \n",
       "1456  Тарелка обеденная Luminarc ОКЕАН ЭКЛИПС 24 см ...        30   82.0   \n",
       "5591  Петля приварная гаражная d 14х90 мм с шаром, 1...        40   38.0   \n",
       "4127  Щетка-сметка 4-х рядная деревянная 300 мм (фиг...        30   64.0   \n",
       "2371  Гвоздика стандартная Белая 60 см Колумбия План...        43   29.0   \n",
       "1568                          Спатифиллум Шопен d-12 см        45  250.0   \n",
       "2969  Салфетка Protec Textil Polyline 30х43 см Амети...        60  191.0   \n",
       "1369  Тарелка суповая Luminarc ОКЕАН ЭКЛИПС 20,5 см ...        30   82.0   \n",
       "233   Петля приварная гаражная d 14х90 мм с шаром, 1...        50   38.0   \n",
       "4082  Насадка на валик ВММ-200/60 белый искусственны...        70   22.0   \n",
       "1555       Щетка для мытья посуды КОЛИБРИ М5202 большая       100   34.0   \n",
       "281              Щетка для посуды *Мила* SV3182 1807009        50   27.0   \n",
       "2366  Искусственный цветок Подснежник пластиковый белый        30   32.0   \n",
       "568                           Муляж ЯБЛОКО 9 см красное       170   51.0   \n",
       "282   Щетка-утюжок с ручкой Миди, Standart, York, G1126        50   44.0   \n",
       "6663  Искусственный цветок Роза закрытая малая пласт...        30   19.0   \n",
       "3961                          Муляж ЯБЛОКО 9 см красное       300   51.0   \n",
       "1243  Крючок одежный двойной усиленный алюминиевый (...        30   26.0   \n",
       "6478     Кружка с трубочкой Attribute МЯЧ 500 мл JAR501        60   76.0   \n",
       "6678               Муляж Яблоко зеленый 9 см полиуретан        50   51.0   \n",
       "279   Щетка-утюжок с ручкой Миди, Standart, York, G1126        50   44.0   \n",
       "1433  Крючок одежный двойной усиленный алюминиевый (...        30   26.0   \n",
       "4037   Ёрш унитазный с деревянной ручкой , Ваир 1712012        30   51.0   \n",
       "586                           Муляж ЯБЛОКО 9 см красное       140   59.0   \n",
       "2531  Цветок искусственный Гвоздика тканевая красная...        31   20.0   \n",
       "144   Набор вешалок для костюма 45см 4шт цвет: кремо...        37  202.0   \n",
       "1023      Набор ножей Attribute CHEF 5 предметов AKF522        64  457.0   \n",
       "212   Пружина дверная 240 мм оцинкованная (Д-19 мм) ...       150   38.0   \n",
       "2060  Тарелка суповая Luminarc ОКЕАН ЭКЛИПС 20,5 см ...        30   74.0   \n",
       "1706  Вешалка-плечики без эссенции цвет тёмно-розовы...        30   40.0   \n",
       "2049                Муляж Банан желтый 21 см полиуретан        50   51.0   \n",
       "1158      Ручка-скоба РС-100 белая *Трибатрон*, 1108035       200   29.0   \n",
       "267   Пружина дверная 240 мм оцинкованная (Д-19 мм) ...       150   38.0   \n",
       "2431  Плечики пластмассовые Размер 52 - 54 Тула 1205158       150   20.0   \n",
       "6707          Шпингалет 80 мм белый с пружиной, 1102188       100   44.0   \n",
       "1092  Кружка НОРДИК 380мл прозрачная H8502 Luminarc ...        30   58.0   \n",
       "1484  Вешалка Valiant для брюк и юбок металлическая ...        50   94.0   \n",
       "\n",
       "        date_day  \n",
       "1276  2018-12-20  \n",
       "1897  2019-02-18  \n",
       "5456  2019-06-18  \n",
       "3078  2019-04-24  \n",
       "2365  2019-03-17  \n",
       "1299  2018-12-21  \n",
       "6504  2019-10-03  \n",
       "6367  2019-09-19  \n",
       "277   2018-10-16  \n",
       "6508  2019-10-04  \n",
       "13    2018-10-01  \n",
       "6505  2019-10-03  \n",
       "2467  2019-03-25  \n",
       "6684  2019-10-23  \n",
       "1456  2019-01-09  \n",
       "5591  2019-06-25  \n",
       "4127  2019-05-30  \n",
       "2371  2019-03-18  \n",
       "1568  2019-01-22  \n",
       "2969  2019-04-19  \n",
       "1369  2018-12-26  \n",
       "233   2018-10-12  \n",
       "4082  2019-05-28  \n",
       "1555  2019-01-21  \n",
       "281   2018-10-17  \n",
       "2366  2019-03-17  \n",
       "568   2018-11-01  \n",
       "282   2018-10-17  \n",
       "6663  2019-10-20  \n",
       "3961  2019-05-20  \n",
       "1243  2018-12-17  \n",
       "6478  2019-09-30  \n",
       "6678  2019-10-22  \n",
       "279   2018-10-17  \n",
       "1433  2019-01-03  \n",
       "4037  2019-05-27  \n",
       "586   2018-11-02  \n",
       "2531  2019-03-28  \n",
       "144   2018-10-08  \n",
       "1023  2018-11-29  \n",
       "212   2018-10-11  \n",
       "2060  2019-02-28  \n",
       "1706  2019-02-05  \n",
       "2049  2019-02-27  \n",
       "1158  2018-12-10  \n",
       "267   2018-10-16  \n",
       "2431  2019-03-23  \n",
       "6707  2019-10-28  \n",
       "1092  2018-12-04  \n",
       "1484  2019-01-11  "
      ]
     },
     "execution_count": 19,
     "metadata": {},
     "output_type": "execute_result"
    }
   ],
   "source": [
    "data_quantity_check = data.query('quantity >= 30')\n",
    "data_quantity_check.sample(50)"
   ]
  },
  {
   "cell_type": "code",
   "execution_count": 20,
   "metadata": {},
   "outputs": [
    {
     "data": {
      "text/plain": [
       "2439"
      ]
     },
     "execution_count": 20,
     "metadata": {},
     "output_type": "execute_result"
    }
   ],
   "source": [
    "len_data_quantity = len(data_quantity['customer_id'].unique())\n",
    "len_data_quantity"
   ]
  },
  {
   "cell_type": "code",
   "execution_count": 21,
   "metadata": {},
   "outputs": [
    {
     "data": {
      "text/plain": [
       "0.004895960832313362"
      ]
     },
     "execution_count": 21,
     "metadata": {},
     "output_type": "execute_result"
    }
   ],
   "source": [
    "percentile_quantity = 1 - len_data_quantity/len_data\n",
    "percentile_quantity"
   ]
  },
  {
   "cell_type": "markdown",
   "metadata": {},
   "source": [
    "Мы потеряли 0,5% пользователей."
   ]
  },
  {
   "cell_type": "markdown",
   "metadata": {},
   "source": [
    "### Количество наименований в заказе. Обработка выбросов <a class=\"anchor\" id=\"9-bullet\"></a>\n",
    "👈[назад к оглавлению](#0-bullet)"
   ]
  },
  {
   "cell_type": "code",
   "execution_count": 22,
   "metadata": {},
   "outputs": [
    {
     "data": {
      "text/plain": [
       "2772"
      ]
     },
     "execution_count": 22,
     "metadata": {},
     "output_type": "execute_result"
    }
   ],
   "source": [
    "len(data_quantity['order_id'].unique())\n"
   ]
  },
  {
   "cell_type": "code",
   "execution_count": 23,
   "metadata": {},
   "outputs": [
    {
     "data": {
      "text/html": [
       "<div>\n",
       "<style scoped>\n",
       "    .dataframe tbody tr th:only-of-type {\n",
       "        vertical-align: middle;\n",
       "    }\n",
       "\n",
       "    .dataframe tbody tr th {\n",
       "        vertical-align: top;\n",
       "    }\n",
       "\n",
       "    .dataframe thead th {\n",
       "        text-align: right;\n",
       "    }\n",
       "</style>\n",
       "<table border=\"1\" class=\"dataframe\">\n",
       "  <thead>\n",
       "    <tr style=\"text-align: right;\">\n",
       "      <th></th>\n",
       "      <th>date</th>\n",
       "      <th>customer_id</th>\n",
       "      <th>order_id</th>\n",
       "      <th>product</th>\n",
       "      <th>quantity</th>\n",
       "      <th>price</th>\n",
       "      <th>date_day</th>\n",
       "    </tr>\n",
       "  </thead>\n",
       "  <tbody>\n",
       "    <tr>\n",
       "      <td>754</td>\n",
       "      <td>2018-11-10 14:00:00</td>\n",
       "      <td>e2f8a3ad-2cd5-41c5-99f7-213b0e851c85</td>\n",
       "      <td>68941</td>\n",
       "      <td>Стакан низкий Лабиринт 250 мл для напитков 05с...</td>\n",
       "      <td>10</td>\n",
       "      <td>21.0</td>\n",
       "      <td>2018-11-10</td>\n",
       "    </tr>\n",
       "  </tbody>\n",
       "</table>\n",
       "</div>"
      ],
      "text/plain": [
       "                   date                           customer_id  order_id  \\\n",
       "754 2018-11-10 14:00:00  e2f8a3ad-2cd5-41c5-99f7-213b0e851c85     68941   \n",
       "\n",
       "                                               product  quantity  price  \\\n",
       "754  Стакан низкий Лабиринт 250 мл для напитков 05с...        10   21.0   \n",
       "\n",
       "       date_day  \n",
       "754  2018-11-10  "
      ]
     },
     "execution_count": 23,
     "metadata": {},
     "output_type": "execute_result"
    }
   ],
   "source": [
    "data_quantity.sample()"
   ]
  },
  {
   "cell_type": "code",
   "execution_count": 24,
   "metadata": {},
   "outputs": [
    {
     "data": {
      "text/html": [
       "<div>\n",
       "<style scoped>\n",
       "    .dataframe tbody tr th:only-of-type {\n",
       "        vertical-align: middle;\n",
       "    }\n",
       "\n",
       "    .dataframe tbody tr th {\n",
       "        vertical-align: top;\n",
       "    }\n",
       "\n",
       "    .dataframe thead th {\n",
       "        text-align: right;\n",
       "    }\n",
       "</style>\n",
       "<table border=\"1\" class=\"dataframe\">\n",
       "  <thead>\n",
       "    <tr style=\"text-align: right;\">\n",
       "      <th></th>\n",
       "      <th>order_id</th>\n",
       "      <th>products_in_order</th>\n",
       "    </tr>\n",
       "  </thead>\n",
       "  <tbody>\n",
       "    <tr>\n",
       "      <td>0</td>\n",
       "      <td>12624</td>\n",
       "      <td>2</td>\n",
       "    </tr>\n",
       "    <tr>\n",
       "      <td>1</td>\n",
       "      <td>13547</td>\n",
       "      <td>21</td>\n",
       "    </tr>\n",
       "    <tr>\n",
       "      <td>2</td>\n",
       "      <td>14480</td>\n",
       "      <td>3</td>\n",
       "    </tr>\n",
       "    <tr>\n",
       "      <td>3</td>\n",
       "      <td>14481</td>\n",
       "      <td>4</td>\n",
       "    </tr>\n",
       "    <tr>\n",
       "      <td>4</td>\n",
       "      <td>14482</td>\n",
       "      <td>2</td>\n",
       "    </tr>\n",
       "  </tbody>\n",
       "</table>\n",
       "</div>"
      ],
      "text/plain": [
       "   order_id  products_in_order\n",
       "0     12624                  2\n",
       "1     13547                 21\n",
       "2     14480                  3\n",
       "3     14481                  4\n",
       "4     14482                  2"
      ]
     },
     "metadata": {},
     "output_type": "display_data"
    },
    {
     "data": {
      "text/plain": [
       "(2772, 2)"
      ]
     },
     "metadata": {},
     "output_type": "display_data"
    }
   ],
   "source": [
    "products_in_order = data_quantity.groupby(['order_id']).agg({'product': 'count'}).reset_index()\n",
    "products_in_order = products_in_order.rename(columns={'product':'products_in_order'})\n",
    "\n",
    "display(products_in_order.head())\n",
    "display(products_in_order.shape)"
   ]
  },
  {
   "cell_type": "code",
   "execution_count": 25,
   "metadata": {},
   "outputs": [
    {
     "data": {
      "image/png": "[encoded data removed]",
      "text/plain": [
       "<Figure size 864x432 with 1 Axes>"
      ]
     },
     "metadata": {
      "needs_background": "light"
     },
     "output_type": "display_data"
    }
   ],
   "source": [
    "fig = plt.figure()\n",
    "\n",
    "products_in_order['products_in_order'].plot(kind = 'hist', bins=100, legend=True, figsize=(12, 6))\n",
    "plt.title('Количество наименований в заказе')\n",
    "fig.savefig(\"5.png\", dpi=200)\n",
    "\n",
    "\n",
    "plt.show()"
   ]
  },
  {
   "cell_type": "code",
   "execution_count": 26,
   "metadata": {
    "scrolled": false
   },
   "outputs": [
    {
     "name": "stdout",
     "output_type": "stream",
     "text": [
      "count    2772.000000\n",
      "mean        2.424964\n",
      "std        17.695481\n",
      "min         1.000000\n",
      "25%         1.000000\n",
      "50%         1.000000\n",
      "75%         1.000000\n",
      "max       888.000000\n",
      "Name: products_in_order, dtype: float64\n"
     ]
    },
    {
     "data": {
      "image/png": "[encoded data removed]",
      "text/plain": [
       "<Figure size 432x288 with 1 Axes>"
      ]
     },
     "metadata": {
      "needs_background": "light"
     },
     "output_type": "display_data"
    },
    {
     "name": "stdout",
     "output_type": "stream",
     "text": [
      "[ 1.  4.  7. 18.]\n"
     ]
    }
   ],
   "source": [
    "print(products_in_order['products_in_order'].describe())\n",
    "fig = plt.figure()\n",
    "\n",
    "products_in_order.boxplot(column = 'products_in_order')\n",
    "plt.title('Количество наименований в заказе')\n",
    "fig.savefig(\"6.png\", dpi=200)\n",
    "\n",
    "\n",
    "plt.show()\n",
    "\n",
    "print(np.percentile(products_in_order['products_in_order'], [5, 90, 95, 99]))"
   ]
  },
  {
   "cell_type": "code",
   "execution_count": 27,
   "metadata": {},
   "outputs": [
    {
     "data": {
      "text/plain": [
       "(6722, 7)"
      ]
     },
     "execution_count": 27,
     "metadata": {},
     "output_type": "execute_result"
    }
   ],
   "source": [
    "data_quantity.shape"
   ]
  },
  {
   "cell_type": "code",
   "execution_count": 28,
   "metadata": {},
   "outputs": [],
   "source": [
    "data_orders = data_quantity.merge(products_in_order, on=('order_id'))\n"
   ]
  },
  {
   "cell_type": "code",
   "execution_count": 29,
   "metadata": {},
   "outputs": [
    {
     "data": {
      "text/plain": [
       "(6722, 8)"
      ]
     },
     "execution_count": 29,
     "metadata": {},
     "output_type": "execute_result"
    }
   ],
   "source": [
    "data_orders.shape"
   ]
  },
  {
   "cell_type": "code",
   "execution_count": 30,
   "metadata": {},
   "outputs": [
    {
     "data": {
      "text/plain": [
       "2439"
      ]
     },
     "execution_count": 30,
     "metadata": {},
     "output_type": "execute_result"
    }
   ],
   "source": [
    "len_data_quantity"
   ]
  },
  {
   "cell_type": "markdown",
   "metadata": {},
   "source": [
    "Удаляем выбросы - количество наименований в заказе более 20."
   ]
  },
  {
   "cell_type": "code",
   "execution_count": 31,
   "metadata": {},
   "outputs": [],
   "source": [
    "data_orders_less_20 = data_orders.query('products_in_order < 20')"
   ]
  },
  {
   "cell_type": "code",
   "execution_count": 32,
   "metadata": {},
   "outputs": [
    {
     "data": {
      "text/plain": [
       "2418"
      ]
     },
     "execution_count": 32,
     "metadata": {},
     "output_type": "execute_result"
    }
   ],
   "source": [
    "len_data_orders_less_20 = len(data_orders_less_20['customer_id'].unique())\n",
    "len_data_orders_less_20"
   ]
  },
  {
   "cell_type": "code",
   "execution_count": 33,
   "metadata": {},
   "outputs": [
    {
     "data": {
      "text/plain": [
       "0.008610086100861003"
      ]
     },
     "execution_count": 33,
     "metadata": {},
     "output_type": "execute_result"
    }
   ],
   "source": [
    "percentile_data_orders_less_20 = 1 - len_data_orders_less_20/len_data_quantity\n",
    "percentile_data_orders_less_20"
   ]
  },
  {
   "cell_type": "markdown",
   "metadata": {},
   "source": [
    "Мы потеряли 0,9% пользователей."
   ]
  },
  {
   "cell_type": "markdown",
   "metadata": {},
   "source": [
    "### Количество заказов на одного пользователя. Обработка выбросов <a class=\"anchor\" id=\"10-bullet\"></a>\n",
    "👈[назад к оглавлению](#0-bullet)"
   ]
  },
  {
   "cell_type": "code",
   "execution_count": 34,
   "metadata": {},
   "outputs": [
    {
     "data": {
      "text/html": [
       "<div>\n",
       "<style scoped>\n",
       "    .dataframe tbody tr th:only-of-type {\n",
       "        vertical-align: middle;\n",
       "    }\n",
       "\n",
       "    .dataframe tbody tr th {\n",
       "        vertical-align: top;\n",
       "    }\n",
       "\n",
       "    .dataframe thead th {\n",
       "        text-align: right;\n",
       "    }\n",
       "</style>\n",
       "<table border=\"1\" class=\"dataframe\">\n",
       "  <thead>\n",
       "    <tr style=\"text-align: right;\">\n",
       "      <th></th>\n",
       "      <th>date</th>\n",
       "      <th>customer_id</th>\n",
       "      <th>order_id</th>\n",
       "      <th>product</th>\n",
       "      <th>quantity</th>\n",
       "      <th>price</th>\n",
       "      <th>date_day</th>\n",
       "      <th>products_in_order</th>\n",
       "    </tr>\n",
       "  </thead>\n",
       "  <tbody>\n",
       "    <tr>\n",
       "      <td>0</td>\n",
       "      <td>2018-10-01</td>\n",
       "      <td>ee47d746-6d2f-4d3c-9622-c31412542920</td>\n",
       "      <td>68477</td>\n",
       "      <td>Комнатное растение в горшке Алое Вера, d12, h30</td>\n",
       "      <td>1</td>\n",
       "      <td>142.0</td>\n",
       "      <td>2018-10-01</td>\n",
       "      <td>7</td>\n",
       "    </tr>\n",
       "    <tr>\n",
       "      <td>1</td>\n",
       "      <td>2018-10-01</td>\n",
       "      <td>ee47d746-6d2f-4d3c-9622-c31412542920</td>\n",
       "      <td>68477</td>\n",
       "      <td>Комнатное растение в горшке Кофе Арабика, d12,...</td>\n",
       "      <td>1</td>\n",
       "      <td>194.0</td>\n",
       "      <td>2018-10-01</td>\n",
       "      <td>7</td>\n",
       "    </tr>\n",
       "    <tr>\n",
       "      <td>2</td>\n",
       "      <td>2018-10-01</td>\n",
       "      <td>ee47d746-6d2f-4d3c-9622-c31412542920</td>\n",
       "      <td>68477</td>\n",
       "      <td>Радермахера d-12 см h-20 см</td>\n",
       "      <td>1</td>\n",
       "      <td>112.0</td>\n",
       "      <td>2018-10-01</td>\n",
       "      <td>7</td>\n",
       "    </tr>\n",
       "    <tr>\n",
       "      <td>3</td>\n",
       "      <td>2018-10-01</td>\n",
       "      <td>ee47d746-6d2f-4d3c-9622-c31412542920</td>\n",
       "      <td>68477</td>\n",
       "      <td>Хризолидокарпус Лутесценс d-9 см</td>\n",
       "      <td>1</td>\n",
       "      <td>179.0</td>\n",
       "      <td>2018-10-01</td>\n",
       "      <td>7</td>\n",
       "    </tr>\n",
       "    <tr>\n",
       "      <td>4</td>\n",
       "      <td>2018-10-01</td>\n",
       "      <td>ee47d746-6d2f-4d3c-9622-c31412542920</td>\n",
       "      <td>68477</td>\n",
       "      <td>Циперус Зумула d-12 см h-25 см</td>\n",
       "      <td>1</td>\n",
       "      <td>112.0</td>\n",
       "      <td>2018-10-01</td>\n",
       "      <td>7</td>\n",
       "    </tr>\n",
       "  </tbody>\n",
       "</table>\n",
       "</div>"
      ],
      "text/plain": [
       "        date                           customer_id  order_id  \\\n",
       "0 2018-10-01  ee47d746-6d2f-4d3c-9622-c31412542920     68477   \n",
       "1 2018-10-01  ee47d746-6d2f-4d3c-9622-c31412542920     68477   \n",
       "2 2018-10-01  ee47d746-6d2f-4d3c-9622-c31412542920     68477   \n",
       "3 2018-10-01  ee47d746-6d2f-4d3c-9622-c31412542920     68477   \n",
       "4 2018-10-01  ee47d746-6d2f-4d3c-9622-c31412542920     68477   \n",
       "\n",
       "                                             product  quantity  price  \\\n",
       "0    Комнатное растение в горшке Алое Вера, d12, h30         1  142.0   \n",
       "1  Комнатное растение в горшке Кофе Арабика, d12,...         1  194.0   \n",
       "2                        Радермахера d-12 см h-20 см         1  112.0   \n",
       "3                   Хризолидокарпус Лутесценс d-9 см         1  179.0   \n",
       "4                     Циперус Зумула d-12 см h-25 см         1  112.0   \n",
       "\n",
       "     date_day  products_in_order  \n",
       "0  2018-10-01                  7  \n",
       "1  2018-10-01                  7  \n",
       "2  2018-10-01                  7  \n",
       "3  2018-10-01                  7  \n",
       "4  2018-10-01                  7  "
      ]
     },
     "execution_count": 34,
     "metadata": {},
     "output_type": "execute_result"
    }
   ],
   "source": [
    "data_orders_less_20.head()"
   ]
  },
  {
   "cell_type": "code",
   "execution_count": 35,
   "metadata": {},
   "outputs": [
    {
     "data": {
      "text/html": [
       "<div>\n",
       "<style scoped>\n",
       "    .dataframe tbody tr th:only-of-type {\n",
       "        vertical-align: middle;\n",
       "    }\n",
       "\n",
       "    .dataframe tbody tr th {\n",
       "        vertical-align: top;\n",
       "    }\n",
       "\n",
       "    .dataframe thead th {\n",
       "        text-align: right;\n",
       "    }\n",
       "</style>\n",
       "<table border=\"1\" class=\"dataframe\">\n",
       "  <thead>\n",
       "    <tr style=\"text-align: right;\">\n",
       "      <th></th>\n",
       "      <th>customer_id</th>\n",
       "      <th>orders_by_customer</th>\n",
       "    </tr>\n",
       "  </thead>\n",
       "  <tbody>\n",
       "    <tr>\n",
       "      <td>0</td>\n",
       "      <td>000d6849-084e-4d9f-ac03-37174eaf60c4</td>\n",
       "      <td>1</td>\n",
       "    </tr>\n",
       "    <tr>\n",
       "      <td>1</td>\n",
       "      <td>001cee7f-0b29-4716-b202-0042213ab038</td>\n",
       "      <td>1</td>\n",
       "    </tr>\n",
       "    <tr>\n",
       "      <td>2</td>\n",
       "      <td>00299f34-5385-4d13-9aea-c80b81658e1b</td>\n",
       "      <td>1</td>\n",
       "    </tr>\n",
       "    <tr>\n",
       "      <td>3</td>\n",
       "      <td>002d4d3a-4a59-406b-86ec-c3314357e498</td>\n",
       "      <td>1</td>\n",
       "    </tr>\n",
       "    <tr>\n",
       "      <td>4</td>\n",
       "      <td>003bbd39-0000-41ff-b7f9-2ddaec152037</td>\n",
       "      <td>1</td>\n",
       "    </tr>\n",
       "  </tbody>\n",
       "</table>\n",
       "</div>"
      ],
      "text/plain": [
       "                            customer_id  orders_by_customer\n",
       "0  000d6849-084e-4d9f-ac03-37174eaf60c4                   1\n",
       "1  001cee7f-0b29-4716-b202-0042213ab038                   1\n",
       "2  00299f34-5385-4d13-9aea-c80b81658e1b                   1\n",
       "3  002d4d3a-4a59-406b-86ec-c3314357e498                   1\n",
       "4  003bbd39-0000-41ff-b7f9-2ddaec152037                   1"
      ]
     },
     "metadata": {},
     "output_type": "display_data"
    },
    {
     "data": {
      "text/plain": [
       "(2418, 2)"
      ]
     },
     "metadata": {},
     "output_type": "display_data"
    }
   ],
   "source": [
    "orders_by_customer = data_orders_less_20.groupby(['customer_id']).agg({'order_id': 'nunique'}).reset_index()\n",
    "orders_by_customer = orders_by_customer.rename(columns={'order_id':'orders_by_customer'})\n",
    "\n",
    "display(orders_by_customer.head())\n",
    "display(orders_by_customer.shape)"
   ]
  },
  {
   "cell_type": "code",
   "execution_count": 36,
   "metadata": {},
   "outputs": [
    {
     "data": {
      "image/png": "[encoded data removed]",
      "text/plain": [
       "<Figure size 864x432 with 1 Axes>"
      ]
     },
     "metadata": {
      "needs_background": "light"
     },
     "output_type": "display_data"
    }
   ],
   "source": [
    "fig = plt.figure()\n",
    "\n",
    "orders_by_customer['orders_by_customer'].plot(kind = 'hist', bins=100, legend=True, figsize=(12, 6))\n",
    "plt.ylabel('Количество пользователей')\n",
    "plt.xlabel('Количество заказов')\n",
    "plt.title('Количество заказов на одного пользователя')\n",
    "fig.savefig(\"7.png\", dpi=200)\n",
    "\n",
    "\n",
    "plt.show()"
   ]
  },
  {
   "cell_type": "code",
   "execution_count": 37,
   "metadata": {},
   "outputs": [
    {
     "name": "stdout",
     "output_type": "stream",
     "text": [
      "count    2418.000000\n",
      "mean        1.150951\n",
      "std         2.672738\n",
      "min         1.000000\n",
      "25%         1.000000\n",
      "50%         1.000000\n",
      "75%         1.000000\n",
      "max       126.000000\n",
      "Name: orders_by_customer, dtype: float64\n"
     ]
    },
    {
     "data": {
      "image/png": "[encoded data removed]",
      "text/plain": [
       "<Figure size 432x288 with 1 Axes>"
      ]
     },
     "metadata": {
      "needs_background": "light"
     },
     "output_type": "display_data"
    },
    {
     "name": "stdout",
     "output_type": "stream",
     "text": [
      "[1. 1. 2. 3.]\n"
     ]
    }
   ],
   "source": [
    "print(orders_by_customer['orders_by_customer'].describe())\n",
    "fig = plt.figure()\n",
    "\n",
    "orders_by_customer.boxplot(column = 'orders_by_customer')\n",
    "plt.ylabel('Количество заказов')\n",
    "plt.title('Количество заказов на одного пользователя')\n",
    "fig.savefig(\"8.png\", dpi=200)\n",
    "\n",
    "\n",
    "plt.show()\n",
    "\n",
    "print(np.percentile(orders_by_customer['orders_by_customer'], [5, 90, 95, 99]))"
   ]
  },
  {
   "cell_type": "code",
   "execution_count": 38,
   "metadata": {},
   "outputs": [
    {
     "data": {
      "text/plain": [
       "(4917, 8)"
      ]
     },
     "execution_count": 38,
     "metadata": {},
     "output_type": "execute_result"
    }
   ],
   "source": [
    "data_orders_less_20.shape"
   ]
  },
  {
   "cell_type": "code",
   "execution_count": 39,
   "metadata": {},
   "outputs": [],
   "source": [
    "data_orders_by_customer = data_orders_less_20.merge(orders_by_customer, on=('customer_id'))\n"
   ]
  },
  {
   "cell_type": "code",
   "execution_count": 40,
   "metadata": {},
   "outputs": [
    {
     "data": {
      "text/plain": [
       "(4917, 9)"
      ]
     },
     "execution_count": 40,
     "metadata": {},
     "output_type": "execute_result"
    }
   ],
   "source": [
    "data_orders_by_customer.shape"
   ]
  },
  {
   "cell_type": "code",
   "execution_count": 41,
   "metadata": {},
   "outputs": [
    {
     "data": {
      "text/plain": [
       "2418"
      ]
     },
     "execution_count": 41,
     "metadata": {},
     "output_type": "execute_result"
    }
   ],
   "source": [
    "len_data_orders_less_20"
   ]
  },
  {
   "cell_type": "markdown",
   "metadata": {},
   "source": [
    "Удаляем выбросы - количество заказов на одного пользователя более 5."
   ]
  },
  {
   "cell_type": "code",
   "execution_count": 42,
   "metadata": {},
   "outputs": [],
   "source": [
    "data_orders_by_customer_less_5 = data_orders_by_customer.query('orders_by_customer < 5')"
   ]
  },
  {
   "cell_type": "code",
   "execution_count": 43,
   "metadata": {},
   "outputs": [
    {
     "data": {
      "text/plain": [
       "2414"
      ]
     },
     "execution_count": 43,
     "metadata": {},
     "output_type": "execute_result"
    }
   ],
   "source": [
    "len_data_orders_by_customer_less_5 = len(data_orders_by_customer_less_5['customer_id'].unique())\n",
    "len_data_orders_by_customer_less_5"
   ]
  },
  {
   "cell_type": "code",
   "execution_count": 44,
   "metadata": {},
   "outputs": [
    {
     "data": {
      "text/plain": [
       "0.0016542597187758634"
      ]
     },
     "execution_count": 44,
     "metadata": {},
     "output_type": "execute_result"
    }
   ],
   "source": [
    "percentile_orders_by_customer_less_5 = 1 - len_data_orders_by_customer_less_5/len_data_orders_less_20\n",
    "percentile_orders_by_customer_less_5"
   ]
  },
  {
   "cell_type": "markdown",
   "metadata": {},
   "source": [
    "Мы потеряли 0,2% пользователей."
   ]
  },
  {
   "cell_type": "code",
   "execution_count": 45,
   "metadata": {},
   "outputs": [
    {
     "data": {
      "text/html": [
       "<div>\n",
       "<style scoped>\n",
       "    .dataframe tbody tr th:only-of-type {\n",
       "        vertical-align: middle;\n",
       "    }\n",
       "\n",
       "    .dataframe tbody tr th {\n",
       "        vertical-align: top;\n",
       "    }\n",
       "\n",
       "    .dataframe thead th {\n",
       "        text-align: right;\n",
       "    }\n",
       "</style>\n",
       "<table border=\"1\" class=\"dataframe\">\n",
       "  <thead>\n",
       "    <tr style=\"text-align: right;\">\n",
       "      <th></th>\n",
       "      <th>date</th>\n",
       "      <th>customer_id</th>\n",
       "      <th>order_id</th>\n",
       "      <th>product</th>\n",
       "      <th>quantity</th>\n",
       "      <th>price</th>\n",
       "      <th>date_day</th>\n",
       "      <th>products_in_order</th>\n",
       "      <th>orders_by_customer</th>\n",
       "    </tr>\n",
       "  </thead>\n",
       "  <tbody>\n",
       "    <tr>\n",
       "      <td>0</td>\n",
       "      <td>2018-10-01</td>\n",
       "      <td>ee47d746-6d2f-4d3c-9622-c31412542920</td>\n",
       "      <td>68477</td>\n",
       "      <td>Комнатное растение в горшке Алое Вера, d12, h30</td>\n",
       "      <td>1</td>\n",
       "      <td>142.0</td>\n",
       "      <td>2018-10-01</td>\n",
       "      <td>7</td>\n",
       "      <td>1</td>\n",
       "    </tr>\n",
       "    <tr>\n",
       "      <td>1</td>\n",
       "      <td>2018-10-01</td>\n",
       "      <td>ee47d746-6d2f-4d3c-9622-c31412542920</td>\n",
       "      <td>68477</td>\n",
       "      <td>Комнатное растение в горшке Кофе Арабика, d12,...</td>\n",
       "      <td>1</td>\n",
       "      <td>194.0</td>\n",
       "      <td>2018-10-01</td>\n",
       "      <td>7</td>\n",
       "      <td>1</td>\n",
       "    </tr>\n",
       "    <tr>\n",
       "      <td>2</td>\n",
       "      <td>2018-10-01</td>\n",
       "      <td>ee47d746-6d2f-4d3c-9622-c31412542920</td>\n",
       "      <td>68477</td>\n",
       "      <td>Радермахера d-12 см h-20 см</td>\n",
       "      <td>1</td>\n",
       "      <td>112.0</td>\n",
       "      <td>2018-10-01</td>\n",
       "      <td>7</td>\n",
       "      <td>1</td>\n",
       "    </tr>\n",
       "    <tr>\n",
       "      <td>3</td>\n",
       "      <td>2018-10-01</td>\n",
       "      <td>ee47d746-6d2f-4d3c-9622-c31412542920</td>\n",
       "      <td>68477</td>\n",
       "      <td>Хризолидокарпус Лутесценс d-9 см</td>\n",
       "      <td>1</td>\n",
       "      <td>179.0</td>\n",
       "      <td>2018-10-01</td>\n",
       "      <td>7</td>\n",
       "      <td>1</td>\n",
       "    </tr>\n",
       "    <tr>\n",
       "      <td>4</td>\n",
       "      <td>2018-10-01</td>\n",
       "      <td>ee47d746-6d2f-4d3c-9622-c31412542920</td>\n",
       "      <td>68477</td>\n",
       "      <td>Циперус Зумула d-12 см h-25 см</td>\n",
       "      <td>1</td>\n",
       "      <td>112.0</td>\n",
       "      <td>2018-10-01</td>\n",
       "      <td>7</td>\n",
       "      <td>1</td>\n",
       "    </tr>\n",
       "  </tbody>\n",
       "</table>\n",
       "</div>"
      ],
      "text/plain": [
       "        date                           customer_id  order_id  \\\n",
       "0 2018-10-01  ee47d746-6d2f-4d3c-9622-c31412542920     68477   \n",
       "1 2018-10-01  ee47d746-6d2f-4d3c-9622-c31412542920     68477   \n",
       "2 2018-10-01  ee47d746-6d2f-4d3c-9622-c31412542920     68477   \n",
       "3 2018-10-01  ee47d746-6d2f-4d3c-9622-c31412542920     68477   \n",
       "4 2018-10-01  ee47d746-6d2f-4d3c-9622-c31412542920     68477   \n",
       "\n",
       "                                             product  quantity  price  \\\n",
       "0    Комнатное растение в горшке Алое Вера, d12, h30         1  142.0   \n",
       "1  Комнатное растение в горшке Кофе Арабика, d12,...         1  194.0   \n",
       "2                        Радермахера d-12 см h-20 см         1  112.0   \n",
       "3                   Хризолидокарпус Лутесценс d-9 см         1  179.0   \n",
       "4                     Циперус Зумула d-12 см h-25 см         1  112.0   \n",
       "\n",
       "     date_day  products_in_order  orders_by_customer  \n",
       "0  2018-10-01                  7                   1  \n",
       "1  2018-10-01                  7                   1  \n",
       "2  2018-10-01                  7                   1  \n",
       "3  2018-10-01                  7                   1  \n",
       "4  2018-10-01                  7                   1  "
      ]
     },
     "execution_count": 45,
     "metadata": {},
     "output_type": "execute_result"
    }
   ],
   "source": [
    "data_orders_by_customer_less_5.head()"
   ]
  },
  {
   "cell_type": "markdown",
   "metadata": {},
   "source": [
    "### Средний чек. Обработка выбросов <a class=\"anchor\" id=\"11-bullet\"></a>\n",
    "👈[назад к оглавлению](#0-bullet)"
   ]
  },
  {
   "cell_type": "code",
   "execution_count": 46,
   "metadata": {},
   "outputs": [
    {
     "data": {
      "text/html": [
       "<div>\n",
       "<style scoped>\n",
       "    .dataframe tbody tr th:only-of-type {\n",
       "        vertical-align: middle;\n",
       "    }\n",
       "\n",
       "    .dataframe tbody tr th {\n",
       "        vertical-align: top;\n",
       "    }\n",
       "\n",
       "    .dataframe thead th {\n",
       "        text-align: right;\n",
       "    }\n",
       "</style>\n",
       "<table border=\"1\" class=\"dataframe\">\n",
       "  <thead>\n",
       "    <tr style=\"text-align: right;\">\n",
       "      <th></th>\n",
       "      <th>order_id</th>\n",
       "      <th>avg_order</th>\n",
       "    </tr>\n",
       "  </thead>\n",
       "  <tbody>\n",
       "    <tr>\n",
       "      <td>0</td>\n",
       "      <td>12624</td>\n",
       "      <td>375.0</td>\n",
       "    </tr>\n",
       "    <tr>\n",
       "      <td>1</td>\n",
       "      <td>14480</td>\n",
       "      <td>359.0</td>\n",
       "    </tr>\n",
       "    <tr>\n",
       "      <td>2</td>\n",
       "      <td>14481</td>\n",
       "      <td>600.0</td>\n",
       "    </tr>\n",
       "    <tr>\n",
       "      <td>3</td>\n",
       "      <td>14482</td>\n",
       "      <td>376.0</td>\n",
       "    </tr>\n",
       "    <tr>\n",
       "      <td>4</td>\n",
       "      <td>14485</td>\n",
       "      <td>507.0</td>\n",
       "    </tr>\n",
       "  </tbody>\n",
       "</table>\n",
       "</div>"
      ],
      "text/plain": [
       "   order_id  avg_order\n",
       "0     12624      375.0\n",
       "1     14480      359.0\n",
       "2     14481      600.0\n",
       "3     14482      376.0\n",
       "4     14485      507.0"
      ]
     },
     "metadata": {},
     "output_type": "display_data"
    },
    {
     "data": {
      "text/plain": [
       "(2565, 2)"
      ]
     },
     "metadata": {},
     "output_type": "display_data"
    }
   ],
   "source": [
    "avg_order = data_orders_by_customer_less_5.groupby(['order_id']).agg({'price': 'sum'}).reset_index()\n",
    "avg_order = avg_order.rename(columns={'price':'avg_order'})\n",
    "\n",
    "display(avg_order.head())\n",
    "display(avg_order.shape)"
   ]
  },
  {
   "cell_type": "code",
   "execution_count": 47,
   "metadata": {},
   "outputs": [
    {
     "data": {
      "image/png": "[encoded data removed]",
      "text/plain": [
       "<Figure size 864x432 with 1 Axes>"
      ]
     },
     "metadata": {
      "needs_background": "light"
     },
     "output_type": "display_data"
    }
   ],
   "source": [
    "fig = plt.figure()\n",
    "\n",
    "avg_order['avg_order'].plot(kind = 'hist', bins=100, legend=True, figsize=(12, 6))\n",
    "plt.title('Средний чек')\n",
    "fig.savefig(\"9.png\", dpi=200)\n",
    "\n",
    "\n",
    "plt.show()"
   ]
  },
  {
   "cell_type": "code",
   "execution_count": 48,
   "metadata": {},
   "outputs": [
    {
     "name": "stdout",
     "output_type": "stream",
     "text": [
      "count     2565.000000\n",
      "mean      1021.589864\n",
      "std       1843.276107\n",
      "min         14.000000\n",
      "25%        157.000000\n",
      "50%        509.000000\n",
      "75%       1124.000000\n",
      "max      49668.000000\n",
      "Name: avg_order, dtype: float64\n"
     ]
    },
    {
     "data": {
      "image/png": "[encoded data removed]",
      "text/plain": [
       "<Figure size 432x288 with 1 Axes>"
      ]
     },
     "metadata": {
      "needs_background": "light"
     },
     "output_type": "display_data"
    },
    {
     "name": "stdout",
     "output_type": "stream",
     "text": [
      "[  44. 2399. 3674. 7376.]\n"
     ]
    }
   ],
   "source": [
    "print(avg_order['avg_order'].describe())\n",
    "fig = plt.figure()\n",
    "\n",
    "avg_order.boxplot(column = 'avg_order')\n",
    "plt.title('Средний чек')\n",
    "fig.savefig(\"10.png\", dpi=200)\n",
    "\n",
    "\n",
    "plt.show()\n",
    "\n",
    "print(np.percentile(avg_order['avg_order'], [5, 90, 95, 99]))"
   ]
  },
  {
   "cell_type": "markdown",
   "metadata": {},
   "source": [
    "###### Вывод\n",
    "Средний чек - 500-1000 рублей. 99% значений укладываются в сумму 5000 рублей."
   ]
  },
  {
   "cell_type": "code",
   "execution_count": 49,
   "metadata": {},
   "outputs": [
    {
     "data": {
      "text/plain": [
       "(4690, 9)"
      ]
     },
     "execution_count": 49,
     "metadata": {},
     "output_type": "execute_result"
    }
   ],
   "source": [
    "data_orders_by_customer_less_5.shape"
   ]
  },
  {
   "cell_type": "code",
   "execution_count": 50,
   "metadata": {},
   "outputs": [],
   "source": [
    "data_avg_order = data_orders_by_customer_less_5.merge(avg_order, on=('order_id'))\n"
   ]
  },
  {
   "cell_type": "code",
   "execution_count": 51,
   "metadata": {},
   "outputs": [
    {
     "data": {
      "text/plain": [
       "(4690, 10)"
      ]
     },
     "execution_count": 51,
     "metadata": {},
     "output_type": "execute_result"
    }
   ],
   "source": [
    "data_avg_order.shape"
   ]
  },
  {
   "cell_type": "code",
   "execution_count": 52,
   "metadata": {},
   "outputs": [
    {
     "data": {
      "text/plain": [
       "2414"
      ]
     },
     "execution_count": 52,
     "metadata": {},
     "output_type": "execute_result"
    }
   ],
   "source": [
    "len_data_orders_by_customer_less_5"
   ]
  },
  {
   "cell_type": "markdown",
   "metadata": {},
   "source": [
    "Удаляем выбросы - средний чек более 5000 рублей."
   ]
  },
  {
   "cell_type": "code",
   "execution_count": 53,
   "metadata": {},
   "outputs": [],
   "source": [
    "data_avg_order_less_5000 = data_avg_order.query('avg_order < 5000')"
   ]
  },
  {
   "cell_type": "code",
   "execution_count": 54,
   "metadata": {},
   "outputs": [
    {
     "data": {
      "text/plain": [
       "2345"
      ]
     },
     "execution_count": 54,
     "metadata": {},
     "output_type": "execute_result"
    }
   ],
   "source": [
    "len_data_avg_order_less_5000 = len(data_avg_order_less_5000['customer_id'].unique())\n",
    "len_data_avg_order_less_5000"
   ]
  },
  {
   "cell_type": "code",
   "execution_count": 55,
   "metadata": {},
   "outputs": [
    {
     "data": {
      "text/plain": [
       "0.02858326429163216"
      ]
     },
     "execution_count": 55,
     "metadata": {},
     "output_type": "execute_result"
    }
   ],
   "source": [
    "percentile_data_avg_order_less_5000 = 1 - len_data_avg_order_less_5000/len_data_orders_by_customer_less_5\n",
    "percentile_data_avg_order_less_5000"
   ]
  },
  {
   "cell_type": "markdown",
   "metadata": {},
   "source": [
    "Мы потеряли 1,2% пользователей."
   ]
  },
  {
   "cell_type": "code",
   "execution_count": 56,
   "metadata": {},
   "outputs": [
    {
     "data": {
      "text/html": [
       "<div>\n",
       "<style scoped>\n",
       "    .dataframe tbody tr th:only-of-type {\n",
       "        vertical-align: middle;\n",
       "    }\n",
       "\n",
       "    .dataframe tbody tr th {\n",
       "        vertical-align: top;\n",
       "    }\n",
       "\n",
       "    .dataframe thead th {\n",
       "        text-align: right;\n",
       "    }\n",
       "</style>\n",
       "<table border=\"1\" class=\"dataframe\">\n",
       "  <thead>\n",
       "    <tr style=\"text-align: right;\">\n",
       "      <th></th>\n",
       "      <th>date</th>\n",
       "      <th>customer_id</th>\n",
       "      <th>order_id</th>\n",
       "      <th>product</th>\n",
       "      <th>quantity</th>\n",
       "      <th>price</th>\n",
       "      <th>date_day</th>\n",
       "      <th>products_in_order</th>\n",
       "      <th>orders_by_customer</th>\n",
       "      <th>avg_order</th>\n",
       "    </tr>\n",
       "  </thead>\n",
       "  <tbody>\n",
       "    <tr>\n",
       "      <td>1388</td>\n",
       "      <td>2019-02-01 20:00:00</td>\n",
       "      <td>e56f7220-5fb7-48ac-a606-03786df41343</td>\n",
       "      <td>14529</td>\n",
       "      <td>Пеларгония розебудная Emma укорененный черенок</td>\n",
       "      <td>1</td>\n",
       "      <td>135.0</td>\n",
       "      <td>2019-02-01</td>\n",
       "      <td>12</td>\n",
       "      <td>1</td>\n",
       "      <td>1786.0</td>\n",
       "    </tr>\n",
       "    <tr>\n",
       "      <td>4246</td>\n",
       "      <td>2019-09-05 10:00:00</td>\n",
       "      <td>5da50095-f7cb-4eca-8963-0c55d40a9f3c</td>\n",
       "      <td>72514</td>\n",
       "      <td>Чехол для гладильной доски PRISMA TEXTIL из хл...</td>\n",
       "      <td>1</td>\n",
       "      <td>188.0</td>\n",
       "      <td>2019-09-05</td>\n",
       "      <td>1</td>\n",
       "      <td>1</td>\n",
       "      <td>188.0</td>\n",
       "    </tr>\n",
       "    <tr>\n",
       "      <td>1203</td>\n",
       "      <td>2019-01-10 17:00:00</td>\n",
       "      <td>4d416cec-6f5b-4444-9b50-08770397714b</td>\n",
       "      <td>14521</td>\n",
       "      <td>Пеларгония зональная диам. 12 см красная махровая</td>\n",
       "      <td>1</td>\n",
       "      <td>188.0</td>\n",
       "      <td>2019-01-10</td>\n",
       "      <td>18</td>\n",
       "      <td>1</td>\n",
       "      <td>3384.0</td>\n",
       "    </tr>\n",
       "    <tr>\n",
       "      <td>1032</td>\n",
       "      <td>2018-12-21 07:00:00</td>\n",
       "      <td>8326221b-aa20-47ac-996a-9a5ab07fa7f9</td>\n",
       "      <td>69493</td>\n",
       "      <td>Пуансеттия d-15 см красная</td>\n",
       "      <td>3</td>\n",
       "      <td>172.0</td>\n",
       "      <td>2018-12-21</td>\n",
       "      <td>1</td>\n",
       "      <td>1</td>\n",
       "      <td>172.0</td>\n",
       "    </tr>\n",
       "    <tr>\n",
       "      <td>2522</td>\n",
       "      <td>2019-04-17 08:00:00</td>\n",
       "      <td>5fe5bb53-e53c-4ed8-b4cd-b7bf2711661a</td>\n",
       "      <td>71175</td>\n",
       "      <td>Дендробиум Санок Анна Грин 1 ствол d-12 см</td>\n",
       "      <td>1</td>\n",
       "      <td>869.0</td>\n",
       "      <td>2019-04-17</td>\n",
       "      <td>1</td>\n",
       "      <td>1</td>\n",
       "      <td>869.0</td>\n",
       "    </tr>\n",
       "  </tbody>\n",
       "</table>\n",
       "</div>"
      ],
      "text/plain": [
       "                    date                           customer_id  order_id  \\\n",
       "1388 2019-02-01 20:00:00  e56f7220-5fb7-48ac-a606-03786df41343     14529   \n",
       "4246 2019-09-05 10:00:00  5da50095-f7cb-4eca-8963-0c55d40a9f3c     72514   \n",
       "1203 2019-01-10 17:00:00  4d416cec-6f5b-4444-9b50-08770397714b     14521   \n",
       "1032 2018-12-21 07:00:00  8326221b-aa20-47ac-996a-9a5ab07fa7f9     69493   \n",
       "2522 2019-04-17 08:00:00  5fe5bb53-e53c-4ed8-b4cd-b7bf2711661a     71175   \n",
       "\n",
       "                                                product  quantity  price  \\\n",
       "1388     Пеларгония розебудная Emma укорененный черенок         1  135.0   \n",
       "4246  Чехол для гладильной доски PRISMA TEXTIL из хл...         1  188.0   \n",
       "1203  Пеларгония зональная диам. 12 см красная махровая         1  188.0   \n",
       "1032                         Пуансеттия d-15 см красная         3  172.0   \n",
       "2522         Дендробиум Санок Анна Грин 1 ствол d-12 см         1  869.0   \n",
       "\n",
       "        date_day  products_in_order  orders_by_customer  avg_order  \n",
       "1388  2019-02-01                 12                   1     1786.0  \n",
       "4246  2019-09-05                  1                   1      188.0  \n",
       "1203  2019-01-10                 18                   1     3384.0  \n",
       "1032  2018-12-21                  1                   1      172.0  \n",
       "2522  2019-04-17                  1                   1      869.0  "
      ]
     },
     "execution_count": 56,
     "metadata": {},
     "output_type": "execute_result"
    }
   ],
   "source": [
    "data_avg_order_less_5000.sample(5)"
   ]
  },
  {
   "cell_type": "markdown",
   "metadata": {},
   "source": [
    "### Количество заказов по дням <a class=\"anchor\" id=\"12-bullet\"></a>\n",
    "👈[назад к оглавлению](#0-bullet)"
   ]
  },
  {
   "cell_type": "code",
   "execution_count": 57,
   "metadata": {},
   "outputs": [
    {
     "name": "stdout",
     "output_type": "stream",
     "text": [
      "count           4505\n",
      "unique           391\n",
      "top       2019-05-13\n",
      "freq              84\n",
      "Name: date_day, dtype: object\n"
     ]
    }
   ],
   "source": [
    "print(data_avg_order_less_5000['date_day'].describe())\n"
   ]
  },
  {
   "cell_type": "code",
   "execution_count": 58,
   "metadata": {},
   "outputs": [
    {
     "data": {
      "image/png": "[encoded data removed]",
      "text/plain": [
       "<Figure size 1152x432 with 1 Axes>"
      ]
     },
     "metadata": {
      "needs_background": "light"
     },
     "output_type": "display_data"
    }
   ],
   "source": [
    "fig = plt.figure()\n",
    "\n",
    "data_avg_order_less_5000['date_day'].hist(figsize=(16,6), bins = 100)\n",
    "plt.title('Количество заказов по дням')\n",
    "fig.savefig(\"11.png\", dpi=200)\n",
    "\n",
    "\n",
    "plt.show()"
   ]
  },
  {
   "cell_type": "markdown",
   "metadata": {},
   "source": [
    "Мы имеем данные за год. С ноября 2018 по ноябрь 2019."
   ]
  },
  {
   "cell_type": "markdown",
   "metadata": {},
   "source": [
    "Некоторые заказы и товары повторяются в разные даты. Скорее всего это отслеживание разных статусов заказов вроде \"Создан\", \"Оплачено\", \"Доставлен\" итп (но без указания статуса). Эти дубликаты не нужны и искажают вычисления. Убрал дубликаты."
   ]
  },
  {
   "cell_type": "code",
   "execution_count": 59,
   "metadata": {},
   "outputs": [
    {
     "data": {
      "text/html": [
       "<div>\n",
       "<style scoped>\n",
       "    .dataframe tbody tr th:only-of-type {\n",
       "        vertical-align: middle;\n",
       "    }\n",
       "\n",
       "    .dataframe tbody tr th {\n",
       "        vertical-align: top;\n",
       "    }\n",
       "\n",
       "    .dataframe thead th {\n",
       "        text-align: right;\n",
       "    }\n",
       "</style>\n",
       "<table border=\"1\" class=\"dataframe\">\n",
       "  <thead>\n",
       "    <tr style=\"text-align: right;\">\n",
       "      <th></th>\n",
       "      <th>customer_id</th>\n",
       "      <th>order_id</th>\n",
       "      <th>product</th>\n",
       "      <th>date</th>\n",
       "      <th>quantity</th>\n",
       "      <th>price</th>\n",
       "      <th>date_day</th>\n",
       "      <th>products_in_order</th>\n",
       "      <th>orders_by_customer</th>\n",
       "      <th>avg_order</th>\n",
       "    </tr>\n",
       "  </thead>\n",
       "  <tbody>\n",
       "    <tr>\n",
       "      <td>0</td>\n",
       "      <td>000d6849-084e-4d9f-ac03-37174eaf60c4</td>\n",
       "      <td>14943</td>\n",
       "      <td>Пеларгония зональная диам. 12 см темнорозовая ...</td>\n",
       "      <td>2019-10-16 08:00:00</td>\n",
       "      <td>1</td>\n",
       "      <td>150.0</td>\n",
       "      <td>2019-10-16</td>\n",
       "      <td>4</td>\n",
       "      <td>1</td>\n",
       "      <td>555.0</td>\n",
       "    </tr>\n",
       "    <tr>\n",
       "      <td>1</td>\n",
       "      <td>000d6849-084e-4d9f-ac03-37174eaf60c4</td>\n",
       "      <td>14943</td>\n",
       "      <td>Пеларгония розебудная Queen Ingrid укорененный...</td>\n",
       "      <td>2019-10-16 08:00:00</td>\n",
       "      <td>1</td>\n",
       "      <td>135.0</td>\n",
       "      <td>2019-10-16</td>\n",
       "      <td>4</td>\n",
       "      <td>1</td>\n",
       "      <td>555.0</td>\n",
       "    </tr>\n",
       "    <tr>\n",
       "      <td>2</td>\n",
       "      <td>000d6849-084e-4d9f-ac03-37174eaf60c4</td>\n",
       "      <td>14943</td>\n",
       "      <td>Пеларгония розебудная Rosebud Red d-7 см</td>\n",
       "      <td>2019-10-16 08:00:00</td>\n",
       "      <td>1</td>\n",
       "      <td>135.0</td>\n",
       "      <td>2019-10-16</td>\n",
       "      <td>4</td>\n",
       "      <td>1</td>\n",
       "      <td>555.0</td>\n",
       "    </tr>\n",
       "    <tr>\n",
       "      <td>3</td>\n",
       "      <td>000d6849-084e-4d9f-ac03-37174eaf60c4</td>\n",
       "      <td>14943</td>\n",
       "      <td>Пеларгония тюльпановидная EMMA</td>\n",
       "      <td>2019-10-16 08:00:00</td>\n",
       "      <td>1</td>\n",
       "      <td>135.0</td>\n",
       "      <td>2019-10-16</td>\n",
       "      <td>4</td>\n",
       "      <td>1</td>\n",
       "      <td>555.0</td>\n",
       "    </tr>\n",
       "    <tr>\n",
       "      <td>4</td>\n",
       "      <td>001cee7f-0b29-4716-b202-0042213ab038</td>\n",
       "      <td>70290</td>\n",
       "      <td>Сушилка для белья потолочная ЛИАНА ЛЮКС 150 см...</td>\n",
       "      <td>2019-02-16 11:00:00</td>\n",
       "      <td>1</td>\n",
       "      <td>442.0</td>\n",
       "      <td>2019-02-16</td>\n",
       "      <td>1</td>\n",
       "      <td>1</td>\n",
       "      <td>442.0</td>\n",
       "    </tr>\n",
       "  </tbody>\n",
       "</table>\n",
       "</div>"
      ],
      "text/plain": [
       "                            customer_id  order_id  \\\n",
       "0  000d6849-084e-4d9f-ac03-37174eaf60c4     14943   \n",
       "1  000d6849-084e-4d9f-ac03-37174eaf60c4     14943   \n",
       "2  000d6849-084e-4d9f-ac03-37174eaf60c4     14943   \n",
       "3  000d6849-084e-4d9f-ac03-37174eaf60c4     14943   \n",
       "4  001cee7f-0b29-4716-b202-0042213ab038     70290   \n",
       "\n",
       "                                             product                date  \\\n",
       "0  Пеларгония зональная диам. 12 см темнорозовая ... 2019-10-16 08:00:00   \n",
       "1  Пеларгония розебудная Queen Ingrid укорененный... 2019-10-16 08:00:00   \n",
       "2           Пеларгония розебудная Rosebud Red d-7 см 2019-10-16 08:00:00   \n",
       "3                     Пеларгония тюльпановидная EMMA 2019-10-16 08:00:00   \n",
       "4  Сушилка для белья потолочная ЛИАНА ЛЮКС 150 см... 2019-02-16 11:00:00   \n",
       "\n",
       "   quantity  price    date_day  products_in_order  orders_by_customer  \\\n",
       "0         1  150.0  2019-10-16                  4                   1   \n",
       "1         1  135.0  2019-10-16                  4                   1   \n",
       "2         1  135.0  2019-10-16                  4                   1   \n",
       "3         1  135.0  2019-10-16                  4                   1   \n",
       "4         1  442.0  2019-02-16                  1                   1   \n",
       "\n",
       "   avg_order  \n",
       "0      555.0  \n",
       "1      555.0  \n",
       "2      555.0  \n",
       "3      555.0  \n",
       "4      442.0  "
      ]
     },
     "metadata": {},
     "output_type": "display_data"
    },
    {
     "data": {
      "text/plain": [
       "(4081, 10)"
      ]
     },
     "execution_count": 59,
     "metadata": {},
     "output_type": "execute_result"
    }
   ],
   "source": [
    "data_avg_order_less_5000 = data_avg_order_less_5000.groupby(['customer_id', 'order_id', 'product']).first().reset_index()\n",
    "display(data_avg_order_less_5000.head())\n",
    "data_avg_order_less_5000.shape"
   ]
  },
  {
   "cell_type": "markdown",
   "metadata": {},
   "source": [
    "### 3. Сегментирование покупателей по профилю потребления <a class=\"anchor\" id=\"13-bullet\"></a>\n",
    "👈[назад к оглавлению](#0-bullet)"
   ]
  },
  {
   "cell_type": "markdown",
   "metadata": {},
   "source": [
    "### Лемматизация <a class=\"anchor\" id=\"14-bullet\"></a>\n",
    "👈[назад к оглавлению](#0-bullet)"
   ]
  },
  {
   "cell_type": "code",
   "execution_count": 60,
   "metadata": {
    "scrolled": true
   },
   "outputs": [
    {
     "name": "stdout",
     "output_type": "stream",
     "text": [
      "Counter({' ': 15291, 'см': 957, ', ': 948, '-': 840, 'для': 490, ',': 269, 'с': 231, 'd': 224, 'в': 216, 'л': 214, 'рассада': 191, '5': 173, 'белый': 153, 'шт': 149, '0': 146, '12': 142, 'белье': 136, 'кассета': 130, 'сорт': 125, ' (': 121, 'красный': 118, '/': 116, 'доска': 114, 'горшок': 114, '9': 113, '. ': 110, 'сушилка': 110, 'цветок': 107, '2': 97, 'гладильный': 97, '6': 97, ') ': 96, 'объем': 94, '1': 94, 'диам': 88, 'пеларгония': 85, '10': 85, 'по': 82, 'тележка': 80, '3': 79, 'Luminarc': 78, '*': 77, '4': 76, 'розовый': 76, 'и': 72, 'сумка': 71, 'из': 71, 'ника': 70, 'муляж': 68, 'ванный': 67, '20': 67, 'мл': 66, 'коврик': 62, 'зональный': 61, 'г': 61, 'махровый': 60, 'кухня': 60, 'искусственный': 58, 'h': 58, 'роза': 57, 'зелень': 57, 'Gimi': 56, 'Attribute': 56, 'м': 56, 'томат': 55, '7': 54, 'чехол': 54, 'пластмассовый': 53, 'пластиковый': 52, '100': 52, 'хозяйственный': 50, 'штора': 49, 'комната': 49, '30': 49, '% ': 49, 'на': 48, 'помидор': 48, 'синий': 48, 'вешалка': 47, 'черный': 47, 'однолетний': 47, 'петуния': 47, 'россия': 47, 'набор': 46, 'ручка': 44, '№': 43, 'хлопок': 43, 'цвет': 43, 'полиуретан': 41, 'крышка': 38, 'желтый': 37, 'капуста': 35, '25': 35, 'мм': 34, 'Leifheit': 33, 'придверный': 33, '50': 33, 'тарелка': 33, 'алюминиевый': 33, 'х': 32, 'зеленый': 32, 'стремянка': 32, '6шт': 32, 'серый': 31, 'покрытие': 31, 'таз': 31, 'штука': 31, 'сталь': 31, '8': 31, 'пвх': 30, 'настенный': 30, 'бежевый': 30, 'ассортимент': 30, 'потолочный': 29, 'оранжевый': 29, 'растение': 29, 'Wellness': 28, 'садовый': 28, 'среднеспелый': 27, 'кг': 27, 'скатерть': 27, 'лиана': 26, 'напольный': 26, 'D12': 26, '), ': 26, 'Hausmann': 26, 'голубой': 26, '15': 26, 'раннеспелый': 25, 'малиновый': 25, 'коричневый': 25, 'микс': 24, 'виолета': 24, '13': 24, 'E6': 24, 'металлический': 23, 'герань': 23, '16': 23, 'со': 23, 'ампельный': 23, 'черенок': 22, 'корзина': 22, 'детерминантный': 22, 'полумахровый': 21, 'укоренять': 21, 'DELTA': 21, 'домашний': 21, 'цвести': 21, 'H25': 21, 'прямоугольный': 21, 'круглый': 21, 'нержавеющий': 21, 'мини': 21, 'овальный': 21, '180х200': 21, 'огурец': 21, '21': 20, 'пищевой': 20, 'салатник': 20, '45': 20, 'Zalger': 20, ' \"': 20, 'нож': 20, 'люкс': 19, 'Bacchetta': 19, '18': 19, 'индетерминантный': 19, 'WELLNESS': 19, 'простой': 19, 'одежда': 19, 'деревянный': 19, 'полиэстер': 19, '60': 19, 'комнатный': 19, '.': 19, 'WEBBER': 19, 'подвесной': 19, 'вт': 18, 'белокачать': 18, 'кашпо': 18, 'стеклянный': 18, 'упаковка': 18, '_': 18, 'франция': 18, '200': 17, 'колесный': 17, 'сиреневый': 17, 'Spirella': 17, 'мята': 17, 'Fancy': 17, 'Fair': 17, 'пластик': 16, 'Rolser': 16, 'банка': 16, '17': 16, 'фуксия': 16, 'смесь': 16, 'текстильный': 16, '\" ': 16, 'крючок': 15, 'фиолетовый': 15, 'ступень': 15, 'Eurogold': 15, 'ванна': 15, 'диаметр': 15, 'калибрахоа': 15, 'кольцо': 15, 'багажный': 14, 'грузоподъемность': 14, 'ступенчатый': 14, 'HM': 14, 'JOY': 14, 'метельчатый': 14, 'тимьян': 14, '40': 14, 'щетка': 14, 'чайногибридный': 14, 'цветной': 14, '240х200': 13, 'десертный': 13, 'Lift': 13, '500': 13, 'флокс': 13, 'универсальный': 13, 'подарочный': 13, 'ведро': 13, 'Dogrular': 12, 'GIMI': 12, 'каркас': 12, '22': 12, '14': 12, 'полимербыт': 12, 'полотенце': 12, 'малый': 12, '10см': 12, 'чайник': 12, 'примула': 12, '\", ': 12, 'сковорода': 12, 'AK': 12, 'обеденный': 12, 'ff': 12, '24': 12, 'ложка': 12, 'Rozenbal': 12, 'насадка': 12, 'букет': 12, 'швабра': 12, 'кухонный': 12, '9см': 11, ' / ': 11, '180': 11, '120': 11, 'Dasch': 11, 'COLOMBO': 11, 'контейнер': 11, 'QWERTY': 11, 'салфетка': 11, 'ВЕ': 11, 'без': 11, 'цикламен': 11, 'Red': 10, 'окно': 10, 'тыква': 10, 'яблоко': 10, 'Curver': 10, '23': 10, 'ТБР': 10, 'плечики': 10, 'противоскользящий': 10, 'Joy': 10, '80': 10, '122х40': 10, 'фиалка': 10, '11': 10, 'L': 10, 'полиэфир': 10, 'поролон': 10, 'BE': 10, 'кружок': 10, 'бегония': 10, 'предмет': 10, '26': 10, 'подставка': 10, '400': 10, 'складной': 9, 'Valiant': 9, '300': 9, '19': 9, 'лестница': 9, 'оцинковывать': 9, 'Argo': 9, 'Jet': 9, 'ерш': 9, 'потолочно': 9, ' *': 9, 'эмалированный': 9, 'рисунок': 9, 'розмарин': 9, '250': 9, '70': 9, 'хранение': 9, 'ALPENKOK': 9, 'хлопковый': 9, 'полка': 9, 'столовый': 9, 'пуансеттия': 9, 'розебудный': 8, 'ЛЛП': 8, 'обувь': 8, 'перекладина': 8, 'электрический': 8, 'DL': 8, 'PHP': 8, 'SRL': 8, '9х9': 8, 'P': 8, 'перец': 8, '90': 8, 'D': 8, 'суповой': 8, 'термокружок': 8, 'чайный': 8, ' , ': 8, 'декоративный': 8, '75': 8, 'Colombo': 8, 'раздвижной': 8, 'м2': 8, 'лаванда': 8, 'базилик': 8, 'вербена': 8, 'стакан': 8, 'VALIANT': 8, 'душа': 8, 'бальзамин': 8, 'мытье': 8, 'прозрачный': 8, 'антипригарный': 8, 'виноград': 8, 'косметь': 8, 'ковер': 8, 'карниз': 8, 'мыло': 8, 'лиловый': 8, '44': 8, 'кабачок': 8, 'P9': 8, '150': 7, '10шт': 7, 'золотой': 7, 'арбуз': 7, 'р': 7, 'White': 7, 'лососевый': 7, 'лист': 7, 'блэк': 7, 'Ufuk': 7, 'тюльпан': 7, 'бакоп': 7, 'прожилка': 7, 'большой': 7, 'Иж': 7, 'дерево': 7, 'классик': 7, '122х34': 7, 'антуриум': 7, '35': 7, 'ярко': 7, 'под': 7, 'бамбук': 7, 'антик': 7, 'новогвинейский': 7, 'средство': 7, 'резиновый': 7, '210': 7, 'Double': 7, 'Blue': 7, 'гвоздик': 7, 'стальной': 7, 'Hailo': 7, 'S': 7, 'паста': 7, 'крупноцветковый': 7, 'серебро': 7, 'виола': 7, 'композиция': 7, 'штанга': 7, 'минеральный': 7, 'вода': 7, 'луковица': 7, 'дыня': 7, 'чистка': 6, 'Format': 6, 'COLOR': 6, 'LUX': 6, '180х180': 6, 'алюминий': 6, 'h30': 6, 'андрианум': 6, 'кружка': 6, 'ажурный': 6, '58': 6, 'блю': 6, '50х80': 6, 'строительный': 6, 'резина': 6, 'Apache': 6, 'обыкновенный': 6, 'овощ': 6, 'Comfort': 6, 'посуда': 6, 'кастрюля': 6, 'хозлэнд': 6, 'коробка': 6, 'медный': 6, 'жаккард': 6, '750': 6, 'Aloha': 6, '45х75': 6, '00': 6, 'Super': 6, 'плантация': 6, 'азалий': 6, 'negro': 6, '220': 6, 'перчатка': 6, '54': 6, 'полк': 6, 'март': 6, 'мягкий': 6, 'Scovo': 6, 'Rigone': 6, 'угловой': 6, 'Helex': 6, 'зубной': 6, 'зми': 6, 'оранж': 6, 'эльфпласт': 6, 'бутон': 6, ', \"': 6, 'хризантема': 6, 'пластика': 6, 'столовая': 6, '2000': 6, '40х68': 5, 'сильвер': 5, 'Surprise': 5, '55': 5, 'ред': 5, 'спирелла': 5, '122х42': 5, 'лувр': 5, 'термос': 5, 'Surfinia': 5, '60х90': 5, 'ротанг': 5, 'полимерный': 5, 'свч': 5, 'ель': 5, '120х38': 5, 'МТ': 5, 'лоток': 5, 'трава': 5, 'кофе': 5, 'горох': 5, 'окраска': 5, 'лобелия': 5, 'эвкалипт': 5, 'сальвия': 5, 'DECS': 5, 'лимон': 5, '1000': 5, 'пол': 5, 'фужер': 5, 'вино': 5, 'нидерланды': 5, 'Purple': 5, 'керамический': 5, 'сметка': 5, 'M': 5, 'Sarayli': 5, 'Clean': 5, 'Basic': 5, 'звезда': 5, 'вишня': 5, 'CURVER': 5, 'груша': 5, 'клубника': 5, '450': 5, 'дсп': 5, 'закрытый': 5, 'стелла': 5, 'кокос': 5, 'York': 5, 'размер': 5, 'замок': 5, 'открытка': 5, 'ROZENBAL': 5, 'деликатный': 5, 'средний': 5, 'E10': 5, 'встроенный': 5, 'полиамидный': 5, 'HSC': 5, 'мультиколор': 5, '42': 5, 'отжим': 5, 'кофр': 5, 'хром': 5, 'душица': 5, 'лавр': 5, 'azul': 5, 'керамика': 5, '0000': 5, 'вилка': 5, 'RIPPLE': 5, 'грин': 5, '01': 5, 'мелисса': 5, 'ромашка': 5, 'шоколад': 5, 'гербер': 5, 'Classic': 5, '38': 5, 'подарок': 5, 'ткань': 4, 'Angeleyes': 4, 'чудо': 4, 'Sweetunia': 4, 'розоцветный': 4, 'комплект': 4, 'простыня': 4, 'ворсовый': 4, 'микрофибры': 4, 'гортензия': 4, 'флауэр': 4, '320': 4, 'колба': 4, 'мега': 4, 'крупный': 4, 'донна': 4, 'унитазный': 4, 'влаговпитывающий': 4, 'ребристый': 4, 'стандарт': 4, 'браун': 4, '*, ': 4, 'премиум': 4, 'новогодний': 4, 'канадский': 4, 'коника': 4, 'эльза': 4, 'дизайн': 4, 'проволочный': 4, 'зверобой': 4, 'продырявливать': 4, '- ': 4, 'дема': 4, ', /': 4, 'Towa': 4, 'Co': 4, 'светло-бежевый': 4, 'валиант': 4, '130х48': 4, 'стэм': 4, 'пряный': 4, 'арабика': 4, 'серия': 4, 'эклипсы': 4, '02': 4, 'SERIES': 4, 'гибридный': 4, 'Mama': 4, '250мл': 4, 'брюки': 4, 'сердце': 4, ' = ': 4, 'клубневой': 4, 'чашелист': 4, 'Dark': 4, 'сапфир': 4, 'телескопический': 4, 'New': 4, 'батарея': 4, 'темный': 4, '170': 4, 'магнит': 4, 'разделочный': 4, 'KNIT': 4, 'гранат': 4, '28': 4, 'чай': 4, 'алиссум': 4, 'спрей': 4, 'совок': 4, '\" (': 4, 'индик': 4, 'флисовый': 4, '31': 4, 'гр': 4, 'декабрист': 4, 'Brio': 4, 'прибор': 4, 'Domenik': 4, '48': 4, ' - ': 4, 'C': 4, 'Mini': 4, 'Famous': 4, 'патио': 4, 'вещь': 4, 'радуга': 4, 'степанов': 4, 'чили': 4, '280': 4, 'ручной': 4, '05': 4, 'пыль': 4, 'бэлль': 4, 'Truper': 4, '65': 4, 'салатовый': 4, 'Easy': 4, 'жестяной': 4, 'искуственный': 4, 'три': 4, 'д': 4, 'мешок': 4, 'мусор': 4, 'D9': 4, 'оффициналис': 4, 'микрофибра': 4, 'корея': 4, 'ВНП': 4, '110': 4, ') \"': 4, 'петрушка': 4, 'банк': 4, 'костюм': 4, 'пчелоопыляемый': 4, '90х60': 4, '* ': 4, 'Burstenmann': 4, 'свисток': 4, 'кутюр': 4, '27': 4, 'FACTOTUM': 4, '140': 4, 'арти': 4, 'цинния': 4, 'EVA': 4, 'стекло': 4, 'сливочный': 4, 'ствол': 4, 'ящик': 4, 'TEX': 4, 'свита': 4, 'полипропиленовый': 4, '350х150': 4, '888': 4, 'форма': 4, '=': 4, 'кремовый': 4, 'Better': 4, 'BT': 4, 'C2003E': 4, '46': 4, '36': 4, 'лепесток': 4, 'этажерка': 4, 'интерьерный': 4, 'патиссон': 4, 'весы': 4, 'стоунмания': 4, 'венг': 3, 'миксер': 3, 'Toscana': 3, 'узор': 3, 'стена': 3, 'поздний': 3, 'де': 3, 'целозия': 3, 'газание': 3, '122х38': 3, 'коралловый': 3, 'наволочка': 3, '50х70': 3, '112': 3, 'YORK': 3, 'воларэ': 3, 'AVEX': 3, '50х85': 3, 'кот': 3, 'APACHE': 3, 'Galaxy': 3, 'аквамарин': 3, '160': 3, 'Lux': 3, '06': 3, 'тонар': 3, 'т': 3, 'Paris': 3, '140х55': 3, '1л': 3, 'd12': 3, 'стенка': 3, '60х100': 3, 'аспарагус': 3, 'оптимист': 3, 'подрукавник': 3, 'металлизированный': 3, '120х42': 3, 'холодец': 3, 'оконный': 3, 'заварочный': 3, 'хлебница': 3, 'Mohawk': 3, 'Iron': 3, 'земляника': 3, 'секционный': 3, 'вечноцветущий': 3, 'бук': 3, 'подснежник': 3, 'персик': 3, 'металл': 3, '+': 3, '123х46': 3, 'фаленопсис': 3, '180х200см': 3, 'лилия': 3, 'душистый': 3, 'кориандр': 3, 'налет': 3, 'WC': 3, 'бытовой': 3, 'нарцисс': 3, 'одиночный': 3, 'Tris': 3, ': ': 3, 'львиный': 3, 'зев': 3, 'Sky': 3, 'крокус': 3, 'окномойка': 3, 'кольраби': 3, 'Kona': 3, 'Plus': 3, 'Miss': 3, 'Rose': 3, 'парковый': 3, 'уличный': 3, '57': 3, '03676': 3, 'мандарин': 3, 'линия': 3, 'STYLE': 3, '00708': 3, 'длинный': 3, 'астра': 3, 'плющелистный': 3, 'A': 3, 'плед': 3, '88': 3, 'светлый': 3, '350': 3, '1800': 3, 'рядная': 3, '106': 3, 'эхеверие': 3, 'мп': 3, 'Capri': 3, 'JET017': 3, 'Alpenkok': 3, 'моп': 3, 'синтетический': 3, 'латекс': 3, 'итальянский': 3, 'топпер': 3, 'день': 3, 'учитель': 3, 'биколор': 3, '41': 3, 'эссенция': 3, 'FWM': 3, 'скребок': 3, '2110': 3, '2810': 3, 'СЭ': 3, '240': 3, 'объемный': 3, 'календула': 3, 'пинк': 3, 'пламень': 3, 'король': 3, '34': 3, 'верона': 3, 'длина': 3, '1840': 3, 'Magic': 3, 'терка': 3, 'кайма': 3, 'дачница': 3, 'd16': 3, 'кувшин': 3, 'голд': 3, 'стойка': 3, 'Go': 3, 'капучино': 3, 'б': 3, 'каланхое': 3, 'каландив': 3, 'мультипласт': 3, 'ST04': 3, 'Wet': 3, 'веник': 3, 'сорго': 3, 'шов': 3, 'H20': 3, 'сетка': 3, 'DT': 3, 'одеяло': 3, 'светло-коричневый': 3, 'лекарственный': 3, 'сильвердроп': 3, 'калла': 3, '002': 3, 'Mop': 3, 'Al': 3, 'алюминевый': 3, 'одноголовый': 3, 'утюг': 3, 'ячейка': 3, 'Е6': 3, 'F1': 3, 'туалет': 3, 'Protec': 3, 'Textil': 3, '30х43': 3, 'бокал': 3, '85': 3, 'Ideal': 3, 'связка': 3, 'колесо': 3, 'материал': 3, 'mix': 3, 'Lion': 3, 'есть': 3, 'детский': 3, 'настурция': 3, 'вишневый': 3, 'METALLONI': 3, '112х34': 3, 'PASABAHCE': 3, 'пурпл': 3, 'красавица': 3, 'петля': 3, 'вафельный': 3, '120х40': 3, 'мак': 3, '130х46': 3, 'режим': 3, 'мощность': 3, '2200': 3, 'стирка': 3, 'дендробиум': 3, 'бирюзовый': 3, 'шнур': 3, 'Julia': 3, 'J': 3, 'Vestar': 3, 'кордан': 3, 'прищепок': 3, 'колокольчик': 3, 'спатифиллум': 3, 'текстиль': 3, 'к': 3, 'пиперит': 3, '110х30': 3, 'Framar': 3, 'Slimmy': 3, 'Zact': 3, 'La': 3, 'blue': 3, 'сверло': 3, 'выпечка': 3, 'AHP224': 3, 'белль': 3, 'а': 3, 'поверхность': 3, '63': 3, 'василиса': 3, 'емкость': 3, 'русский': 3, 'НХ': 3, 'метиз': 3, 'джулия': 3, 'нло': 3, 'электронный': 3, 'ртк': 3, 'высота': 3, 'океан': 3, 'D1': 3, 'темнорозовый': 2, 'Duo': 2, 'Flexi': 2, 'стеллаж': 2, 'TELIO': 2, 'OPT': 2, 'двойной': 2, 'Quadretto': 2, 'Mezzaluna': 2, 'до': 2, 'болгарский': 2, 'сладкий': 2, 'гребенчатый': 2, 'Amarillo': 2, 'маргарита': 2, 'постельный': 2, 'PLATINUM': 2, 'пододеяльник': 2, 'одежный': 2, 'Andersen': 2, 'Scala': 2, 'Shopper': 2, '108': 2, 'Peva': 2, 'полиэтилен': 2, 'пэмби': 2, 'Freeflow': 2, '700': 2, 'анис': 2, 'ми': 2, 'OrthoSpa': 2, 'River': 2, 'Rocks': 2, 'автополив': 2, 'лили': 2, 'J8565': 2, 'FH': 2, 'Doble': 2, 'светло': 2, 'клен': 2, 'полипропилен': 2, '40х70': 2, 'Kokarda': 2, 'закруглять': 2, 'ландыш': 2, '0401': 2, '152': 2, 'Claudia': 2, 'JET006': 2, 'marengo': 2, 'принт': 2, 'фиксатор': 2, 'шар': 2, 'ваир': 2, 'мок': 2, 'гардения': 2, '1860': 2, 'аптений': 2, 'взрослый': 2, 'стиральный': 2, 'фал': 2, 'Brabantia': 2, 'алый': 2, 'вера': 2, 'молодило': 2, 'вайт': 2, 'SСOVO': 2, '1502081': 2, 'Leonardo': 2, 'баклажан': 2, 'прессованный': 2, '278': 2, '30х60': 2, 'жаклин': 2, 'TR': 2, 'PRISMA': 2, 'TEXTIL': 2, '2508Кп': 2, 'морской': 2, 'новый': 2, 'стяжка': 2, 'банан': 2, 'Sochi': 2, 'подкладка': 2, '135х50': 2, 'войлок': 2, 'перерабатывать': 2, '04': 2, 'незабудка': 2, 'седум': 2, 'почвопокровный': 2, 'овощной': 2, 'ирис': 2, '350х180': 2, '520': 2, '028': 2, 'хлорофитум': 2, 'мерный': 2, 'JK': 2, '1350': 2, '10+': 2, '122': 2, 'Н10': 2, 'гунни': 2, 'миска': 2, 'Blossom': 2, 'полоска': 2, 'морковь': 2, 'табак': 2, 'бургунди': 2, 'чабрец': 2, 'известковый': 2, 'гель': 2, 'Ultimate': 2, '111': 2, 'маскарад': 2, 'о': 2, 'Ekko': 2, '182х182': 2, 'Meiwa': 2, 'MARBLE': 2, 'Star': 2, '3679': 2, 'Orange': 2, 'Morn': 2, 'TVS': 2, 'сциндапсус': 2, 'СБ5': 2, 'ананас': 2, 'TWIN': 2, '56': 2, 'брызги': 2, 'фон': 2, 'Potunia': 2, '20х30': 2, '59': 2, '37': 2, 'Meliconi': 2, 'X64': 2, 'LI95': 2, '03': 2, 'черешня': 2, 'HARD': 2, 'термостакан': 2, 'гладить': 2, '308': 2, '125х43': 2, '140х50': 2, '135х45': 2, 'плющ': 2, 'снежный': 2, 'BLUES': 2, 'регатт': 2, 'Regatta': 2, 'стандартный': 2, 'колумбия': 2, '120x38': 2, 'атланта': 2, ' % ': 2, 'рукав': 2, 'монгольский': 2, 'карлик': 2, '53': 2, 'пурпурный': 2, 'RUS': 2, '1520': 2, 'ALPINA': 2, 'ST194': 2, 'Forme': 2, '5х29': 2, 'обувной': 2, 'красить': 2, 'Centi': 2, '1205160': 2, 'ролик': 2, 'Line': 2, 'сменный': 2, 'мирт': 2, '44х24х10': 2, '40х20х10': 2, '36х16х10': 2, 'бугельный': 2, 'вакуумный': 2, 'вкрапление': 2, 'резьба': 2, '190': 2, '40х60': 2, 'чугунный': 2, 'PYREX': 2, 'блузка': 2, 'разноцветный': 2, 'темно-розовый': 2, 'Pink': 2, 'рукоятка': 2, 'ATLANT': 2, '125х42': 2, '60х100х10': 2, 'работа': 2, 'страсть': 2, 'кореопсис': 2, 'клик': 2, 'лапчатка': 2, 'ЮНИОР2': 2, 'БЮ2': 2, 'сальса': 2, 'измерительный': 2, 'угольник': 2, 'E': 2, 'Brava': 2, 'СН90': 2, 'Micro': 2, 'цилиндрический': 2, 'эмпилабль': 2, 'грань': 2, 'CHEF': 2, 'краснокачать': 2, 'победа': 2, 'шеффлер': 2, 'сакура': 2, 'гусь': 2, 'телескоп': 2, 'темно-коричневый': 2, 'сервировочный': 2, '26х41': 2, 'подсолнух': 2, 'Verga': 2, 'тефлоновый': 2, 'акаулис': 2, 'пробка': 2, '89': 2, 'HAUSREIN': 2, 'влаговпитывать': 2, '60х140': 2, 'подметание': 2, '60х90см': 2, 'FASHION': 2, 'верхний': 2, 'NEO': 2, 'BLUE': 2, '2350': 2, 'pink': 2, 'моравский': 2, 'D15': 2, 'посудомоечный': 2, 'машина': 2, 'Ludwik': 2, 'польша': 2, 'Alablock': 2, 'колесико': 2, 'против': 2, '8806325': 2, 'беатрис': 2, 'образный': 2, '80Х170': 2, '122х152': 2, 'перечный': 2, 'THERMO': 2, 'корыто': 2, 'бесшовный': 2, '303': 2, 'корневой': 2, 'карин': 2, 'FLEUR': 2, '30MT': 2, 'защитный': 2, 'METAL': 2, 'тряпка': 2, '40х50': 2, 'мимоза': 2, 'любимец': 2, 'фарфоровый': 2, 'Welfull': 2, '132х178': 2, 'Telegant': 2, 'кружевной': 2, '88х38': 2, 'расширять': 2, '5х23': 2, 'JAPANESE': 2, 'BLACK': 2, '19708': 2, 'пластхозторг': 2, 'кения': 2, 'Limited': 2, 'батарейка': 2, 'калатея': 2, 'цветущий': 2, 'атос': 2, 'полосатый': 2, '102': 2, 'спать': 2, 'леди': 2, 'улыбка': 2, 'пакет': 2, 'бархатный': 2, 'стеганый': 2, 'резинка': 2, 'п': 2, 'июньский': 2, 'вантуз': 2, 'Market': 2, 'Vortex': 2, 'подушка': 2, 'клетка': 2, 'темно': 2, 'съемный': 2, '17х17х10': 2, '25001': 2, 'розебад': 2, 'арарат': 2, 'бордовый': 2, '60х180': 2, 'Comfortline': 2, 'гиацинт': 2, 'RG': 2, 'SAQUET': 2, 'SAQ002': 2, 'CONVERT': 2, 'ACR042': 2, 'холодный': 2, 'сварка': 2, 'Mastix': 2, '55г': 2, 'тяжелый': 2, 'EUROHOUSE': 2, 'листопад': 2, 'амбиантэ': 2, 'аморить': 2, 'георгин': 2, 'бронзовый': 2, 'попсокс': 2, '286': 2, 'WTd180': 2, '5031': 2, 'Speed': 2, 'Universal': 2, 'подголовник': 2, '25х34': 2, '2B': 2, 'кокосовый': 2, '110х33': 2, 'гарден': 2, 'дорожный': 2, 'аксинья': 2, 'кс': 2, 'корпус': 2, 'жаропрочный': 2, 'B': 2, 'толкушка': 2, '130х50': 2, 'тонус': 2, 'хуторянка': 2, 'сельдерей': 2, 'ауреум': 2, 'санки': 2, 'Alparaisa': 2, '051': 2, '140х200': 2, 'от': 2, 'мантоварка': 2, 'калитва': 2, 'эхинокактус': 2, 'грузонь': 2, 'XL': 2, 'веревка': 2, 'EXCLUSIVE': 2, 'Metallic': 2, 'металлизированый': 2, 'металический': 2, 'циния': 2, 'бидон': 2, 'тип': 2, 'Floral': 2, 'каучук': 2, 'афеляндр': 2, 'скуаррос': 2, 'дания': 2, 'салат': 2, 'рукол': 2, '125': 2, 'медь': 2, 'тканевый': 2, 'бельевой': 2, 'эко': 2, 'MEIWA': 2, 'FPLUS': 2, 'AZ': 2, 'камнеломка': 2, 'карпатский': 2, 'экспресс': 2, 'кустовой': 2, 'гардеробная': 2, 'почтовый': 2, 'Fragmmento': 2, 'диффенбахий': 2, 'икс': 2, 'цитрат': 2, '114x34': 2, '115х35': 2, 'Reflector': 2, 'приварной': 2, 'гаражный': 2, 'Premium': 2, 'Toothpaste': 2, '52': 2, '90х150': 2, 'JP': 2, 'Vita': 2, '3D': 2, 'дозатор': 2, 'рим': 2, 'MC355': 2, 'прованс': 2, 'элатиор': 2, 'удаление': 2, 'антижир': 2, 'открытый': 2, 'Mito': 2, 'двуспальный': 2, 'арктик': 2, 'фреза': 2, 'нитрид': 2, 'титан': 2, 'пиво': 2, 'кекс': 2, 'спираль': 2, 'WHITE': 2, 'CLASSIC': 2, 'Marine': 2, 'тесненый': 2, 'TD1': 2, 'анемон': 2, 'ти': 2, 'японский': 2, 'DELUX': 2, 'валенсия': 2, '71': 2, 'основа': 2, '130x44': 2, 'шпагат': 2, 'ктекс': 2, 'слуга': 2, 'жидкий': 2, 'ROSARIO': 2, 'скоростной': 2, 'брокколи': 2, 'фортуна': 2, 'эквадор': 2, ' & ': 2, 'топ': 2, 'мясо': 2, '175': 2, 'ветка': 2, 'TL': 2, '45см': 2, 'покрывало': 2, 'KARNA': 2, 'Bella': 2, 'прямостоячий': 2, 'лантан': 2, 'ковш': 2, 'TEFLONIX': 2, 'уголок': 2, 'позднеспелый': 2, 'низкий': 2, '55х55': 2, 'эксперт': 2, 'защита': 2, 'рука': 2, 'яйцо': 2, 'сосна': 2, 'ярус': 2, 'продукт': 2, 'латексный': 2, 'баскью': 2, 'виктория': 2, 'ролл': 2, 'крыло': 2, 'колосистый': 2, '64': 2, 'MT355': 2, 'светло-лиловый': 2, 'династия': 2, 'супер': 2, 'пылесос': 2, 'сбор': 2, 'всасывание': 2, 'королевский': 2, 'остеоспермум': 2, 'плоский': 2, 'поиск': 2, 'риф': 2, 'фатсия': 2, 'ягода': 2, 'халат': 2, 'акрил': 2, 'лайм': 2, 'c': 2, 'EM': 2, '00003A': 2, '32': 2, 'настольный': 2, '5кг': 2, 'соковарка': 2, '40х13х16': 2, 'чеснок': 2, 'Soehnle': 2, 'лилейник': 2, 'Lino': 2, 'сидней': 2, '300х150': 2, 'WTO305': 2, '81': 2, '135х53': 2, 'Paola': 2, 'Natural': 2, 'Style': 2, '213': 2, 'осина': 2, 'арлета': 2, 'Calliope': 2, 'навесный': 2, 'фанера': 2, 'TOUCH': 2, '1700': 2, 'клипса': 2, 'D10': 2, '43': 2, 'лопатка': 2, 'BAMBOO': 2, 'глоксиния': 2, 'котон': 2, 'EKSPO': 2, 'термометр': 2, '202': 2, 'G85': 2, 'комод': 2, 'фильтр': 2, 'муза': 2, '03619': 2, '885': 2, 'Queen': 1, 'Ingrid': 1, 'Rosebud': 1, 'тюльпановидный': 1, 'EMMA': 1, 'влажный': 1, 'сухой': 1, '40002': 1, '370': 1, '370V': 1, 'антискользящий': 1, '50320': 1, '4062': 1, 'UNIVERSAL': 1, '160х60': 1, 'ABU004': 1, 'Mary': 1, 'погружной': 1, '5061': 1, 'скорость': 1, 'Bicolor': 1, '20826': 1, '5374': 1, 'СБ8': 1, 'фанк': 1, 'ЛК': 1, 'F': 1, 'LK': 1, 'Rollquick': 1, '4.2': 1, '83006': 1, 'Dinamik': 1, 'СБП1': 1, 'Margaretha': 1, 'Prins': 1, 'Nikolai': 1, 'Pandora': 1, 'лидер': 1, 'мускад': 1, 'джессика': 1, 'касаживать': 1, '76': 1, 'суперэкзотика': 1, '109': 1, 'аделин': 1, 'барао': 1, 'хурма': 1, 'син': 1, 'L0886': 1, 'Roma': 1, 'волгоградец': 1, 'Black': 1, 'Satin': 1, 'огонек': 1, 'продюсер': 1, 'сибирский': 1, 'огонь': 1, 'шуга': 1, 'бэби': 1, 'василек': 1, 'Burgundy': 1, 'Emma': 1, 'розебуд': 1, 'молодой': 1, '1703004': 1, 'R185': 1, 'авеню': 1, '180х214': 1, '200х214': 1, 'усиленный': 1, 'дюраль': 1, '1110015': 1, 'М2511': 1, '1404015': 1, 'Lini': 1, 'T101': 1, '25кг': 1, 'BIO': 1, '1024106': 1, 'ТХ0253': 1, 'CITY': 1, 'NEW': 1, '35х30х33': 1, '00274': 1, 'T37': 1, 'G9403': 1, 'G9402': 1, 'AVEX0759': 1, 'поэма': 1, 'J1349': 1, '3170': 1, 'Home': 1, 'Art': 1, 'решетка': 1, 'вентиляционный': 1, 'золото': 1, '17х17': 1, '1710035': 1, '1703011': 1, 'natural': 1, 'серо-коричневый': 1, 'Apac': 1, 'Louvre': 1, 'бахромчатый': 1, 'ВЛ867': 1, 'СН120': 1, '130': 1, 'темно-зеленый': 1, '31003': 1, '12S': 1, 'Lilac': 1, 'Surprice': 1, 'Yellow': 1, 'Magenta': 1, 'Halo': 1, 'ложноплатановый': 1, 'леопольди': 1, 'пес': 1, '21417': 1, '45х76': 1, 'Flagstone': 1, '5415': 1, '213R11': 1, 'грандифлора': 1, '5974': 1, '60х100х104': 1, 'комбинировать': 1, '1209021': 1, 'хромой': 1, '1108349': 1, 'чабер': 1, 'Bolero': 1, '1712012': 1, '5881': 1, 'H7013': 1, '822502': 1, '5698': 1, 'махито': 1, 'Japanosche': 1, 'Mojito': 1, 'Minze': 1, 'Scab': 1, 'Stiro': 1, 'DOUBLE': 1, 'ST797': 1, 'гипсофил': 1, 'аврора': 1, 'израиль': 1, 'бульонница': 1, 'мистигря': 1, 'J8770': 1, 'Recharge': 1, 'AVEX0681': 1, 'рожковый': 1, 'металлик': 1, '1110027': 1, 'долька': 1, '1404021': 1, '4356200': 1, 'СМ3': 1, 'капроновый': 1, 'бухта': 1, '300м': 1, '1201050': 1, 'элк': 1, 'латунь': 1, '1110136': 1, 'модульный': 1, '298264': 1, 'половник': 1, 'BLOSSOM': 1, 'AGB305': 1, 'Europa': 1, '21738F6EC': 1, 'бест': 1, 'НБ': 1, 'дивали': 1, 'D7358': 1, 'GN': 1, 'мейер': 1, 'ринго': 1, 'трубочка': 1, 'мяч': 1, 'JAR501': 1, '055': 1, 'G300A02W': 1, '4096': 1, 'Presea': 1, 'прямоуголный': 1, '120х150': 1, 'сепия': 1, '5514': 1, 'сидение': 1, 'СВ5': 1, 'Planet': 1, 'I': 1, 'LOVE': 1, '136': 1, 'четыре': 1, 'разъемный': 1, '18B30': 1, 'P46': 1, 'авто': 1, '4607101069064': 1, 'квадратный': 1, '140х140': 1, 'ML144': 1, '520111': 1, '100х60х10': 1, '106H': 1, 'термостатический': 1, '1506085': 1, 'мари': 1, 'петух': 1, 'полина': 1, 'чурленис': 1, 'болт': 1, 'ст': 1, 'цинк': 1, '1108354': 1, 'замиокулькас': 1, 'пеперомия': 1, 'райдер': 1, 'лагуна': 1, 'элиз': 1, 'H2258': 1, '5801': 1, '520114': 1, 'LDN': 1, 'Webber': 1, '7010': 1, '1404085': 1, '46х76': 1, 'Drifted': 1, 'Nature': 1, 'изменчивость': 1, '5007': 1, 'Alpine': 1, 'Wrought': 1, '45x76': 1, '4649': 1, 'обувница': 1, 'квадро': 1, '70000001в': 1, 'аквилегия': 1, 'барлоу': 1, '4660010775433': 1, 'амброзия': 1, '4660010772616': 1, 'барон': 1, 'солемахер': 1, '4660010775556': 1, '4650091480340': 1, 'морокан': 1, 'дюна': 1, 'валя': 1, 'кинг': 1, 'медок': 1, '4660010776423': 1, 'балконный': 1, '4660010772531': 1, 'укроп': 1, 'обильнолистный': 1, '4660010772562': 1, '150х120': 1, 'WT125': 1, 'куэн': 1, 'J1299': 1, '4312600': 1, 'блюдо': 1, 'Pasabahce': 1, 'конья': 1, '354': 1, '54372B': 1, 'марля': 1, 'H9184': 1, 'WT358': 1, '5512': 1, 'кб': 1, '35х28х19': 1, '1524002': 1, '1703009': 1, '1505027': 1, '1535026': 1, '960': 1, 'D960': 1, 'C1350': 1, 'перф': 1, 'RAINBOW': 1, 'хромировать': 1, '201': 1, '5х55х93': 1, 'фазенда': 1, 'ПЦ2311ЗЛПР': 1, 'СБ1Г': 1, 'Apple': 1, 'LORETA': 1, 'GOLF': 1, 'HL': 1, '30х40х25': 1, 'ASB425': 1, 'Professional': 1, '35748W': 1, 'ВН3': 1, 'самоклеять': 1, '1110008': 1, '\"': 1, 'H125': 1, 'покрывать': 1, 'шенилл': 1, 'BIRHOME': 1, 'VALENTIN': 1, '240х260': 1, '9234567089661': 1, 'изя': 1, 'вейв': 1, 'спэйниш': 1, 'эппл': 1, 'минт': 1, '520132': 1, '114х37': 1, 'бязь': 1, '110х32': 1, 'С12128': 1, '1404093': 1, 'ароматизированный': 1, 'дудаление': 1, 'ржавчина': 1, '4660015923235': 1, 'бальзам': 1, 'EcoSoda': 1, '044684': 1, 'ECOMATIC': 1, 'GREEN': 1, 'CLEANER': 1, 'испания': 1, '126109': 1, 'ступенька': 1, 'аллюр': 1, 'G5747': 1, 'G5544': 1, '60х30': 1, 'промой': 1, 'тачка': 1, 'E9131': 1, 'H1496': 1, 'дисней': 1, 'микки': 1, 'колорс': 1, 'L2127': 1, 'минни': 1, 'H6441': 1, 'PRO': 1, 'AKL113': 1, '2775': 1, '1404032': 1, 'AHS331': 1, 'ранункулус': 1, 'клуня': 1, 'ханой': 1, 'аспенный': 1, 'H4121': 1, 'Krackle': 1, '5911': 1, 'Marmiton': 1, 'LG17085': 1, '0039A': 1, '26N': 1, '26GL': 1, 'апельсин': 1, 'С125': 1, '1404040': 1, 'блу': 1, 'айза': 1, 'Mix': 1, 'Sweet': 1, 'Bells': 1, 'Golden': 1, 'портулак': 1, 'небесно-голубой': 1, 'Angel': 1, 'Eyes': 1, 'Swingtime': 1, 'бьянка': 1, 'вок': 1, '4L10520': 1, 'альто': 1, 'J1749': 1, 'лаура': 1, 'SV3020': 1, 'P48': 1, '4607101069088': 1, '57572': 1, '1804047': 1, '1703007': 1, 'сербский': 1, 'спренжери': 1, 'тропик': 1, 'найт': 1, 'BRUNA': 1, 'HBM': 1, '6195': 1, 'венский': 1, 'виолетта': 1, 'гулливер': 1, 'Elegant': 1, '125x45': 1, 'C42': 1, 'Pineaple': 1, 'Rave': 1, 'Violet': 1, 'Baby': 1, 'Doll': 1, 'Bordeaux': 1, 'Crazytunia': 1, 'Pulse': 1, 'Pegasus': 1, 'Qeen': 1, 'of': 1, 'Hearts': 1, 'Strawberry': 1, 'Ice': 1, 'Sanguna': 1, 'Patio': 1, 'Night': 1, 'Marvelous': 1, 'винный': 1, 'Gem': 1, 'свитуний': 1, 'Johnny': 1, 'Flame': 1, 'сердцевина': 1, 'М2507': 1, '1404037': 1, 'рябой': 1, 'голдни': 1, 'селебрейшен': 1, 'императрица': 1, 'колетт': 1, 'лондон': 1, '27х27х10': 1, '23х23х10': 1, '72000': 1, 'GRANITE': 1, 'ABX111': 1, 'урна': 1, 'гео': 1, 'Hobbyka': 1, 'хоббик': 1, '5см': 1, 'Stendy': 1, 'Stabil': 1, '71816': 1, 'STABILO': 1, '0503': 1, 'SE': 1, 'камушек': 1, 'транспарент': 1, '5187': 1, 'райский': 1, 'яблочко': 1, 'XJ210': 1, 'SL90': 1, 'NM90': 1, 'JZ80': 1, 'GP8': 1, 'RP8': 1, 'T9': 1, '3см': 1, 'SCR30': 1, 'мадрид': 1, '50х30х12': 1, '30х24х12': 1, '72019': 1, 'AFD028': 1, '1703006': 1, 'Prima': 1, '510': 1, '720': 1, 'веревочный': 1, '6031': 1, 'NATURAL': 1, 'темно-серый': 1, '38х59': 1, '2х27': 1, 'комбинированный': 1, '1209024': 1, '8925': 1, '901': 1, 'L9': 1, '520140': 1, '520109': 1, 'Family': 1, '520138': 1, 'Venezia': 1, 'лобулярий': 1, '4650091480302': 1, 'лаватер': 1, 'монт': 1, 'блан': 1, '4660010778588': 1, 'лидия': 1, 'солнечный': 1, 'девочка': 1, 'анастасия': 1, 'торонто': 1, '40х10': 1, '35х10': 1, '30х10': 1, '25х10': 1, '72015': 1, 'белоруссия': 1, '1404049': 1, 'Top': 1, 'Moving': 1, '124х46': 1, '5757': 1, '80x40': 1, 'AMC080': 1, 'зола': 1, '1805003': 1, 'ангора': 1, '1404092': 1, 'яромир': 1, 'кремль': 1, 'яр': 1, '2406М': 1, 'Geoflora': 1, 'Amelia': 1, '401': 1, '115х30': 1, 'томрис': 1, '200х150': 1, 'WPL152': 1, 'ежевика': 1, 'ДСГ424020311': 1, '50х30': 1, 'амели': 1, 'прима': 1, 'ADP618': 1, 'полировка': 1, 'гои': 1, 'СТК1': 1, 'STIRAMANICHE': 1, '53Х13': 1, 'B138LGPW': 1, 'Tango': 1, 'РВ322': 1, '40MT': 1, '4CF': 1, 'мультиблум': 1, 'скарлет': 1, 'ай': 1, '350S': 1, 'd15': 1, 'BAB010': 1, 'фигурный': 1, 'ворс': 1, '1801096': 1, 'Grill': 1, '6207': 1, '20920': 1, 'FARANDOLE': 1, 'DM9635': 1, 'эконом': 1, 'ЭК1': 1, 'перл': 1, 'нюрнберг': 1, '1205155': 1, 'G9212': 1, 'Clear': 1, '* (': 1, 'слой': 1, '1205060': 1, 'блок': 1, 'R160071': 1, 'R510100': 1, '36х71': 1, 'нью-йорк': 1, 'правый': 1, '72012': 1, '70х27х40': 1, '3011': 1, 'RolserJet': 1, 'malva': 1, '760': 1, 'JAR760': 1, '04002A': 1, '226B10': 1, 'R190237': 1, 'Paco': 1, 'DOGRULAR': 1, 'класс': 1, 'плюс': 1, '123304': 1, 'суккулент': 1, 'СБ2Б': 1, '5872': 1, 'SC4AC20': 1, 'калоцефалус': 1, 'брауни': 1, 'крашеный': 1, 'осенний': 1, 'AHM781': 1, '3.6': 1, 'SC5AC24': 1, '5141': 1, 'драцена': 1, 'фрагранс': 1, 'компакт': 1, '312': 1, '31х31': 1, '4630005360012': 1, '1703003': 1, 'ножеточка': 1, 'рыбка': 1, '1519028': 1, 'R214025': 1, '21013': 1, 'масленка': 1, 'коровка': 1, '17см': 1, '73115': 1, '90х42': 1, 'VATL': 1, 'желудь': 1, 'СМ5': 1, 'домин': 1, '223708': 1, 'Expert': 1, '1503008': 1, '701003AG': 1, 'свинюшка': 1, 'грязюшко': 1, 'унитаз': 1, 'FC': 1, '51001D': 1, 'турецкий': 1, 'роковой': 1, '4660010773231': 1, 'годеция': 1, 'рембранд': 1, '4650091480128': 1, 'сюрпрайз': 1, '4650091480203': 1, '4650091480234': 1, 'толла': 1, '4650091480258': 1, 'клюквенный': 1, '4660010770421': 1, 'кэнди': 1, 'страйп': 1, '4650091480272': 1, 'огненный': 1, '4650091480616': 1, 'волшебный': 1, '4660010779639': 1, 'друммонд': 1, '4650091480401': 1, 'цинерария': 1, 'серебряный': 1, '4660010770797': 1, 'эшшольций': 1, 'карминный': 1, '4660010770193': 1, 'кодонант': 1, '1703005': 1, 'ретро': 1, 'ДВ1р': 1, 'треугольный': 1, 'Y8110': 1, '8X12': 1, '14386': 1, 'линейка': 1, 'RGL': 1, '14387': 1, '40л': 1, 'СА5': 1, 'галс': 1, '1404057': 1, 'AVEX0776': 1, '40020': 1, 'эмалировать': 1, '1624': 1, '1506037': 1, 'велад': 1, 'L7997': 1, '054': 1, 'СБ6': 1, 'двухъярусный': 1, 'резинопластиковый': 1, '1402018': 1, 'циперус': 1, 'зумула': 1, 'папилон': 1, '6043': 1, 'стейк': 1, 'AKC034': 1, 'Perfo': 1, 'Midi': 1, '702': 1, 'белорусский': 1, 'надежда': 1, 'гудмен': 1, 'хедер': 1, 'листва': 1, 'кумган': 1, '1408003': 1, 'капелла': 1, 'авангард': 1, 'табурет': 1, 'L90': 1, 'Step': 1, 'ke': 1, '4442': 1, '701': 1, '2х2': 1, 'цитрофортунелла': 1, 'кумкват': 1, 'штамбовый': 1, 'П67': 1, '98h98v060': 1, '01338': 1, 'альбук': 1, 'спиралиса': 1, 'фризлый': 1, 'сизл': 1, 'латт': 1, 'Hausrein': 1, '51120': 1, 'X59': 1, '6163': 1, '6033': 1, '3202': 1, 'пион': 1, '1712007': 1, 'держатель': 1, 'туалетный': 1, 'бумага': 1, 'С373': 1, '1713006': 1, '1206155': 1, 'RL': 1, '0071': 1, 'мыльный': 1, 'пузырь': 1, 'юбка': 1, '10.5': 1, '121B11': 1, 'С299': 1, '1704006': 1, 'ST05': 1, 'beige': 1, 'white': 1, 'Gothic': 1, 'Slice': 1, 'готический': 1, '4468': 1, '42х15': 1, 'гладкий': 1, '55037': 1, 'Asteria': 1, '100101': 1, 'Hello': 1, 'Bonjour': 1, 'Ciao': 1, 'ковровый': 1, '4658': 1, '95х55': 1, '1803003': 1, 'С04': 1, 'травянистый': 1, 'очиток': 1, 'видный': 1, 'полукруглый': 1, 'розетта': 1, '20657': 1, 'лапша': 1, 'СБ3Б': 1, 'LORA': 1, 'HLF': 1, 'EXTRA': 1, 'ВЛ869': 1, 'AHS711': 1, 'INFINITY': 1, 'перфорировать': 1, '04742': 1, 'N23': 1, 'штангенциркуль': 1, 'точность': 1, '3015515': 1, '0910007': 1, 'IVORY': 1, 'AGI030': 1, '1703010': 1, 'Teleclip': 1, '83304': 1, '0037A': 1, '22N': 1, 'D23': 1, 'изящный': 1, 'родничок': 1, 'иктерин': 1, 'колибри': 1, 'ополаскиватель': 1, '5900861242715': 1, 'глажение': 1, 'ява': 1, 'РТК26': 1, '45х65': 1, '1200023': 1, 'FORTRESS': 1, 'ACF622': 1, 'многофункциональный': 1, 'R212522': 1, 'R212608': 1, 'H7012': 1, '154': 1, '179х90х42': 1, 'Systema': 1, 'Tartar': 1, 'образование': 1, 'камень': 1, '616764': 1, 'барселона': 1, '28х28х15': 1, '23х23х15': 1, '17х17х15': 1, '72009': 1, 'шэйдс': 1, 'H8401': 1, '211': 1, 'TWIST': 1, 'VRTW': 1, 'боннтяжелый': 1, 'слвопп': 1, 'мариса': 1, 'J7687': 1, 'престиж': 1, 'G6207': 1, 'Н9': 1, '60х50х35': 1, 'AA003': 1, '300х145': 1, 'ML304': 1, 'Ricko': 1, '5м': 1, 'Rk': 1, '5953': 1, 'тач': 1, 'Tachi': 1, 'мандариновый': 1, 'KANGOO': 1, 'powder': 1, '1303007': 1, 'амазонка': 1, 'витаминный': 1, 'лечебный': 1, '1404047': 1, '1404045': 1, '1404006': 1, '350х170': 1, 'М2506': 1, '1404091': 1, 'мерка': 1, '1404028': 1, '1404079': 1, '1404038': 1, 'С12129': 1, '1404034': 1, 'С203': 1, '1404039': 1, '1404094': 1, 'орегано': 1, 'иссоп': 1, 'аккорд': 1, 'сахарный': 1, 'квин': 1, 'гранит': 1, '12см': 1, 'N6615': 1, 'Luminar': 1, 'дихондр': 1, 'серебристый': 1, '650': 1, 'ABF135W': 1, 'FLOWER': 1, 'ST798': 1, 'соль': 1, '5900861242227': 1, '140х60': 1, 'ABM106': 1, 'многоцветковый': 1, '204к': 1, 'Quartz': 1, 'кафель': 1, 'паркет': 1, 'макси': 1, 'витнетт': 1, 'R212766': 1, 'открытимый': 1, 'елочка': 1, '5667': 1, 'сахарница': 1, 'LAVENDER': 1, 'BLADE': 1, 'DM9247': 1, 'увлажнять': 1, 'маска': 1, 'Brown': 1, 'Rice': 1, 'Moisture': 1, '330': 1, '599928': 1, '56710': 1, 'Т125': 1, '30кг': 1, 'DRESSETTA': 1, '41000': 1, 'валера': 1, 'лить': 1, 'чин': 1, 'Daisy': 1, '60х110': 1, 'R261016': 1, '0018': 1, '5979': 1, '103': 1, '5х53': 1, '83305': 1, '3640': 1, '5527': 1, 'JB': 1, 'JET001': 1, 'середина': 1, 'DSCN3579': 1, ', (': 1, '751': 1, '1408004': 1, '225': 1, 'ТХ0252': 1, 'овсянница': 1, 'сизый': 1, 'родос': 1, 'Subati': 1, 'Flowers': 1, 'антинакипин': 1, 'ампула': 1, 'UN': 1, 'MOMENTO': 1, '4627096350107': 1, 'электроштопор': 1, '?': 1, '4хАА': 1, '71000': 1, 'Duplo': 1, 'Crazy': 1, 'фараон': 1, 'арамис': 1, 'портос': 1, 'смайлик': 1, '101': 1, 'ракета': 1, '113': 1, 'альфа': 1, 'алтай': 1, 'аристократ': 1, 'багратион': 1, 'боярский': 1, 'государь': 1, 'грандесса': 1, 'медовый': 1, 'сердолик': 1, 'удобрение': 1, 'MALIBU': 1, 'фарфор': 1, '47х12': 1, '1001768': 1, 'пахира': 1, 'акватик': 1, 'мультисть': 1, 'Polyline': 1, 'аметист': 1, '6230': 1, 'наматрацник': 1, 'Natures': 1, 'ББ': 1, 'н': 1, 'односпальный': 1, '90х200': 1, 'угол': 1, 'T142': 1, 'темостеганый': 1, '140х205': 1, '4690659000306': 1, '1404062': 1, 'стерилизация': 1, '1514008': 1, 'Plush': 1, 'Vanilla': 1, 'нейлон': 1, '60х102': 1, 'ванильный': 1, '4683': 1, 'шампанское': 1, 'даймонд': 1, 'G5208': 1, 'белокочанный': 1, 'москвичка': 1, 'поцелуй': 1, '66': 1, 'шайметь': 1, 'криг': 1, '117': 1, 'этуаль': 1, 'ORSINI': 1, '1013512': 1, 'Rosato': 1, 'MULTY': 1, '120х180см': 1, 'РР214': 1, '07034': 1, '380': 1, '1206007': 1, 'сатиновый': 1, 'полутороспальный': 1, 'RPE150': 1, 'дримс': 1, '150х214': 1, 'RP60': 1, 'шоколадный': 1, 'Chocolate': 1, 'блюдце': 1, 'утро': 1, 'J3261': 1, 'СБ1': 1, '1209020': 1, '90х120': 1, 'K041': 1, 'нолина': 1, ' ) \"': 1, 'WP44': 1, 'мила': 1, '38х63': 1, '4630005366090': 1, 'смахивание': 1, '0528': 1, 'амариллис': 1, '5х23х1': 1, 'ROMANTIC': 1, 'RM': 1, '16601s': 1, 'сельма': 1, '220мл': 1, 'G9434': 1, 'Atos': 1, '57373': 1, '1804049': 1, 'RATTAN': 1, '01704': 1, 'рио': 1, '5х21х10': 1, '72005': 1, 'орхидея': 1, 'горошек': 1, 'Ц099h145v110': 1, '01321': 1, 'вязь': 1, '2060': 1, 'магда': 1, 'H8579': 1, 'море': 1, '821726': 1, '5701': 1, 'мединилл': 1, 'магнифика': 1, 'G9399': 1, 'палас': 1, '5528': 1, 'City': 1, '6023': 1, 'бархатцы': 1, 'веселый': 1, 'полянка': 1, '4660010777505': 1, 'очаровашка': 1, '4660010779578': 1, 'сладость': 1, '4660010775921': 1, 'драгоценность': 1, '4660010773316': 1, 'засолочный': 1, '4660010776102': 1, 'каскад': 1, '4660010772784': 1, 'H3529': 1, 'вульгарис': 1, 'компактус': 1, 'шалфей': 1, 'тутти-фрутти': 1, '30001': 1, 'PEP001': 1, 'bassi': 1, 'С05': 1, 'G110AT4W': 1, 'сыр': 1, '03148': 1, 'Pearl': 1, 'мэджик': 1, 'керио': 1, 'лимбо': 1, 'лина': 1, 'ДЛ1': 1, 'ACR013': 1, 'ACR023': 1, 'чайная': 1, 'ACR033': 1, 'гриб': 1, '4314103': 1, 'труба': 1, '1205197': 1, '1205037': 1, 'соковыжималка': 1, 'цитрусовый': 1, 'OTS131421': 1, '6196': 1, '1703002': 1, 'СНSapfir': 1, 'нетканый': 1, 'рулон': 1, 'EH4967': 1, 'пуэбло': 1, 'корать': 1, '69883': 1, 'MOHAWK': 1, 'Mansonry': 1, 'Foliage': 1, '5х89': 1, '5412': 1, 'L6415': 1, 'L6417': 1, 'J1392': 1, 'L2857': 1, 'G9834': 1, 'L2858': 1, 'J2113': 1, 'колорама': 1, 'рэд': 1, 'J7772': 1, 'рапсоди': 1, 'H8728': 1, '4650091480579': 1, '4650091480746': 1, 'лимонад': 1, '4650091480500': 1, '4650091480562': 1, '4650091480555': 1, '4660010770414': 1, 'смолевка': 1, 'звездный': 1, 'взрыв': 1, '4650091480630': 1, 'ацтек': 1, '4650091480739': 1, 'хааг': 1, 'олд': 1, 'мехико': 1, '4650091480456': 1, 'стрела': 1, 'ПС': 1, 'рыбинск': 1, '1104019': 1, 'плектрантус': 1, 'комфорт': 1, 'ВК6с': 1, 'зебра': 1, 'золотинка': 1, 'жемчужина': 1, 'универсал': 1, '064М': 1, '1502013': 1, '200х180': 1, 'RW180': 1, 'BASIC': 1, 'ABB004': 1, 'Reflecta': 1, '140х45': 1, '72382': 1, 'алоэ': 1, 'пластмасовой': 1, 'больший': 1, '5.0': 1, 'Р1673': 1, '1524004': 1, '1620': 1, 'СБ4': 1, 'ECT': 1, '14369': 1, '83100': 1, '60х95': 1, 'EVE4214': 1, 'EA1104': 1, 'платье': 1, 'неткать': 1, '135': 1, '360135': 1, 'Siena': 1, '81151': 1, 'Diamante': 1, '4800': 1, 'SAINT': 1, 'GERMAIN': 1, 'DM9638': 1, 'лимонный': 1, 'вариегэйтид': 1, '520116': 1, 'Coffee': 1, 'Chef': 1, '45x75': 1, '5420': 1, 'NATURE': 1, '60x40': 1, 'AMC015': 1, 'стыдливый': 1, 'Junior': 1, 'отбеливатель': 1, 'пероксоль': 1, '4670008040078': 1, 'романтик': 1, 'J7900': 1, 'фен': 1, '0904': 1, '1400': 1, '1003': 1, 'HSP394': 1, 'водоросль': 1, '5919': 1, 'рассекатель': 1, 'газовый': 1, 'плита': 1, 'AN8032': 1, 'засор': 1, 'система': 1, 'водопровод': 1, 'антизасор': 1, '4660015923303': 1, '2776': 1, '1404043': 1, 'ЮНИОР1': 1, 'БЮ1': 1, 'глория': 1, ' ( ': 1, ' ) ': 1, '1530018': 1, 'PARQUET': 1, '75x45': 1, 'AMC075': 1, 'Persia': 1, 'Beige': 1, '5379': 1, 'тусканный': 1, 'максим': 1, 'триколор': 1, 'сантолина': 1, 'хамаекипарисус': 1, 'силач': 1, 'цитриодорус': 1, 'цимбопогон': 1, 'лемонграсс': 1, 'ориганум': 1, 'шпинат': 1, 'магнитогорск': 1, '1301016': 1, 'многолетний': 1, 'AMPARI': 1, 'РТ9061СЛРОЗ': 1, '10РS': 1, '50х70см': 1, 'ALB257': 1, 'анна': 1, 'Olive': 1, 'Oil': 1, 'Sideboard': 1, '56х86': 1, '5062': 1, 'завтрак': 1, 'RD0030': 1, 'ST': 1, 'Elba': 1, '1410': 1, 'пуховый': 1, 'пух': 1, '4607101064199': 1, 'котовник': 1, 'мун': 1, '2238': 1, 'отделитель': 1, 'косточка': 1, '37200': 1, '1502074': 1, 'Dressfix': 1, '140х40': 1, 'жасмин': 1, '72328': 1, '34х34': 1, 'дакка': 1, 'C42F3M': 1, '1428': 1, '1209002': 1, '1209001': 1, 'вельвет': 1, 'джэк': 1, 'румб': 1, 'аква': 1, 'блекнуть': 1, 'бакар': 1, 'сатин': 1, '1401119': 1, 'аэронавт': 1, 'якорь': 1, 'даша': 1, 'персей': 1, 'форсаж': 1, 'котел': 1, 'балезино': 1, '1502050': 1, '20W': 1, '69х39': 1, 'черепаха': 1, '5538': 1, '4620757211700': 1, 'кралье': 1, '1209055': 1, '1301031': 1, 'POWERSLIDE': 1, '40х20': 1, '51520': 1, 'СБ3': 1, 'Rue': 1, 'de': 1, 'Papillion': 1, '3026': 1, 'мерседес': 1, 'карнавал': 1, 'кристалл': 1, 'тобаго': 1, 'водолей': 1, 'С614': 1, '1404056': 1, 'застольный': 1, '4660010775419': 1, 'гигант': 1, '4660010776553': 1, 'сицилия': 1, '4660010772852': 1, 'дикий': 1, 'оливетта': 1, '4660010776898': 1, 'джункус': 1, 'пенсил': 1, 'грасс': 1, '1110132': 1, 'ЛДН': 1, 'азур': 1, 'z029': 1, 'G1529': 1, 'тефлон': 1, 'НТ11': 1, 'элп': 1, 'эпипремнум': 1, 'мужчина': 1, 'ДВ1м': 1, 'RETRO': 1, '5758': 1, 'картофелемялка': 1, '1531002': 1, 'бензин': 1, 'зажигалка': 1, '1205214': 1, 'PLAIN': 1, 'SARASA': 1, '152х228': 1, '5789': 1, 'скальный': 1, 'бадан': 1, 'сердцелистный': 1, 'тенистый': 1, 'вариегат': 1, 'лен': 1, 'небесный': 1, 'лазурь': 1, 'ясколка': 1, 'войлочный': 1, 'чиппендейл': 1, 'чайно': 1, 'восточный': 1, 'край': 1, 'стрес': 1, '298': 1, 'бс': 1, 'DARWIN': 1, 'HAMMERED': 1, '11х8': 1, '1015330': 1, '4314108': 1, 'СН45': 1, 'младой': 1, 'симпатия': 1, 'алтайский': 1, 'дина': 1, 'казачка': 1, 'колхозница': 1, 'вим': 1, 'рина': 1, 'ремонтантный': 1, 'зенг': 1, 'зенган': 1, 'шопен': 1, 'врезной': 1, 'почта': 1, '1205250': 1, 'пузырек': 1, '70х38': 1, '5523': 1, 'поворотный': 1, 'шарнир': 1, 'ADF1768': 1, '1050767': 1, 'R211985': 1, '6034': 1, 'фимако': 1, 'плетеный': 1, 'фиттоний': 1, 'скелетон': 1, 'литопс': 1, 'Pollicino': 1, '73x32': 1, 'корейский': 1, 'Porto': 1, 'гидрофобный': 1, 'пропитка': 1, '1033938': 1, '4356000': 1, 'пикник': 1, 'персона': 1, '4380940': 1, '6030': 1, 'ADF1205': 1, 'измельчитель': 1, 'ШК': 1, '1516020': 1, 'маг': 1, '1206002': 1, 'кадриль': 1, 'бэррис': 1, 'энд': 1, 'крим': 1, 'грэйпфрут': 1, 'строуберри': 1, 'хилариса': 1, 'лемон': 1, 'C34F3M': 1, '1014625': 1, '51010': 1, 'ROLLING': 1, 'березка': 1, 'полоса': 1, '120x42': 1, 'DC42F3R': 1, '14х90': 1, '1103003': 1, 'Airboard': 1, '125х40': 1, 'Leifneit': 1, 'арт': 1, '72373': 1, 'Smokers': 1, '8850002805040': 1, 'Whitening': 1, '8850002805064': 1, 'эффект': 1, 'отбеливание': 1, 'кофейный': 1, 'никотиновый': 1, '603849': 1, 'тонкий': 1, 'нарезка': 1, 'пилообразный': 1, '2082': 1, '36х57': 1, '5795': 1, 'мунлайт': 1, 'H7253': 1, 'крассул': 1, '6041': 1, 'гвоздика': 1, 'новий': 1, 'Turflor': 1, 'удлиненный': 1, 'R190236': 1, 'тула': 1, '1205158': 1, 'Jolly': 1, 'MONO': 1, '2122': 1, 'STEP': 1, 'IN': 1, 'TRADITIONAL': 1, '8150': 1, '507': 1, 'L50': 1, 'S280': 1, 'ABF100G': 1, '42х28': 1, 'фреш': 1, 'А023': 1, '4543': 1, 'Lampo': 1, 'B0194R': 1, 'Marmo': 1, '6027': 1, 'бак': 1, '0744': 1, '221': 1, 'овощечистка': 1, 'плавать': 1, 'лезвие': 1, '03151': 1, 'вероника': 1, 'колосковый': 1, 'рифленый': 1, 'концентрат': 1, 'россиякорея': 1, '049320': 1, 'aquamarin': 1, 'ST12': 1, '3201': 1, '95х33': 1, '848N': 1, 'DASCH': 1, 'JET029': 1, 'lois': 1, 'лауретта': 1, '95': 1, 'быстрый': 1, 'жировой': 1, 'загрязнение': 1, '4660015923259': 1, 'николь': 1, 'JET027': 1, 'Cannetto': 1, '4061': 1, 'W185': 1, 'свереть': 1, '6867540': 1, '0512261': 1, '6862060': 1, '0512262': 1, '6862080': 1, '0512263': 1, '90h171v140': 1, '01014': 1, 'G110L04W': 1, 'Cervoise': 1, '320мл': 1, 'G3775': 1, 'Spring': 1, 'Prestige': 1, '9603': 1, 'Z027': 1, 'R20030A': 1, 'G1988': 1, 'оаэ': 1, '6038S': 1, '; ': 1, 'скалка': 1, 'силиконовый': 1, 'Lekue': 1, '0200800M02U050': 1, 'JW': 1, 'AHN271': 1, 'SILUET': 1, 'CREAM': 1, '132х177': 1, '4022': 1, 'вена': 1, 'СЧВ107': 1, '115': 1, 'БК1': 1, 'D3': 1, 'арендс': 1, 'флорал': 1, 'карпет': 1, 'персиколистный': 1, 'нивянник': 1, 'химера': 1, 'J1754': 1, 'Р6М5': 1, 'хвостик': 1, 'гост': 1, '10902': 1, '0512195': 1, 'СБ2Г': 1, 'профилактика': 1, 'заболевание': 1, 'десна': 1, 'Kobayashi': 1, 'кипарис': 1, 'береза': 1, 'япония': 1, '4987072072752': 1, 'LILY': 1, 'TRACERY': 1, 'ADL021': 1, '0503SEL': 1, 'СБ9': 1, 'VALENSIA': 1, '123х45': 1, 'НВ1': 1, 'запасный': 1, 'черно-белый': 1, '1021464': 1, 'POSH': 1, 'ONE': 1, 'MAGNUM': 1, '828': 1, '4580390': 1, '927058': 1, 'каллун': 1, 'герлс': 1, 'трехцветный': 1, 'капсикум': 1, 'жесткий': 1, 'леопард': 1, 'LB301': 1, '200г': 1, 'мелис': 1, 'соланум': 1, 'конус': 1, '(': 1, '1535027': 1, 'хлор': 1, 'ддля': 1, 'сантехника': 1, 'другой': 1, '4660015923228': 1, '5х38': 1, 'севилья': 1, '004': 1, 'лук': 1, 'порей': 1, 'победитель': 1, 'амтаман': 1, 'грибовский': 1, '120х180': 1, 'С07': 1, 'папоротник': 1, 'страусник': 1, 'хост': 1, 'Four': 1, '1016269': 1, 'Orion': 1, '204': 1, 'шприц': 1, 'кондитерский': 1, '0331': 1, 'JET010': 1, 'короткий': 1, '100х60': 1, '4351107': 1, 'полар': 1, 'файр': 1, 'адиантум': 1, 'лиза': 1, '1.0': 1, '100м': 1, 'бобина': 1, 'размотка': 1, 'изнутри': 1, '1201143': 1, '1404046': 1, 'Adria': 1, '72708': 1, '141': 1, 'Imperial': 1, '5174': 1, 'reffil': 1, 'Utimate': 1, 'облепиха': 1, '8809193042321': 1, 'бабочка': 1, '550': 1, 'Ф16': 1, '013L': 1, '60л': 1, '5068': 1, 'серо-голубой': 1, 'турбореживать': 1, 'классика': 1, '35х21х1': 1, 'Fabric': 1, '3656': 1, 'колобок': 1, 'московский': 1, 'сибирячка': 1, 'сноуболла': 1, 'EVEC0085': 1, 'EXPEDITION': 1, 'HISTORY': 1, 'EXP': 1, 'H': 1, '04010A': 1, 'токио': 1, '30х30х10': 1, '25х25х10': 1, '20х20х10': 1, '15х15х10': 1, '72007': 1, 'тоффи': 1, 'Greenrose': 1, 'италия': 1, '40х14х10': 1, '35х10х10': 1, '30х7х10': 1, '72006': 1, 'ITALO': 1, 'РД': 1, '00055': 1, '33х24х1': 1, 'одри': 1, 'ДВ1о': 1, 'забава': 1, 'РК': 1, '0402М': 1, 'просеиватель': 1, 'мука': 1, 'D27см': 1, 'RSB': 1, 'шалун': 1, 'Vileda': 1, 'Wring': 1, 'Turbo': 1, '151153': 1, 'педальный': 1, 'отантик': 1, 'H8388': 1, 'ВА': 1, '506': 1, '60х250': 1, 'С06': 1, 'HJ': 1, '1119': 1, 'милена': 1, '5820': 1, 'AHN261': 1, 'KARO': 1, 'полиакрил': 1, '1013110': 1, '266': 1, '28х42': 1, '4630005364393': 1, '8+': 1, '3CF': 1, 'SOPHY': 1, 'корица': 1, 'HSK': 1, '1290': 1, 'ЧП2': 1, '0516': 1, '570': 1, '1205107': 1, 'C34F3': 1, '90x60': 1, 'Table': 1, 'dark': 1, 'red': 1, 'жилка': 1, 'D13': 1, 'соус': 1, 'OTS131505': 1, '000': 1, 'ножницы': 1, 'орехокол': 1, '5208': 1, 'AKF522': 1, '305': 1, '36М': 1, '1519003': 1, '318': 1, 'гурман': 1, '14М': 1, '1519009': 1, '285': 1, '38М': 1, '1519022': 1, 'рыбочистка': 1, '1518024': 1, 'варение': 1, '037': 1, '1502083': 1, '5730': 1, 'гимнокалициум': 1, 'X66': 1, 'ПЦ2913': 1, '1404051': 1, 'rosebud': 1, '4шт': 1, 'традесканция': 1, '200х220': 1, '9234567049108': 1, 'Rosella': 1, 'нежно-розовый': 1, 'темно-фиолетовый': 1, 'аргирантерум': 1, 'А034': 1, '4545': 1, 'BAB008': 1, '202ST': 1, 'юниор': 1, 'эль': 1, 'С215': 1, '1406006': 1, 'MLd': 1, '187': 1, 'эстель': 1, 'лион': 1, 'J0276': 1, 'ABT142': 1, 'мебельный': 1, '1108416': 1, 'картонный': 1, '30х20х15': 1, 'hm': 1, '9741': 1, 'Colour': 1, '2х': 1, '2022R': 1, '2122R': 1, '100х100': 1, '1109038': 1, 'серо-зеленый': 1, '31004': 1, '13S': 1, 'SVB': 1, '1000H': 1, 'сердечко': 1, 'ДСГ55029146': 1, '4059': 1, 'индиго': 1, 'роуз': 1, 'исуповский': 1, 'казацкий': 1, 'легенда': 1, 'тарасенко': 1, '91': 1, 'минусинский': 1, '94': 1, 'юсуповский': 1, 'узбекский': 1, '86': 1, 'бычий': 1, 'нежинский': 1, 'герман': 1, 'есаул': 1, 'конни': 1, 'магнат': 1, 'клубок': 1, 'пряжа': 1, '5550': 1, 'гжель': 1, 'дракон': 1, 'земляничный': 1, 'суфле': 1, 'катенька': 1, 'катюша': 1, 'сито': 1, '7335': 1, 'бургундить': 1, 'Extension': 1, 'ваза': 1, 'G5541': 1, '1502124': 1, 'монако': 1, 'H5124': 1, '6040': 1, 'S300': 1, 'AFD020': 1, 'труднодоступный': 1, 'место': 1, 'R510075': 1, 'Festival': 1, '137x60': 1, '4738': 1, '3+': 1, 'Н3': 1, '6194': 1, 'душевая': 1, 'кабина': 1, '4819': 1, 'PICOBELLO': 1, 'strong': 1, '33': 1, '57030': 1, 'B0058R': 1, 'берлин': 1, '72008': 1, 'овощеварка': 1, '045': 1, '1502079': 1, 'нобилис': 1, '040': 1, 'блин': 1, '1503020': 1, 'картофель': 1, 'Proline': 1, '03032': 1, '5024': 1, '1518004': 1, 'Extra': 1, 'Fine': 1, 'специальный': 1, '40026': 1, 'фиц': 1, '25см': 1, 'G9547': 1, 'WILMAX': 1, 'WL': 1, '996004': 1, 'подсолнечник': 1, 'низкорослый': 1, 'СВК102': 1, 'прямой': 1, 'AHR141': 1, 'горный': 1, 'сосновский': 1, 'скворушка': 1, 'листовой': 1, 'бодрость': 1, 'D0503SE': 1, 'рейнбоу': 1, 'J5978': 1, 'узкий': 1, 'ЭТ2': 1, 'СТК2': 1, 'белогор': 1, 'Rotor': 1, 'TRENDY': 1, 'ACT033': 1, '1703019': 1, 'Avantgard': 1, '60х24': 1, '3х60': 1, '3013': 1, 'булка': 1, '12х11': 1, 'крокат': 1, 'индия': 1, 'зигзаг': 1, '6204': 1, 'медикамент': 1, 'отделение': 1, '30x22x12': 1, '4W': 1, '107': 1, 'биопорошок': 1, 'BONSAI': 1, 'концентрировать': 1, '4607974420573': 1, 'чистить': 1, 'крем': 1, 'трудновыводимый': 1, 'пятно': 1, 'Lemon': 1, 'stain': 1, 'remover': 1, 'индонезия': 1, '8998866106207': 1, 'сыпучий': 1, 'вкладка': 1, '0л': 1, '10МР': 1, '0001': 1, 'Aruba': 1, 'губка': 1, 'EH3599': 1, 'R105817': 1, '150x65': 1, 'MHE017': 1, '137х60х10': 1, '107H': 1, 'Tiki': 1, 'Neon': 1, 'Bloomtastic': 1, 'зефир': 1, 'арбузик': 1, 'арбузный': 1, 'бандед': 1, 'амазон': 1, 'графити': 1, 'дрова': 1, 'пушистый': 1, 'кабан': 1, '47': 1, 'мохнатый': 1, 'кейт': 1, 'танец': 1, 'смурфик': 1, 'галактика': 1, '79': 1, 'Bruschetta': 1, '4661': 1, 'J8130': 1, 'G0688': 1, '1712002': 1, 'подкроватный': 1, '80х40х15': 1, '28040': 1, 'АLPENKOK': 1, '6062S': 1, 'Love': 1, 'ATT101': 1, 'краник': 1, 'GRAPE': 1, 'ABS038': 1, 'ванилла': 1, 'противень': 1, '340х240х25': 1, '052': 1, '1503028': 1, 'M2880': 1, 'Юниор1': 1, '5х112см': 1, '1200006': 1, 'гигиенический': 1, 'впитывание': 1, 'антибактериальный': 1, '40000': 1, 'ильди': 1, 'Latex': 1, 'Free': 1, 'аллергия': 1, '40039': 1, 'ЭТП3': 1, 'з': 1, 'торх': 1, 'Aura': 1, 'Almira': 1, 'Crispa': 1, 'Эа': 1, 'кологна': 1, 'пастернак': 1, 'прострэйт': 1, 'крымский': 1, 'Hugo': 1, '1001951': 1, 'кашим': 1, 'G9324': 1, 'вкладыш': 1, 'cm': 1, 'MARMITON': 1, 'LG17056': 1, 'Мт': 1, '029': 1, '150х130': 1, 'WPLNY135': 1, 'зима': 1, 'тряпкодержатель': 1, 'крепление': 1, '1804015': 1, '8л': 1, '21008': 1, 'дачный': 1, 'канестрин': 1, 'лейс': 1, 'Waridi': 1, '0399': 1, '2В': 1, 'дождь': 1, '5951': 1, 'Э2П': 1, '24GL': 1, '28GL': 1, 'гипоаллергенный': 1, 'концентрированный': 1, 'VPK': 1, '8809473130144': 1, 'СБ2': 1, 'руно': 1, 'подмосковье': 1, 'фламинго': 1, 'челнок': 1, '21719': 1, 'пиано': 1, '6009': 1, '2506Кп': 1, '1506082': 1, 'J1762': 1, 'RS50': 1, '21560': 1, 'персия': 1, 'бордо': 1, '5606': 1, 'мя': 1, 'R206204': 1, '1404075': 1, '185х240': 1, 'WP184': 1, 'айленд': 1, 'WT355': 1, 'каучуковый': 1, 'P01': 1, 'нордик': 1, '380мл': 1, 'H8502': 1, '1002': 1, 'виниловый': 1, 'тисненый': 1, '137х182': 1, 'водонепроницаемый': 1, 'ТД5': 1, '0077': 1, 'блистер': 1, '2235': 1, 'кампануть': 1, 'двухцветный': 1, 'левка': 1, '1212': 1, 'ВНТ3': 1, 'мясорубка': 1, '1512016': 1, 'завертка': 1, 'форточный': 1, '1108287': 1, 'конек': 1, 'ТС': 1, '277': 1, 'Т33': 1, '4620757212370': 1, 'пена': 1, 'хвойный': 1, 'пихта': 1, '900': 1, '4620757212424': 1, 'персиковый': 1, '0831': 1, '1300': 1, '1506084': 1, '1404009': 1, '81570': 1, 'PEGASUS': 1, '87х157х55': 1, '520133': 1, 'поварской': 1, 'циркониевый': 1, 'ак': 1, '2062К': 1, 'ИЖ': 1, '1406003': 1, '755': 1, 'подошва': 1, 'самоочистка': 1, 'паровой': 1, 'удар': 1, '135х46': 1, 'ABT044': 1, 'яблоневый': 1, 'астраханский': 1, 'эфиопка': 1, 'Sintra': 1, '6039': 1, 'AMSTERDAM': 1, '40х30х24': 1, '04730': 1, 'M35': 1, '1209057': 1, 'слава': 1, 'универс': 1, '701402NG': 1, 'сирень': 1, '20GR': 1, '52002': 1, 'соломка': 1, '20135': 1, 'JET016': 1, 'plata': 1, '36х140': 1, 'шарик': 1, '1103068': 1, 'Great': 1, 'star': 1, 'грейта': 1, 'старый': 1, 'ободок': 1, 'дно': 1, 'ФТ': 1, '2рд': 1, 'Tuscan': 1, 'Wine': 1, '4660': 1, '821679': 1, '5700': 1, 'экран': 1, 'дуршлаг': 1, 'силикон': 1, '0341S': 1, 'ВП6с': 1, 'крассула': 1, 'оват': 1, 'Favori': 1, 'H8437': 1, '100х65': 1, 'MHL06': 1, 'чпа': 1, 'бутылка': 1, 'натуральный': 1, 'волокно': 1, '0473': 1, '0003': 1, 'R500028': 1, 'Haushalt': 1, 'grey': 1, '4666': 1, '1801095': 1, 'цинерания': 1, '4311001': 1, '37х58см': 1, 'ASB386': 1, 'пуансетия': 1, 'женский': 1, 'алина': 1, 'FOCUS': 1, '1014213': 1, 'TELEFIX': 1, 'TELEGANT': 1, '108266': 1, 'GP60': 1, 'гайлардий': 1, 'маяк': 1, 'монарда': 1, 'бергамо': 1, 'каролина': 1, 'рудбекия': 1, 'тайгер': 1, 'tortora': 1, '1401118': 1, 'Т30': 1, 'пуф': 1, 'пожарный': 1, 'машинка': 1, '55х26х31': 1, 'OT00285': 1, 'сотейник': 1, 'ХO': 1, '4L324242915201': 1, 'Bora': 1, 'N': 1, 'JET007': 1, 'Sfumature': 1, '4834': 1, '30х20': 1, '51316': 1, 'ST460': 1, 'шило': 1, 'утолщать': 1, '1205083': 1, '70х35': 1, '1ДСЖ1': 1, 'йот': 1, '67': 1, '0835': 1, '1600': 1, 'рязанский': 1, 'ксе': 1, '35348R': 1, 'рябина': 1, 'G96010': 1, 'кипарисовик': 1, 'лавсон': 1, 'элвуди': 1, 'ключница': 1, 'картина': 1, 'W': 1, '35х30': 1, 'AHS725': 1, 'дом': 1, 'утолщенный': 1, 'R105628': 1, '20734': 1, '4.5': 1, 'Shaggy': 1, '70х100см': 1, '603001': 1, '003': 1, 'пекин': 1, '95х17': 1, '5х16': 1, '72017': 1, 'пресс': 1, 'WESTERN': 1, 'AGW050': 1, 'FRAMAR': 1, 'MAJOR': 1, 'TECH': 1, '4126': 1, 'Simfony': 1, '1255': 1, 'одноуровневый': 1, 'эдельвейс': 1, 'барбекю': 1, 'Pino': 1, '63747': 1, 'FLY': 1, '1013539': 1, 'Grown': 1, '45х125': 1, 'хамедорей': 1, 'стол': 1, '30x45': 1, 'JAR500': 1, 'натура': 1, '6223': 1, 'колеус': 1, 'Multy': 1, 'Edition': 1, 'Feet': 1, 'механический': 1, 'рогатый': 1, 'высокорослый': 1, 'платикодон': 1, 'энотера': 1, 'миссурийский': 1, 'D3700': 1, 'прецизионный': 1, 'напильник': 1, 'двухкомпонентный': 1, 'Lijo': 1, '6x': 1, '15240': 1, 'Fuhcsia': 1, 'ярко-розовый': 1, 'маттиола': 1, 'ночной': 1, '4660010770506': 1, 'TRIO': 1, '0706': 1, 'фоторамка': 1, 'фотография': 1, '43х42': 1, 'С31': 1, '017': 1, 'орехоколок': 1, 'VIVA': 1, 'ATV600': 1, '520124': 1, '140х58': 1, '214': 1, 'RP200': 1, 'ваниль': 1, 'AHM751': 1, 'лузеан': 1, '04009A': 1, '426беж': 1, 'надверный': 1, 'нота': 1, 'ВНД': 1, '310': 1, 'Jean': 1, 'Green': 1, '107х30': 1, '5030': 1, '500603': 1, '48х8': 1, 'космо': 1, 'G110AT3W': 1, 'G110L03W': 1, 'Mаrylin': 1, 'Monroe': 1, 'MagicStop': 1, '3x1': 1, 'сушка': 1, '2289': 1, '45х75см': 1, 'рельефный': 1, 'Welcome': 1, 'CR005': 1, '11х9': 1, 'Ц99h110v080': 1, '01339': 1, 'H3386': 1, 'J2402': 1, 'J2397': 1, 'гиностемма': 1, '350х175': 1, 'MLO357': 1, 'девичий': 1, 'пятилисточковый': 1, 'крым': 1, 'мускарь': 1, 'пьезозажигалка': 1, 'мультиискра': 1, 'ТД1': 1, '005В': 1, 'волна': 1, '52000': 1, 'калибрахоя': 1, 'Snowberry': 1, 'Splash': 1, 'раскрытый': 1, 'пористый': 1, 'D022': 1, 'L5079': 1, 'закрывать': 1, '55х110': 1, 'С03': 1, 'дабла': 1, 'делайт': 1, 'лампион': 1, 'черри': 1, 'бренди': 1, 'август': 1, 'луиза': 1, 'вальс': 1, 'татьяна': 1, 'хоня': 1, 'суприма': 1, '4650091480227': 1, 'фаворит': 1, '4660010773323': 1, '4660010770520': 1, '11600': 1, 'хелло': 1, 'китти': 1, 'H5479': 1, 'Level': 1, 'мисс': 1, 'джесоп': 1, '048': 1, 'JEA021': 1, 'rojo': 1, 'Convert': 1, 'рондо': 1, 'G8494': 1, 'китай': 1, 'ROSETTE': 1, 'ADR131': 1, 'ADM125': 1, 'СТП2': 1, 'манго': 1, 'камилла': 1, 'инж': 1, '224414': 1, '1404076': 1, 'WOODEN': 1, 'ABB017': 1, 'H3557': 1, 'H3556': 1, 'H3558': 1, 'брюссельский': 1, 'зонтик': 1, 'OTS161560': 1, '005': 1, '214х150': 1, 'RQ150': 1, 'кармен': 1, '1404022': 1, 'Н11': 1, 'реванш': 1, 'гарантия': 1, 'россиянка': 1, 'ведерко': 1, 'мыльница': 1, 'М2221': 1, '1702010': 1, 'FLEXINETT': 1, ' + ': 1, 'R212585': 1, 'сантехнический': 1, 'антикальций': 1, '4660015923266': 1, 'СВWeddel': 1, 'ПЦ2211ЛМ': 1, 'паровыпускной': 1, 'клапан': 1, '48х23': 1, 'VAL': 1, '7057gc': 1, 'Factotum': 1, 'STEEL': 1, 'ABS017': 1, 'AG': 1, '40х40': 1, 'WR44T': 1, 'Modular': 1, 'Silver': 1, '60х140х10': 1, '701403AG': 1, 'Pickwick': 1, \"'\": 1, 'CADESI': 1, 'HURREM': 1, '50х60': 1, 'вырез': 1, '315602': 1, 'вельсофт': 1, 'вышивка': 1, 'DAMASK': 1, '200x220': 1, '9234567038126': 1, 'мотив': 1, '2252D': 1, 'бутылочный': 1, 'Y64': 1, '1807002': 1, 'BELLA': 1, 'ST387': 1, 'мангольд': 1, 'найф': 1, 'ранний': 1, 'малахит': 1, 'Shadow': 1, '001': 1, 'A4': 1, '00778': 1, 'R213414': 1, 'разборный': 1, '57575': 1, '1804050': 1, 'Cotton': 1, 'защелка': 1, '72322': 1, '171': 1, 'WH': 1, '5785': 1, 'Beach': 1, 'and': 1, 'Bubbles': 1, '130x45': 1, '71596': 1, 'герметичный': 1, '092': 1, 'дымчатый': 1, 'R181900': 1, 'цветочный': 1, 'ливия': 1, 'M3140': 1, 'OASIS': 1, 'DM9634': 1, 'приготовление': 1, 'глазунья': 1, 'C452': 1, 'Ф13': 1, '005L': 1, '1606': 1, '1205156': 1, 'AGB110': 1, 'прорезь': 1, 'AGB111': 1, '235': 1, 'касабланка': 1, '51258B': 1, 'шампанский': 1, 'френч': 1, 'брассери': 1, '170мл': 1, 'H9452': 1, 'гармония': 1, '335': 1, '32х70': 1, '4630005362832': 1, 'салфетница': 1, 'хромированный': 1, '0293': 1, 'лабиринт': 1, 'напиток': 1, '05с1262': 1, 'TD2': 1, 'TD3': 1, '427беж': 1, '1гр': 1, '66161': 1, 'G300A03W': 1, 'черый': 1, '3649': 1, '1404088': 1, 'Dry': 1, '55237': 1, '1201031': 1, 'Metro': 1, '5910': 1, 'синнингия': 1, 'скраб': 1, 'мочалка': 1, 'люфа': 1, 'мандала': 1, 'около': 1, 'H2776': 1, 'импатиенс': 1, 'нью': 1, 'гвинея': 1, '1712010': 1, 'h25': 1, '12х6': 1, '8х1': 1, '5275': 1, '64х38': 1, 'элий': 1, '40x60': 1, 'РР105': 1, '01001': 1, 'император': 1, '06707': 1, 'E5181': 1, 'виски': 1, 'карат': 1, '52885В': 1, 'липучка': 1, '1210035': 1, 'тб': 1, '1210036': 1, 'ушко': 1, 'домик': 1, '1205251': 1, 'Mickey': 1, '4811': 1, 'валентина': 1, 'юник': 1, 'Ecuatorian': 1, 'кондиционер': 1, 'Sandokkaebi': 1, 'Soft': 1, 'Aroma': 1, 'Aqua': 1, 'свежесть': 1, 'флакон': 1, '2100': 1, '8801353': 1, '003494': 1, 'G60': 1, 'Y': 1, 'G': 1, 'CR30': 1, 'TZ90': 1, 'дампьер': 1, '260': 1, 'H7939': 1, 'алфавит': 1, '301о': 1, 'Max': 1, '&': 1, '4х': 1, '2024': 1, '2124': 1, 'радиаторный': 1, '1807007': 1, '4343': 1, 'пикассо': 1, '5л': 1, 'ABM105': 1, '5567': 1, 'L5078': 1, '180х150': 1, 'WTO185': 1, 'Ампельнвя': 1, 'ВПТ11б': 1, '299': 1, 'ч': 1, 'фита': 1, '315': 1, '34х35': 1, '4630005367202': 1, '041': 1, '1502076': 1, 'радермахер': 1, 'хризолидокарпус': 1, 'лутесценс': 1, 'юкка': 1, 'нитчатый': 1, '1110137': 1, 'мусорный': 1, 'ProfiLine': 1, 'SoLid': 1, '0514': 1, '089': 1, 'стимул': 1, 'кучерявец': 1, 'гамбург': 1, '2шт': 1, '500мл': 1, 'H5072': 1, 'сувенир': 1, 'H2783': 1, 'форест': 1, 'H7239': 1, '339': 1, 'Village': 1, 'Street': 1, '50х107': 1, '4663': 1, 'эл': 1, ') , ': 1, '1201013': 1, 'имитация': 1, 'ракушка': 1, '5923': 1, 'корзинка': 1, '4.4': 1, '15537': 1, 'Mats': 1, '5079': 1, 'Dama': 1, '3655': 1, 'текстильная180х200': 1, '3003': 1, 'СБ8Б': 1, 'двухуровневый': 1, 'фиорино': 1, '265': 1, 'g': 1, 'm2': 1, '2000000168616': 1, '1.2': 1, 'ками': 1, 'груп': 1, '1201104': 1, 'фикус': 1, 'каучуконосный': 1, 'эластик': 1, 'абиджан': 1, '1329': 1, 'Confetti': 1, 'Mysweetheart': 1, '1110212': 1, '4302': 1, '301': 1, 'LivingStep': 1, 'PLus': 1, '3.2': 1, '15552': 1, 'основание': 1, '1601164': 1, 'НД': 1, 'Hermes': 1, 'De': 1, 'Luxe': 1, '010C': 1, 'БК2': 1, 'офелия': 1, '50х80см': 1, 'NTBM50804050': 1, '5755': 1, 'артемизия': 1, 'полынь': 1, 'горький': 1, 'ванда': 1, '6001': 1, 'пароварка': 1, '1810064': 1, '5885': 1, 'РР114': 1, '01019': 1, 'лунный': 1, 'свет': 1, '4660010779660': 1, 'орхидный': 1, '4650091480692': 1, 'Briz': 1, 'СН': 1, 'СК80': 1, 'складываться': 1, 'H4702': 1, 'Solo': 1, 'light': 1, '35х115': 1, '2151': 1, '36х36х30': 1, '4c': 1, '701003CB': 1, '105': 1, 'венчик': 1, 'хохломской': 1, 'роспись': 1, '1522013': 1, 'DERBY': 1, 'ASS305': 1, 'валик': 1, 'ВММ': 1, 'мех': 1, '0703011': 1, 'ATLAS': 1, '120X200': 1, '4005719': 1, 'Bambus': 1, '1042057': 1, 'CALMA': 1, 'киви': 1, '1014468': 1, 'Fabrikators': 1, 'KO2PU': 1, 'ода': 1, 'G0707': 1, 'муррайя': 1, 'тортница': 1, '00416': 1, '7х30': 1, '6х72': 1, '03977': 1, '856': 1, 'красота': 1, 'бело-розовый': 1, 'Prato': 1, '6029': 1, 'крепеж': 1, 'пружина': 1, 'дверной': 1, '1107055': 1, 'хлеб': 1, 'кусок': 1, '13х10': 1, '6226': 1, 'ia': 1, '5173': 1, 'LTd': 1, 'J2132': 1, 'FREUDENBERG': 1, 'Varadero': 1, 'silver': 1, 'A4P': 1, '7218': 1, '5570': 1, '343': 1, 'ETNA': 1, 'SHINY': 1, '5х9': 1, '1016116': 1, '\\n': 1})\n"
     ]
    }
   ],
   "source": [
    "from pymystem3 import Mystem\n",
    "m = Mystem()\n",
    "\n",
    "from collections import Counter\n",
    "\n",
    "purposes = ' '.join(data_avg_order_less_5000['product'].unique()) #лемматизируем, создаем список уникальных слов, считаем их количество\n",
    "result = m.lemmatize(purposes)\n",
    "lemmas_result = Counter(result)\n",
    "print(lemmas_result)"
   ]
  },
  {
   "cell_type": "code",
   "execution_count": 61,
   "metadata": {},
   "outputs": [],
   "source": [
    "classification_dict = {\n",
    "    'Уход за одеждой и обувью': ['белье', 'доска' ],  # итд все товары категории\n",
    "    'Искусственные цветы и муляжи': ['муляж', 'искусственный'], \n",
    "    'Цветы': ['d', 'пеларгония', 'растение', 'диам', 'горшок', 'цветок', 'петуния'],\n",
    "    'Рассада': ['рассада', 'томат'],\n",
    "    'Тележки': ['тележка', 'сумка'],\n",
    "    'Посуда': ['тарелка', 'Luminarc', 'ложка', 'вилка', 'контейнер'],\n",
    "    'Товары для дома': ['коврик', 'ванный', 'кухня', 'пластмассовый', 'пластиковый', 'таз', 'Leifheit'],\n",
    "    'Текстиль': ['хлопок', 'скатерть'],\n",
    "    'Стремянки': ['стремянка']\n",
    "\n",
    "    # итд все категории\n",
    "}"
   ]
  },
  {
   "cell_type": "code",
   "execution_count": 62,
   "metadata": {
    "scrolled": true
   },
   "outputs": [
    {
     "name": "stdout",
     "output_type": "stream",
     "text": [
      "Цветы                           1575\n",
      "другое                           756\n",
      "Уход за одеждой и обувью         464\n",
      "Товары для дома                  283\n",
      "Тележки                          282\n",
      "Искусственные цветы и муляжи     270\n",
      "Рассада                          240\n",
      "Посуда                           125\n",
      "Текстиль                          50\n",
      "Стремянки                         36\n",
      "Name: product_class, dtype: int64\n"
     ]
    }
   ],
   "source": [
    "def lemma(query):                    \n",
    "    lemmas = m.lemmatize(query) \n",
    "    return lemmas\n",
    " \n",
    "data_avg_order_less_5000['lemma_product'] = data_avg_order_less_5000['product'].apply(lemma) #записываем леммы в новый столбец\n",
    "\n",
    "def classify(product):\n",
    "    \"\"\"Классификация названия продукта product по категориям словаря classification_dict\"\"\"\n",
    "    for category, items_list in classification_dict.items():\n",
    "        for item in items_list:\n",
    "            if item in product:\n",
    "                return category\n",
    "    \n",
    "    return 'другое'\n",
    "\n",
    "data_avg_order_less_5000['product_class'] = data_avg_order_less_5000['lemma_product'].apply(classify) #делим цели на 5 классов\n",
    "\n",
    "print(data_avg_order_less_5000['product_class'].value_counts())"
   ]
  },
  {
   "cell_type": "markdown",
   "metadata": {},
   "source": [
    "Сводная таблица по категориям товаров"
   ]
  },
  {
   "cell_type": "code",
   "execution_count": 63,
   "metadata": {},
   "outputs": [
    {
     "data": {
      "text/html": [
       "<div>\n",
       "<style scoped>\n",
       "    .dataframe tbody tr th:only-of-type {\n",
       "        vertical-align: middle;\n",
       "    }\n",
       "\n",
       "    .dataframe tbody tr th {\n",
       "        vertical-align: top;\n",
       "    }\n",
       "\n",
       "    .dataframe thead tr th {\n",
       "        text-align: left;\n",
       "    }\n",
       "</style>\n",
       "<table border=\"1\" class=\"dataframe\">\n",
       "  <thead>\n",
       "    <tr>\n",
       "      <th></th>\n",
       "      <th>product_class</th>\n",
       "      <th>customer_id</th>\n",
       "      <th>order_id</th>\n",
       "      <th>quantity</th>\n",
       "      <th>price</th>\n",
       "      <th>products_in_order</th>\n",
       "      <th>orders_by_customer</th>\n",
       "      <th>avg_order</th>\n",
       "    </tr>\n",
       "    <tr>\n",
       "      <th></th>\n",
       "      <th></th>\n",
       "      <th>nunique</th>\n",
       "      <th>nunique</th>\n",
       "      <th>mean</th>\n",
       "      <th>mean</th>\n",
       "      <th>mean</th>\n",
       "      <th>mean</th>\n",
       "      <th>mean</th>\n",
       "    </tr>\n",
       "  </thead>\n",
       "  <tbody>\n",
       "    <tr>\n",
       "      <td>0</td>\n",
       "      <td>Искусственные цветы и муляжи</td>\n",
       "      <td>175</td>\n",
       "      <td>183</td>\n",
       "      <td>6.670370</td>\n",
       "      <td>63.644444</td>\n",
       "      <td>5.107407</td>\n",
       "      <td>1.137037</td>\n",
       "      <td>437.911111</td>\n",
       "    </tr>\n",
       "    <tr>\n",
       "      <td>1</td>\n",
       "      <td>Посуда</td>\n",
       "      <td>93</td>\n",
       "      <td>98</td>\n",
       "      <td>4.128000</td>\n",
       "      <td>278.528000</td>\n",
       "      <td>3.192000</td>\n",
       "      <td>1.200000</td>\n",
       "      <td>607.704000</td>\n",
       "    </tr>\n",
       "    <tr>\n",
       "      <td>2</td>\n",
       "      <td>Рассада</td>\n",
       "      <td>60</td>\n",
       "      <td>67</td>\n",
       "      <td>1.495833</td>\n",
       "      <td>110.254167</td>\n",
       "      <td>8.825000</td>\n",
       "      <td>1.458333</td>\n",
       "      <td>872.041667</td>\n",
       "    </tr>\n",
       "    <tr>\n",
       "      <td>3</td>\n",
       "      <td>Стремянки</td>\n",
       "      <td>34</td>\n",
       "      <td>35</td>\n",
       "      <td>1.027778</td>\n",
       "      <td>2048.027778</td>\n",
       "      <td>1.277778</td>\n",
       "      <td>1.055556</td>\n",
       "      <td>2274.444444</td>\n",
       "    </tr>\n",
       "    <tr>\n",
       "      <td>4</td>\n",
       "      <td>Текстиль</td>\n",
       "      <td>47</td>\n",
       "      <td>49</td>\n",
       "      <td>3.020000</td>\n",
       "      <td>868.340000</td>\n",
       "      <td>2.080000</td>\n",
       "      <td>1.200000</td>\n",
       "      <td>1052.660000</td>\n",
       "    </tr>\n",
       "    <tr>\n",
       "      <td>5</td>\n",
       "      <td>Тележки</td>\n",
       "      <td>269</td>\n",
       "      <td>278</td>\n",
       "      <td>1.219858</td>\n",
       "      <td>1455.765957</td>\n",
       "      <td>1.134752</td>\n",
       "      <td>1.117021</td>\n",
       "      <td>1582.975177</td>\n",
       "    </tr>\n",
       "    <tr>\n",
       "      <td>6</td>\n",
       "      <td>Товары для дома</td>\n",
       "      <td>251</td>\n",
       "      <td>264</td>\n",
       "      <td>2.385159</td>\n",
       "      <td>691.632509</td>\n",
       "      <td>1.840989</td>\n",
       "      <td>1.183746</td>\n",
       "      <td>908.639576</td>\n",
       "    </tr>\n",
       "    <tr>\n",
       "      <td>7</td>\n",
       "      <td>Уход за одеждой и обувью</td>\n",
       "      <td>438</td>\n",
       "      <td>447</td>\n",
       "      <td>1.137931</td>\n",
       "      <td>995.592672</td>\n",
       "      <td>1.224138</td>\n",
       "      <td>1.084052</td>\n",
       "      <td>1132.340517</td>\n",
       "    </tr>\n",
       "    <tr>\n",
       "      <td>8</td>\n",
       "      <td>Цветы</td>\n",
       "      <td>610</td>\n",
       "      <td>668</td>\n",
       "      <td>1.522540</td>\n",
       "      <td>170.666032</td>\n",
       "      <td>6.155556</td>\n",
       "      <td>1.291429</td>\n",
       "      <td>873.252063</td>\n",
       "    </tr>\n",
       "    <tr>\n",
       "      <td>9</td>\n",
       "      <td>другое</td>\n",
       "      <td>535</td>\n",
       "      <td>550</td>\n",
       "      <td>3.428571</td>\n",
       "      <td>450.630952</td>\n",
       "      <td>4.190476</td>\n",
       "      <td>1.156085</td>\n",
       "      <td>890.138889</td>\n",
       "    </tr>\n",
       "  </tbody>\n",
       "</table>\n",
       "</div>"
      ],
      "text/plain": [
       "                  product_class customer_id order_id  quantity        price  \\\n",
       "                                    nunique  nunique      mean         mean   \n",
       "0  Искусственные цветы и муляжи         175      183  6.670370    63.644444   \n",
       "1                        Посуда          93       98  4.128000   278.528000   \n",
       "2                       Рассада          60       67  1.495833   110.254167   \n",
       "3                     Стремянки          34       35  1.027778  2048.027778   \n",
       "4                      Текстиль          47       49  3.020000   868.340000   \n",
       "5                       Тележки         269      278  1.219858  1455.765957   \n",
       "6               Товары для дома         251      264  2.385159   691.632509   \n",
       "7      Уход за одеждой и обувью         438      447  1.137931   995.592672   \n",
       "8                         Цветы         610      668  1.522540   170.666032   \n",
       "9                        другое         535      550  3.428571   450.630952   \n",
       "\n",
       "  products_in_order orders_by_customer    avg_order  \n",
       "               mean               mean         mean  \n",
       "0          5.107407           1.137037   437.911111  \n",
       "1          3.192000           1.200000   607.704000  \n",
       "2          8.825000           1.458333   872.041667  \n",
       "3          1.277778           1.055556  2274.444444  \n",
       "4          2.080000           1.200000  1052.660000  \n",
       "5          1.134752           1.117021  1582.975177  \n",
       "6          1.840989           1.183746   908.639576  \n",
       "7          1.224138           1.084052  1132.340517  \n",
       "8          6.155556           1.291429   873.252063  \n",
       "9          4.190476           1.156085   890.138889  "
      ]
     },
     "execution_count": 63,
     "metadata": {},
     "output_type": "execute_result"
    }
   ],
   "source": [
    "data_product_class = (data_avg_order_less_5000.groupby(['product_class'])\n",
    ".agg({'customer_id': ['nunique'], 'order_id': ['nunique'],\\\n",
    "      'quantity': ['mean'], 'price': ['mean'], 'products_in_order': ['mean'],\\\n",
    "      'orders_by_customer': ['mean'], 'avg_order': ['mean']})\n",
    ".reset_index())\n",
    "data_product_class"
   ]
  },
  {
   "cell_type": "code",
   "execution_count": 64,
   "metadata": {
    "scrolled": false
   },
   "outputs": [
    {
     "data": {
      "image/png": "[encoded data removed]",
      "text/plain": [
       "<Figure size 600x600 with 2 Axes>"
      ]
     },
     "metadata": {
      "needs_background": "light"
     },
     "output_type": "display_data"
    }
   ],
   "source": [
    "# корреляционная матрица\n",
    "corr_m = data_avg_order_less_5000.corr() \n",
    "\n",
    "# нарисуем heatmap\n",
    "\n",
    "plt.figure(figsize = (6,6), dpi=100)\n",
    "sns.heatmap(corr_m, square = True, annot = True)\n",
    "plt.title('Матрица корреляции признаков')\n",
    "plt.show()"
   ]
  },
  {
   "cell_type": "markdown",
   "metadata": {},
   "source": [
    "Высокую корреляцию имеют цена товара и средний чек."
   ]
  },
  {
   "cell_type": "code",
   "execution_count": 65,
   "metadata": {},
   "outputs": [
    {
     "data": {
      "text/plain": [
       "(4081, 6)"
      ]
     },
     "execution_count": 65,
     "metadata": {},
     "output_type": "execute_result"
    }
   ],
   "source": [
    "data_kmeans = (data_avg_order_less_5000\n",
    "               .drop(columns=['date', 'date_day', 'customer_id', 'product', 'lemma_product', 'product_class']))\n",
    "\n",
    "data_kmeans.shape"
   ]
  },
  {
   "cell_type": "markdown",
   "metadata": {},
   "source": [
    "### Кластеризация <a class=\"anchor\" id=\"15-bullet\"></a>\n",
    "👈[назад к оглавлению](#0-bullet)"
   ]
  },
  {
   "cell_type": "code",
   "execution_count": 66,
   "metadata": {},
   "outputs": [
    {
     "data": {
      "text/html": [
       "<div>\n",
       "<style scoped>\n",
       "    .dataframe tbody tr th:only-of-type {\n",
       "        vertical-align: middle;\n",
       "    }\n",
       "\n",
       "    .dataframe tbody tr th {\n",
       "        vertical-align: top;\n",
       "    }\n",
       "\n",
       "    .dataframe thead th {\n",
       "        text-align: right;\n",
       "    }\n",
       "</style>\n",
       "<table border=\"1\" class=\"dataframe\">\n",
       "  <thead>\n",
       "    <tr style=\"text-align: right;\">\n",
       "      <th></th>\n",
       "      <th>order_id</th>\n",
       "      <th>quantity</th>\n",
       "      <th>price</th>\n",
       "      <th>products_in_order</th>\n",
       "      <th>orders_by_customer</th>\n",
       "      <th>avg_order</th>\n",
       "    </tr>\n",
       "    <tr>\n",
       "      <th>cluster</th>\n",
       "      <th></th>\n",
       "      <th></th>\n",
       "      <th></th>\n",
       "      <th></th>\n",
       "      <th></th>\n",
       "      <th></th>\n",
       "    </tr>\n",
       "  </thead>\n",
       "  <tbody>\n",
       "    <tr>\n",
       "      <td>0</td>\n",
       "      <td>19868.788295</td>\n",
       "      <td>1.356936</td>\n",
       "      <td>131.552023</td>\n",
       "      <td>9.364884</td>\n",
       "      <td>1.098266</td>\n",
       "      <td>1160.161127</td>\n",
       "    </tr>\n",
       "    <tr>\n",
       "      <td>1</td>\n",
       "      <td>70495.948384</td>\n",
       "      <td>2.007299</td>\n",
       "      <td>376.715328</td>\n",
       "      <td>1.650156</td>\n",
       "      <td>1.110010</td>\n",
       "      <td>499.880605</td>\n",
       "    </tr>\n",
       "    <tr>\n",
       "      <td>2</td>\n",
       "      <td>70651.194313</td>\n",
       "      <td>1.075829</td>\n",
       "      <td>2169.781991</td>\n",
       "      <td>1.350711</td>\n",
       "      <td>1.078199</td>\n",
       "      <td>2512.241706</td>\n",
       "    </tr>\n",
       "    <tr>\n",
       "      <td>3</td>\n",
       "      <td>24463.402174</td>\n",
       "      <td>1.949275</td>\n",
       "      <td>158.536232</td>\n",
       "      <td>5.398551</td>\n",
       "      <td>2.797101</td>\n",
       "      <td>635.289855</td>\n",
       "    </tr>\n",
       "    <tr>\n",
       "      <td>4</td>\n",
       "      <td>68776.975309</td>\n",
       "      <td>33.098765</td>\n",
       "      <td>114.617284</td>\n",
       "      <td>1.629630</td>\n",
       "      <td>1.111111</td>\n",
       "      <td>189.246914</td>\n",
       "    </tr>\n",
       "  </tbody>\n",
       "</table>\n",
       "</div>"
      ],
      "text/plain": [
       "             order_id   quantity        price  products_in_order  \\\n",
       "cluster                                                            \n",
       "0        19868.788295   1.356936   131.552023           9.364884   \n",
       "1        70495.948384   2.007299   376.715328           1.650156   \n",
       "2        70651.194313   1.075829  2169.781991           1.350711   \n",
       "3        24463.402174   1.949275   158.536232           5.398551   \n",
       "4        68776.975309  33.098765   114.617284           1.629630   \n",
       "\n",
       "         orders_by_customer    avg_order  \n",
       "cluster                                   \n",
       "0                  1.098266  1160.161127  \n",
       "1                  1.110010   499.880605  \n",
       "2                  1.078199  2512.241706  \n",
       "3                  2.797101   635.289855  \n",
       "4                  1.111111   189.246914  "
      ]
     },
     "metadata": {},
     "output_type": "display_data"
    },
    {
     "data": {
      "image/png": "[encoded data removed]",
      "text/plain": [
       "<Figure size 720x720 with 1 Axes>"
      ]
     },
     "metadata": {
      "needs_background": "light"
     },
     "output_type": "display_data"
    },
    {
     "data": {
      "image/png": "[encoded data removed]",
      "text/plain": [
       "<Figure size 720x720 with 1 Axes>"
      ]
     },
     "metadata": {
      "needs_background": "light"
     },
     "output_type": "display_data"
    }
   ],
   "source": [
    "# определим функцию отрисовки графиков попарных признаков для кластеров\n",
    "def show_clusters_on_plot(df, x_name,y_name, cluster_name):\n",
    "    fig = plt.figure(figsize = (10,10))\n",
    "    \n",
    "    \n",
    "    #plt.figure(figsize = (10,10))\n",
    "    sns.scatterplot(df[x_name], df[y_name],\n",
    "           hue = df[cluster_name], palette = 'Paired'\n",
    "       )\n",
    "    plt.title('{} vs {}'.format(x_name, y_name))\n",
    "    fig.savefig('{} vs {}'.format(x_name, y_name), dpi=200)\n",
    "    \n",
    "    plt.show()\n",
    "    \n",
    "# стандартизируем данные\n",
    "sc = StandardScaler()\n",
    "x_sc = sc.fit_transform(data_kmeans)\n",
    " \n",
    "# задаём модель k_means с числом кластеров 5\n",
    "km = KMeans(n_clusters = 5)\n",
    "# прогнозируем кластеры для наблюдений (алгоритм присваивает им номера от 0 до 4)\n",
    "labels = km.fit_predict(x_sc)\n",
    "\n",
    "# сохраняем метки кластера в поле датасета\n",
    "data_kmeans['cluster'] = labels\n",
    " \n",
    "# выводим статистику по средним значениям признаков по кластеру\n",
    "display(data_kmeans.groupby(['cluster']).mean())\n",
    " \n",
    "# отрисуем графики для пары признаков \n",
    "show_clusters_on_plot(data_kmeans, 'quantity', 'price', 'cluster')\n",
    " \n",
    "# отрисуем графики для пары признаков \n",
    "show_clusters_on_plot(data_kmeans, 'products_in_order', 'avg_order', 'cluster')"
   ]
  },
  {
   "cell_type": "code",
   "execution_count": 67,
   "metadata": {
    "scrolled": false
   },
   "outputs": [
    {
     "data": {
      "image/png": "[encoded data removed]",
      "text/plain": [
       "<Figure size 432x288 with 1 Axes>"
      ]
     },
     "metadata": {
      "needs_background": "light"
     },
     "output_type": "display_data"
    },
    {
     "data": {
      "image/png": "[encoded data removed]",
      "text/plain": [
       "<Figure size 432x288 with 1 Axes>"
      ]
     },
     "metadata": {
      "needs_background": "light"
     },
     "output_type": "display_data"
    },
    {
     "data": {
      "image/png": "[encoded data removed]",
      "text/plain": [
       "<Figure size 432x288 with 1 Axes>"
      ]
     },
     "metadata": {
      "needs_background": "light"
     },
     "output_type": "display_data"
    },
    {
     "data": {
      "image/png": "[encoded data removed]",
      "text/plain": [
       "<Figure size 432x288 with 1 Axes>"
      ]
     },
     "metadata": {
      "needs_background": "light"
     },
     "output_type": "display_data"
    },
    {
     "data": {
      "image/png": "[encoded data removed]",
      "text/plain": [
       "<Figure size 432x288 with 1 Axes>"
      ]
     },
     "metadata": {
      "needs_background": "light"
     },
     "output_type": "display_data"
    }
   ],
   "source": [
    "def show_clusters_on_boxplot(df, col, cluster):\n",
    "    \n",
    "    fig = plt.figure()\n",
    "\n",
    "    #fig, ax = plt.subplots()\n",
    "    sns.boxplot(x=cluster, y=col, data=df, notch=False)\n",
    "\n",
    "\n",
    "    #ax = df.boxplot(column = col, by=cluster)\n",
    "    #ax.set_title('{}'.format(col))\n",
    "\n",
    "    \n",
    "    plt.title('{}'.format(col))\n",
    "    fig.savefig(col, dpi=200)\n",
    "\n",
    "    plt.show()\n",
    "    \n",
    "# отрисуем графики\n",
    "show_clusters_on_boxplot(data_kmeans, 'quantity', 'cluster')    \n",
    "\n",
    "# отрисуем графики \n",
    "show_clusters_on_boxplot(data_kmeans, 'price', 'cluster')\n",
    "\n",
    "# отрисуем графики \n",
    "show_clusters_on_boxplot(data_kmeans, 'products_in_order', 'cluster')\n",
    "\n",
    "# отрисуем графики \n",
    "show_clusters_on_boxplot(data_kmeans, 'orders_by_customer', 'cluster')\n",
    "\n",
    "# отрисуем графики \n",
    "show_clusters_on_boxplot(data_kmeans, 'avg_order', 'cluster')"
   ]
  },
  {
   "cell_type": "code",
   "execution_count": 68,
   "metadata": {},
   "outputs": [],
   "source": [
    "data_total = data_avg_order_less_5000.merge(data_kmeans[['order_id', 'cluster']], on=('order_id'))"
   ]
  },
  {
   "cell_type": "markdown",
   "metadata": {},
   "source": [
    "### Сводная таблица по категориям товаров и кластерам <a class=\"anchor\" id=\"16-bullet\"></a>\n",
    "👈[назад к оглавлению](#0-bullet)"
   ]
  },
  {
   "cell_type": "code",
   "execution_count": 69,
   "metadata": {},
   "outputs": [
    {
     "data": {
      "text/html": [
       "<div>\n",
       "<style scoped>\n",
       "    .dataframe tbody tr th:only-of-type {\n",
       "        vertical-align: middle;\n",
       "    }\n",
       "\n",
       "    .dataframe tbody tr th {\n",
       "        vertical-align: top;\n",
       "    }\n",
       "\n",
       "    .dataframe thead th {\n",
       "        text-align: right;\n",
       "    }\n",
       "</style>\n",
       "<table border=\"1\" class=\"dataframe\">\n",
       "  <thead>\n",
       "    <tr style=\"text-align: right;\">\n",
       "      <th></th>\n",
       "      <th>product_class</th>\n",
       "      <th>cluster</th>\n",
       "      <th>customer_id</th>\n",
       "      <th>order_id</th>\n",
       "      <th>quantity</th>\n",
       "      <th>price</th>\n",
       "      <th>products_in_order</th>\n",
       "      <th>orders_by_customer</th>\n",
       "      <th>avg_order</th>\n",
       "    </tr>\n",
       "  </thead>\n",
       "  <tbody>\n",
       "    <tr>\n",
       "      <td>0</td>\n",
       "      <td>Искусственные цветы и муляжи</td>\n",
       "      <td>0</td>\n",
       "      <td>5</td>\n",
       "      <td>5</td>\n",
       "      <td>1.569427</td>\n",
       "      <td>87.192357</td>\n",
       "      <td>14.963057</td>\n",
       "      <td>1.000000</td>\n",
       "      <td>1468.141401</td>\n",
       "    </tr>\n",
       "    <tr>\n",
       "      <td>1</td>\n",
       "      <td>Искусственные цветы и муляжи</td>\n",
       "      <td>1</td>\n",
       "      <td>143</td>\n",
       "      <td>148</td>\n",
       "      <td>2.768844</td>\n",
       "      <td>55.515075</td>\n",
       "      <td>6.482412</td>\n",
       "      <td>1.055276</td>\n",
       "      <td>344.447236</td>\n",
       "    </tr>\n",
       "    <tr>\n",
       "      <td>2</td>\n",
       "      <td>Искусственные цветы и муляжи</td>\n",
       "      <td>2</td>\n",
       "      <td>1</td>\n",
       "      <td>1</td>\n",
       "      <td>3.100000</td>\n",
       "      <td>114.800000</td>\n",
       "      <td>11.000000</td>\n",
       "      <td>1.000000</td>\n",
       "      <td>3097.000000</td>\n",
       "    </tr>\n",
       "    <tr>\n",
       "      <td>3</td>\n",
       "      <td>Искусственные цветы и муляжи</td>\n",
       "      <td>3</td>\n",
       "      <td>3</td>\n",
       "      <td>8</td>\n",
       "      <td>8.625000</td>\n",
       "      <td>22.250000</td>\n",
       "      <td>1.000000</td>\n",
       "      <td>3.000000</td>\n",
       "      <td>22.250000</td>\n",
       "    </tr>\n",
       "    <tr>\n",
       "      <td>4</td>\n",
       "      <td>Искусственные цветы и муляжи</td>\n",
       "      <td>4</td>\n",
       "      <td>26</td>\n",
       "      <td>23</td>\n",
       "      <td>35.414634</td>\n",
       "      <td>46.829268</td>\n",
       "      <td>2.317073</td>\n",
       "      <td>1.024390</td>\n",
       "      <td>122.439024</td>\n",
       "    </tr>\n",
       "    <tr>\n",
       "      <td>5</td>\n",
       "      <td>Посуда</td>\n",
       "      <td>0</td>\n",
       "      <td>2</td>\n",
       "      <td>2</td>\n",
       "      <td>1.000000</td>\n",
       "      <td>241.224806</td>\n",
       "      <td>16.534884</td>\n",
       "      <td>1.000000</td>\n",
       "      <td>1882.093023</td>\n",
       "    </tr>\n",
       "    <tr>\n",
       "      <td>6</td>\n",
       "      <td>Посуда</td>\n",
       "      <td>1</td>\n",
       "      <td>81</td>\n",
       "      <td>84</td>\n",
       "      <td>2.583732</td>\n",
       "      <td>157.382775</td>\n",
       "      <td>4.904306</td>\n",
       "      <td>1.076555</td>\n",
       "      <td>612.210526</td>\n",
       "    </tr>\n",
       "    <tr>\n",
       "      <td>7</td>\n",
       "      <td>Посуда</td>\n",
       "      <td>2</td>\n",
       "      <td>8</td>\n",
       "      <td>8</td>\n",
       "      <td>1.250000</td>\n",
       "      <td>1356.833333</td>\n",
       "      <td>2.833333</td>\n",
       "      <td>1.000000</td>\n",
       "      <td>2513.750000</td>\n",
       "    </tr>\n",
       "    <tr>\n",
       "      <td>8</td>\n",
       "      <td>Посуда</td>\n",
       "      <td>3</td>\n",
       "      <td>1</td>\n",
       "      <td>2</td>\n",
       "      <td>3.666667</td>\n",
       "      <td>177.000000</td>\n",
       "      <td>4.000000</td>\n",
       "      <td>3.000000</td>\n",
       "      <td>703.000000</td>\n",
       "    </tr>\n",
       "    <tr>\n",
       "      <td>9</td>\n",
       "      <td>Посуда</td>\n",
       "      <td>4</td>\n",
       "      <td>4</td>\n",
       "      <td>5</td>\n",
       "      <td>28.000000</td>\n",
       "      <td>95.000000</td>\n",
       "      <td>1.200000</td>\n",
       "      <td>1.400000</td>\n",
       "      <td>312.400000</td>\n",
       "    </tr>\n",
       "    <tr>\n",
       "      <td>10</td>\n",
       "      <td>Рассада</td>\n",
       "      <td>0</td>\n",
       "      <td>53</td>\n",
       "      <td>55</td>\n",
       "      <td>1.175367</td>\n",
       "      <td>112.581818</td>\n",
       "      <td>11.568915</td>\n",
       "      <td>1.212903</td>\n",
       "      <td>1143.188856</td>\n",
       "    </tr>\n",
       "    <tr>\n",
       "      <td>11</td>\n",
       "      <td>Рассада</td>\n",
       "      <td>1</td>\n",
       "      <td>2</td>\n",
       "      <td>2</td>\n",
       "      <td>4.000000</td>\n",
       "      <td>38.000000</td>\n",
       "      <td>1.000000</td>\n",
       "      <td>1.000000</td>\n",
       "      <td>38.000000</td>\n",
       "    </tr>\n",
       "    <tr>\n",
       "      <td>12</td>\n",
       "      <td>Рассада</td>\n",
       "      <td>3</td>\n",
       "      <td>6</td>\n",
       "      <td>10</td>\n",
       "      <td>2.656338</td>\n",
       "      <td>84.298592</td>\n",
       "      <td>8.447887</td>\n",
       "      <td>2.794366</td>\n",
       "      <td>635.073239</td>\n",
       "    </tr>\n",
       "    <tr>\n",
       "      <td>13</td>\n",
       "      <td>Стремянки</td>\n",
       "      <td>1</td>\n",
       "      <td>10</td>\n",
       "      <td>10</td>\n",
       "      <td>1.000000</td>\n",
       "      <td>1112.615385</td>\n",
       "      <td>2.000000</td>\n",
       "      <td>1.000000</td>\n",
       "      <td>1237.615385</td>\n",
       "    </tr>\n",
       "    <tr>\n",
       "      <td>14</td>\n",
       "      <td>Стремянки</td>\n",
       "      <td>2</td>\n",
       "      <td>25</td>\n",
       "      <td>26</td>\n",
       "      <td>1.032258</td>\n",
       "      <td>2342.161290</td>\n",
       "      <td>1.387097</td>\n",
       "      <td>1.064516</td>\n",
       "      <td>2782.612903</td>\n",
       "    </tr>\n",
       "    <tr>\n",
       "      <td>15</td>\n",
       "      <td>Текстиль</td>\n",
       "      <td>0</td>\n",
       "      <td>3</td>\n",
       "      <td>3</td>\n",
       "      <td>1.618182</td>\n",
       "      <td>89.290909</td>\n",
       "      <td>14.527273</td>\n",
       "      <td>1.000000</td>\n",
       "      <td>1936.709091</td>\n",
       "    </tr>\n",
       "    <tr>\n",
       "      <td>16</td>\n",
       "      <td>Текстиль</td>\n",
       "      <td>1</td>\n",
       "      <td>30</td>\n",
       "      <td>31</td>\n",
       "      <td>2.838710</td>\n",
       "      <td>486.064516</td>\n",
       "      <td>1.064516</td>\n",
       "      <td>1.161290</td>\n",
       "      <td>505.129032</td>\n",
       "    </tr>\n",
       "    <tr>\n",
       "      <td>17</td>\n",
       "      <td>Текстиль</td>\n",
       "      <td>2</td>\n",
       "      <td>13</td>\n",
       "      <td>13</td>\n",
       "      <td>1.357143</td>\n",
       "      <td>1927.642857</td>\n",
       "      <td>1.142857</td>\n",
       "      <td>1.071429</td>\n",
       "      <td>2077.500000</td>\n",
       "    </tr>\n",
       "    <tr>\n",
       "      <td>18</td>\n",
       "      <td>Текстиль</td>\n",
       "      <td>3</td>\n",
       "      <td>1</td>\n",
       "      <td>1</td>\n",
       "      <td>12.000000</td>\n",
       "      <td>1183.000000</td>\n",
       "      <td>1.000000</td>\n",
       "      <td>4.000000</td>\n",
       "      <td>1183.000000</td>\n",
       "    </tr>\n",
       "    <tr>\n",
       "      <td>19</td>\n",
       "      <td>Текстиль</td>\n",
       "      <td>4</td>\n",
       "      <td>1</td>\n",
       "      <td>1</td>\n",
       "      <td>27.000000</td>\n",
       "      <td>1755.000000</td>\n",
       "      <td>1.000000</td>\n",
       "      <td>2.000000</td>\n",
       "      <td>1755.000000</td>\n",
       "    </tr>\n",
       "    <tr>\n",
       "      <td>20</td>\n",
       "      <td>Тележки</td>\n",
       "      <td>1</td>\n",
       "      <td>162</td>\n",
       "      <td>165</td>\n",
       "      <td>1.023392</td>\n",
       "      <td>831.836257</td>\n",
       "      <td>1.111111</td>\n",
       "      <td>1.064327</td>\n",
       "      <td>874.643275</td>\n",
       "    </tr>\n",
       "    <tr>\n",
       "      <td>21</td>\n",
       "      <td>Тележки</td>\n",
       "      <td>2</td>\n",
       "      <td>104</td>\n",
       "      <td>107</td>\n",
       "      <td>1.017544</td>\n",
       "      <td>2411.622807</td>\n",
       "      <td>1.254386</td>\n",
       "      <td>1.087719</td>\n",
       "      <td>2745.956140</td>\n",
       "    </tr>\n",
       "    <tr>\n",
       "      <td>22</td>\n",
       "      <td>Тележки</td>\n",
       "      <td>3</td>\n",
       "      <td>3</td>\n",
       "      <td>5</td>\n",
       "      <td>1.000000</td>\n",
       "      <td>563.750000</td>\n",
       "      <td>1.500000</td>\n",
       "      <td>3.000000</td>\n",
       "      <td>584.000000</td>\n",
       "    </tr>\n",
       "    <tr>\n",
       "      <td>23</td>\n",
       "      <td>Тележки</td>\n",
       "      <td>4</td>\n",
       "      <td>1</td>\n",
       "      <td>1</td>\n",
       "      <td>57.000000</td>\n",
       "      <td>574.000000</td>\n",
       "      <td>1.000000</td>\n",
       "      <td>1.000000</td>\n",
       "      <td>574.000000</td>\n",
       "    </tr>\n",
       "    <tr>\n",
       "      <td>24</td>\n",
       "      <td>Товары для дома</td>\n",
       "      <td>0</td>\n",
       "      <td>5</td>\n",
       "      <td>5</td>\n",
       "      <td>1.270270</td>\n",
       "      <td>175.297297</td>\n",
       "      <td>12.189189</td>\n",
       "      <td>1.216216</td>\n",
       "      <td>2227.445946</td>\n",
       "    </tr>\n",
       "    <tr>\n",
       "      <td>25</td>\n",
       "      <td>Товары для дома</td>\n",
       "      <td>1</td>\n",
       "      <td>199</td>\n",
       "      <td>208</td>\n",
       "      <td>2.028754</td>\n",
       "      <td>415.747604</td>\n",
       "      <td>2.776358</td>\n",
       "      <td>1.246006</td>\n",
       "      <td>815.520767</td>\n",
       "    </tr>\n",
       "    <tr>\n",
       "      <td>26</td>\n",
       "      <td>Товары для дома</td>\n",
       "      <td>2</td>\n",
       "      <td>42</td>\n",
       "      <td>42</td>\n",
       "      <td>1.086957</td>\n",
       "      <td>1870.782609</td>\n",
       "      <td>1.347826</td>\n",
       "      <td>1.043478</td>\n",
       "      <td>2255.673913</td>\n",
       "    </tr>\n",
       "    <tr>\n",
       "      <td>27</td>\n",
       "      <td>Товары для дома</td>\n",
       "      <td>3</td>\n",
       "      <td>3</td>\n",
       "      <td>6</td>\n",
       "      <td>1.333333</td>\n",
       "      <td>522.166667</td>\n",
       "      <td>1.000000</td>\n",
       "      <td>3.500000</td>\n",
       "      <td>522.166667</td>\n",
       "    </tr>\n",
       "    <tr>\n",
       "      <td>28</td>\n",
       "      <td>Товары для дома</td>\n",
       "      <td>4</td>\n",
       "      <td>6</td>\n",
       "      <td>6</td>\n",
       "      <td>21.764706</td>\n",
       "      <td>119.529412</td>\n",
       "      <td>3.294118</td>\n",
       "      <td>1.000000</td>\n",
       "      <td>438.000000</td>\n",
       "    </tr>\n",
       "    <tr>\n",
       "      <td>29</td>\n",
       "      <td>Уход за одеждой и обувью</td>\n",
       "      <td>1</td>\n",
       "      <td>321</td>\n",
       "      <td>326</td>\n",
       "      <td>1.174935</td>\n",
       "      <td>557.488251</td>\n",
       "      <td>1.402089</td>\n",
       "      <td>1.073107</td>\n",
       "      <td>725.046997</td>\n",
       "    </tr>\n",
       "    <tr>\n",
       "      <td>30</td>\n",
       "      <td>Уход за одеждой и обувью</td>\n",
       "      <td>2</td>\n",
       "      <td>125</td>\n",
       "      <td>127</td>\n",
       "      <td>1.020979</td>\n",
       "      <td>2047.090909</td>\n",
       "      <td>1.489510</td>\n",
       "      <td>1.090909</td>\n",
       "      <td>2475.615385</td>\n",
       "    </tr>\n",
       "    <tr>\n",
       "      <td>31</td>\n",
       "      <td>Цветы</td>\n",
       "      <td>0</td>\n",
       "      <td>193</td>\n",
       "      <td>196</td>\n",
       "      <td>1.265576</td>\n",
       "      <td>136.450805</td>\n",
       "      <td>11.072300</td>\n",
       "      <td>1.142004</td>\n",
       "      <td>1434.199247</td>\n",
       "    </tr>\n",
       "    <tr>\n",
       "      <td>32</td>\n",
       "      <td>Цветы</td>\n",
       "      <td>1</td>\n",
       "      <td>376</td>\n",
       "      <td>396</td>\n",
       "      <td>1.331950</td>\n",
       "      <td>186.542185</td>\n",
       "      <td>2.881051</td>\n",
       "      <td>1.154910</td>\n",
       "      <td>527.228216</td>\n",
       "    </tr>\n",
       "    <tr>\n",
       "      <td>33</td>\n",
       "      <td>Цветы</td>\n",
       "      <td>2</td>\n",
       "      <td>16</td>\n",
       "      <td>16</td>\n",
       "      <td>1.190476</td>\n",
       "      <td>1094.571429</td>\n",
       "      <td>3.047619</td>\n",
       "      <td>1.047619</td>\n",
       "      <td>2736.428571</td>\n",
       "    </tr>\n",
       "    <tr>\n",
       "      <td>34</td>\n",
       "      <td>Цветы</td>\n",
       "      <td>3</td>\n",
       "      <td>24</td>\n",
       "      <td>58</td>\n",
       "      <td>1.433918</td>\n",
       "      <td>125.122807</td>\n",
       "      <td>6.146199</td>\n",
       "      <td>2.734503</td>\n",
       "      <td>751.157895</td>\n",
       "    </tr>\n",
       "    <tr>\n",
       "      <td>35</td>\n",
       "      <td>Цветы</td>\n",
       "      <td>4</td>\n",
       "      <td>7</td>\n",
       "      <td>7</td>\n",
       "      <td>18.727273</td>\n",
       "      <td>128.363636</td>\n",
       "      <td>2.909091</td>\n",
       "      <td>1.000000</td>\n",
       "      <td>361.363636</td>\n",
       "    </tr>\n",
       "    <tr>\n",
       "      <td>36</td>\n",
       "      <td>другое</td>\n",
       "      <td>0</td>\n",
       "      <td>56</td>\n",
       "      <td>56</td>\n",
       "      <td>1.464968</td>\n",
       "      <td>85.794055</td>\n",
       "      <td>12.632166</td>\n",
       "      <td>1.106157</td>\n",
       "      <td>1188.421975</td>\n",
       "    </tr>\n",
       "    <tr>\n",
       "      <td>37</td>\n",
       "      <td>другое</td>\n",
       "      <td>1</td>\n",
       "      <td>368</td>\n",
       "      <td>377</td>\n",
       "      <td>2.645864</td>\n",
       "      <td>297.830189</td>\n",
       "      <td>3.027576</td>\n",
       "      <td>1.068215</td>\n",
       "      <td>709.679245</td>\n",
       "    </tr>\n",
       "    <tr>\n",
       "      <td>38</td>\n",
       "      <td>другое</td>\n",
       "      <td>2</td>\n",
       "      <td>81</td>\n",
       "      <td>79</td>\n",
       "      <td>1.113208</td>\n",
       "      <td>1755.160377</td>\n",
       "      <td>2.160377</td>\n",
       "      <td>1.047170</td>\n",
       "      <td>2738.160377</td>\n",
       "    </tr>\n",
       "    <tr>\n",
       "      <td>39</td>\n",
       "      <td>другое</td>\n",
       "      <td>3</td>\n",
       "      <td>9</td>\n",
       "      <td>15</td>\n",
       "      <td>1.410596</td>\n",
       "      <td>105.019868</td>\n",
       "      <td>9.741722</td>\n",
       "      <td>2.774834</td>\n",
       "      <td>976.761589</td>\n",
       "    </tr>\n",
       "    <tr>\n",
       "      <td>40</td>\n",
       "      <td>другое</td>\n",
       "      <td>4</td>\n",
       "      <td>33</td>\n",
       "      <td>33</td>\n",
       "      <td>27.891304</td>\n",
       "      <td>141.521739</td>\n",
       "      <td>2.413043</td>\n",
       "      <td>1.108696</td>\n",
       "      <td>368.413043</td>\n",
       "    </tr>\n",
       "  </tbody>\n",
       "</table>\n",
       "</div>"
      ],
      "text/plain": [
       "                   product_class  cluster  customer_id  order_id   quantity  \\\n",
       "0   Искусственные цветы и муляжи        0            5         5   1.569427   \n",
       "1   Искусственные цветы и муляжи        1          143       148   2.768844   \n",
       "2   Искусственные цветы и муляжи        2            1         1   3.100000   \n",
       "3   Искусственные цветы и муляжи        3            3         8   8.625000   \n",
       "4   Искусственные цветы и муляжи        4           26        23  35.414634   \n",
       "5                         Посуда        0            2         2   1.000000   \n",
       "6                         Посуда        1           81        84   2.583732   \n",
       "7                         Посуда        2            8         8   1.250000   \n",
       "8                         Посуда        3            1         2   3.666667   \n",
       "9                         Посуда        4            4         5  28.000000   \n",
       "10                       Рассада        0           53        55   1.175367   \n",
       "11                       Рассада        1            2         2   4.000000   \n",
       "12                       Рассада        3            6        10   2.656338   \n",
       "13                     Стремянки        1           10        10   1.000000   \n",
       "14                     Стремянки        2           25        26   1.032258   \n",
       "15                      Текстиль        0            3         3   1.618182   \n",
       "16                      Текстиль        1           30        31   2.838710   \n",
       "17                      Текстиль        2           13        13   1.357143   \n",
       "18                      Текстиль        3            1         1  12.000000   \n",
       "19                      Текстиль        4            1         1  27.000000   \n",
       "20                       Тележки        1          162       165   1.023392   \n",
       "21                       Тележки        2          104       107   1.017544   \n",
       "22                       Тележки        3            3         5   1.000000   \n",
       "23                       Тележки        4            1         1  57.000000   \n",
       "24               Товары для дома        0            5         5   1.270270   \n",
       "25               Товары для дома        1          199       208   2.028754   \n",
       "26               Товары для дома        2           42        42   1.086957   \n",
       "27               Товары для дома        3            3         6   1.333333   \n",
       "28               Товары для дома        4            6         6  21.764706   \n",
       "29      Уход за одеждой и обувью        1          321       326   1.174935   \n",
       "30      Уход за одеждой и обувью        2          125       127   1.020979   \n",
       "31                         Цветы        0          193       196   1.265576   \n",
       "32                         Цветы        1          376       396   1.331950   \n",
       "33                         Цветы        2           16        16   1.190476   \n",
       "34                         Цветы        3           24        58   1.433918   \n",
       "35                         Цветы        4            7         7  18.727273   \n",
       "36                        другое        0           56        56   1.464968   \n",
       "37                        другое        1          368       377   2.645864   \n",
       "38                        другое        2           81        79   1.113208   \n",
       "39                        другое        3            9        15   1.410596   \n",
       "40                        другое        4           33        33  27.891304   \n",
       "\n",
       "          price  products_in_order  orders_by_customer    avg_order  \n",
       "0     87.192357          14.963057            1.000000  1468.141401  \n",
       "1     55.515075           6.482412            1.055276   344.447236  \n",
       "2    114.800000          11.000000            1.000000  3097.000000  \n",
       "3     22.250000           1.000000            3.000000    22.250000  \n",
       "4     46.829268           2.317073            1.024390   122.439024  \n",
       "5    241.224806          16.534884            1.000000  1882.093023  \n",
       "6    157.382775           4.904306            1.076555   612.210526  \n",
       "7   1356.833333           2.833333            1.000000  2513.750000  \n",
       "8    177.000000           4.000000            3.000000   703.000000  \n",
       "9     95.000000           1.200000            1.400000   312.400000  \n",
       "10   112.581818          11.568915            1.212903  1143.188856  \n",
       "11    38.000000           1.000000            1.000000    38.000000  \n",
       "12    84.298592           8.447887            2.794366   635.073239  \n",
       "13  1112.615385           2.000000            1.000000  1237.615385  \n",
       "14  2342.161290           1.387097            1.064516  2782.612903  \n",
       "15    89.290909          14.527273            1.000000  1936.709091  \n",
       "16   486.064516           1.064516            1.161290   505.129032  \n",
       "17  1927.642857           1.142857            1.071429  2077.500000  \n",
       "18  1183.000000           1.000000            4.000000  1183.000000  \n",
       "19  1755.000000           1.000000            2.000000  1755.000000  \n",
       "20   831.836257           1.111111            1.064327   874.643275  \n",
       "21  2411.622807           1.254386            1.087719  2745.956140  \n",
       "22   563.750000           1.500000            3.000000   584.000000  \n",
       "23   574.000000           1.000000            1.000000   574.000000  \n",
       "24   175.297297          12.189189            1.216216  2227.445946  \n",
       "25   415.747604           2.776358            1.246006   815.520767  \n",
       "26  1870.782609           1.347826            1.043478  2255.673913  \n",
       "27   522.166667           1.000000            3.500000   522.166667  \n",
       "28   119.529412           3.294118            1.000000   438.000000  \n",
       "29   557.488251           1.402089            1.073107   725.046997  \n",
       "30  2047.090909           1.489510            1.090909  2475.615385  \n",
       "31   136.450805          11.072300            1.142004  1434.199247  \n",
       "32   186.542185           2.881051            1.154910   527.228216  \n",
       "33  1094.571429           3.047619            1.047619  2736.428571  \n",
       "34   125.122807           6.146199            2.734503   751.157895  \n",
       "35   128.363636           2.909091            1.000000   361.363636  \n",
       "36    85.794055          12.632166            1.106157  1188.421975  \n",
       "37   297.830189           3.027576            1.068215   709.679245  \n",
       "38  1755.160377           2.160377            1.047170  2738.160377  \n",
       "39   105.019868           9.741722            2.774834   976.761589  \n",
       "40   141.521739           2.413043            1.108696   368.413043  "
      ]
     },
     "execution_count": 69,
     "metadata": {},
     "output_type": "execute_result"
    }
   ],
   "source": [
    "data_cluster = (data_total.groupby(['product_class', 'cluster'])\n",
    ".agg({'customer_id': ['nunique'], 'order_id': ['nunique'],\\\n",
    "      'quantity': ['mean'], 'price': ['mean'], 'products_in_order': ['mean'],\\\n",
    "      'orders_by_customer': ['mean'], 'avg_order': ['mean']})\n",
    ".reset_index())\n",
    "data_cluster.columns = (['product_class', 'cluster', 'customer_id', 'order_id', \\\n",
    "                         'quantity', 'price', 'products_in_order', 'orders_by_customer', 'avg_order'])\n",
    "\n",
    "data_cluster"
   ]
  },
  {
   "cell_type": "markdown",
   "metadata": {},
   "source": [
    "Группа A.\n",
    "Среднее количество позиций в чеке - 9-11. Покупают в основном рассаду и цветы. Средний чек около 1000 руб.\n",
    "\n",
    "Группа B.\n",
    "Средняя цена товара около 2000 руб. Один товар в одном чеке. Средний чек - 2500 руб. Покупают в основном стремянки, тележки и товары для ухода за одеждой (гладильные доски).\n",
    "\n",
    "Группа C. \n",
    "Средняя цена товара около 500 руб. Один товар в одном чеке. Средний чек - 500 руб. Покупают все группы товаров. Самая многочисленная группа.\n",
    "\n",
    "Группа D.\n",
    "\"Оптовые\" покупатели. Количество товара одной категории в одном чеке около 30 шт. Покупают дешевые товары, средний чек до 500 рублей.\n",
    "\n",
    "\n",
    "Группа E.\n",
    "Постоянные покупатели. Совершают в магазине повторные покупки. Среднее количество позиций в чеке - 5-6. Покупают все группы товаров. Средний чек около 500 руб. Малочисленная группа."
   ]
  },
  {
   "cell_type": "markdown",
   "metadata": {},
   "source": [
    "### 4. Сформулировать и проверить гипотезы. <a class=\"anchor\" id=\"17-bullet\"></a>\n",
    "👈[назад к оглавлению](#0-bullet)"
   ]
  },
  {
   "cell_type": "markdown",
   "metadata": {},
   "source": [
    "###### Нулевая гипотеза: средний чек в категории \"Уход за одеждой и обувью\" и \"Товары для дома\" одинаков. Альтернативная гипотеза: средний чек в категории \"Уход за одеждой и обувью\" и \"Товары для дома\" различается."
   ]
  },
  {
   "cell_type": "code",
   "execution_count": 70,
   "metadata": {},
   "outputs": [
    {
     "name": "stdout",
     "output_type": "stream",
     "text": [
      "count     526.000000\n",
      "mean     1200.961977\n",
      "std      1004.002498\n",
      "min        75.000000\n",
      "25%       487.000000\n",
      "50%       787.000000\n",
      "75%      1648.000000\n",
      "max      4874.000000\n",
      "Name: avg_order, dtype: float64\n"
     ]
    },
    {
     "data": {
      "image/png": "[encoded data removed]",
      "text/plain": [
       "<Figure size 576x432 with 1 Axes>"
      ]
     },
     "metadata": {
      "needs_background": "light"
     },
     "output_type": "display_data"
    },
    {
     "data": {
      "image/png": "[encoded data removed]",
      "text/plain": [
       "<Figure size 432x288 with 1 Axes>"
      ]
     },
     "metadata": {
      "needs_background": "light"
     },
     "output_type": "display_data"
    },
    {
     "name": "stdout",
     "output_type": "stream",
     "text": [
      "count     456.000000\n",
      "mean     1171.993421\n",
      "std       842.351657\n",
      "min        32.000000\n",
      "25%       358.000000\n",
      "50%      1039.000000\n",
      "75%      1780.000000\n",
      "max      3674.000000\n",
      "Name: avg_order, dtype: float64\n"
     ]
    },
    {
     "data": {
      "image/png": "[encoded data removed]",
      "text/plain": [
       "<Figure size 576x432 with 1 Axes>"
      ]
     },
     "metadata": {
      "needs_background": "light"
     },
     "output_type": "display_data"
    },
    {
     "data": {
      "image/png": "[encoded data removed]",
      "text/plain": [
       "<Figure size 432x288 with 1 Axes>"
      ]
     },
     "metadata": {
      "needs_background": "light"
     },
     "output_type": "display_data"
    }
   ],
   "source": [
    "data_total_footwear = data_total.query('product_class == \"Уход за одеждой и обувью\"')\n",
    "data_total_footwear_array = data_total_footwear['avg_order'].to_numpy()\n",
    "\n",
    "data_total_household = data_total.query('product_class == \"Товары для дома\"')\n",
    "data_total_household_array = data_total_household['avg_order'].to_numpy()\n",
    "\n",
    "print(data_total_footwear['avg_order'].describe())\n",
    "data_total_footwear['avg_order'] \\\n",
    ".plot(kind='hist', bins=25, title='Средний чек, категория \"Уход за одеждой и обувью\"', figsize=(8, 6), legend=True)\n",
    "plt.show()\n",
    "\n",
    "data_total_footwear.boxplot(column = 'avg_order')\n",
    "plt.title('Средний чек, категория \"Уход за одеждой и обувью\"')\n",
    "plt.show()\n",
    "\n",
    "print(data_total_household['avg_order'].describe())\n",
    "data_total_household['avg_order'] \\\n",
    ".plot(kind='hist', bins=25, title='Средний чек, категория \"Товары для дома\"', figsize=(8, 6), legend=True)\n",
    "plt.show()\n",
    "\n",
    "data_total_household.boxplot(column = 'avg_order')\n",
    "plt.title('Средний чек, категория \"Товары для дома\"')\n",
    "plt.show()"
   ]
  },
  {
   "cell_type": "code",
   "execution_count": 71,
   "metadata": {},
   "outputs": [
    {
     "name": "stdout",
     "output_type": "stream",
     "text": [
      "(526,)\n",
      "(456,)\n"
     ]
    }
   ],
   "source": [
    "print(data_total_footwear_array.shape)\n",
    "print(data_total_household_array.shape)\n",
    "data_total_household_array_657 = random.choices(data_total_household_array, k=752)"
   ]
  },
  {
   "cell_type": "code",
   "execution_count": 72,
   "metadata": {},
   "outputs": [
    {
     "name": "stdout",
     "output_type": "stream",
     "text": [
      "p-значение: 0.8602734582044596\n",
      "Не получилось отвергнуть нулевую гипотезу\n"
     ]
    }
   ],
   "source": [
    "alpha = .05 # критический уровень статистической значимости\n",
    "            # если p-value окажется меньше него - отвергнем гипотезу\n",
    "\n",
    "results = st.ttest_ind(\n",
    "    data_total_footwear_array, \n",
    "    data_total_household_array_657)\n",
    "\n",
    "print('p-значение:', results.pvalue)\n",
    "\n",
    "if results.pvalue < alpha:\n",
    "    print(\"Отвергаем нулевую гипотезу\")\n",
    "else:\n",
    "    print(\"Не получилось отвергнуть нулевую гипотезу\")"
   ]
  },
  {
   "cell_type": "markdown",
   "metadata": {},
   "source": [
    "###### Вывод\n",
    "\n",
    "Не получилось отвергнуть нулевую гипотезу. Средний чек в категории \"Уход за одеждой и обувью\" и \"Товары для дома\" одинаков. "
   ]
  },
  {
   "cell_type": "markdown",
   "metadata": {},
   "source": [
    "### Персонализированное предложение для групп покупателей<a class=\"anchor\" id=\"18-bullet\"></a>\n",
    "👈[назад к оглавлению](#0-bullet)"
   ]
  },
  {
   "cell_type": "markdown",
   "metadata": {},
   "source": [
    "### Группа A.\n",
    "Среднее количество позиций в чеке - 9-11. Покупают в основном рассаду и цветы. Средний чек около 1000 руб.\n",
    "#### Персонализированное предложение.\n",
    "12-й товар в чеке бесплатно при сумме в чеке от 1200 рублей при покупке рассады и цветов. Направлено на увеличение количества позиций в чеке и среднего чека.\n",
    "\n",
    "### Группа B.\n",
    "\n",
    "Средняя цена товара около 2000 руб. Один товар в одном чеке. Средний чек - 2500 руб. Покупают в основном стремянки, тележки и товары для ухода за одеждой (гладильные доски).\n",
    "#### Персонализированное предложение.\n",
    "Скидка на группу товаров стремянки, тележки и гладильные доски.\n",
    "\n",
    "\n",
    "### Группа C. \n",
    "\n",
    "Средняя цена товара около 500 руб. Один товар в одном чеке. Средний чек - 500 руб. Покупают все группы товаров. Самая многочисленная группа.\n",
    "#### Персонализированное предложение.\n",
    "Скидка на второй заказ в магазине при сумме чека от 600 рублей.\n",
    "\n",
    "\n",
    "### Группа D.\n",
    "\n",
    "\"Оптовые\" покупатели. Количество товара одной категории в одном чеке около 30 шт. Покупают дешевые товары, средний чек до 500 рублей.\n",
    "#### Персонализированное предложение.\n",
    "31-й товар одного наименования бесплатно при сумме чека от 600 рублей.\n",
    "\n",
    "### Группа E.\n",
    "\n",
    "Постоянные покупатели. Совершают в магазине повторные покупки. Среднее количество позиций в чеке - 5-6. Покупают все группы товаров. Средний чек около 500 руб. Малочисленная группа.\n",
    "#### Персонализированное предложение.\n",
    "Возможность выбрать подарок на сумму до 50 рублей при повторной покупке на сумму от 600 рублей.\n"
   ]
  },
  {
   "cell_type": "markdown",
   "metadata": {},
   "source": [
    "### 6. Презентация <a class=\"anchor\" id=\"19-bullet\"></a>\n",
    "Ссылка на обновленную презентацию\n",
    "https://yadi.sk/d/3I1c90k2F0cW-A\n",
    "\n",
    "👈[назад к оглавлению](#0-bullet)"
   ]
  },
  {
   "cell_type": "code",
   "execution_count": null,
   "metadata": {},
   "outputs": [],
   "source": []
  }
 ],
 "metadata": {
  "kernelspec": {
   "display_name": "Python 3",
   "language": "python",
   "name": "python3"
  },
  "language_info": {
   "codemirror_mode": {
    "name": "ipython",
    "version": 3
   },
   "file_extension": ".py",
   "mimetype": "text/x-python",
   "name": "python",
   "nbconvert_exporter": "python",
   "pygments_lexer": "ipython3",
   "version": "3.7.6"
  }
 },
 "nbformat": 4,
 "nbformat_minor": 2
}
